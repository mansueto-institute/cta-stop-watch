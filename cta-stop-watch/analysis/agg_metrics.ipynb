{
 "cells": [
  {
   "cell_type": "code",
   "execution_count": 1,
   "metadata": {},
   "outputs": [],
   "source": [
    "from stop_metrics import create_combined_metrics_stop_df, time_to_next_stop\n",
    "from trip_metrics import create_combined_metrics_trip_df\n",
    "from utils import create_trips_df, create_trips_df_pid\n",
    "from create_metrics import create_metrics\n",
    "import matplotlib.pyplot as plt\n",
    "import random\n",
    "import plotly.express as px\n",
    "import polars as pl\n",
    "import pandas as pd\n"
   ]
  },
  {
   "cell_type": "code",
   "execution_count": null,
   "metadata": {},
   "outputs": [],
   "source": [
    "def weighted_metric_grouping(df, period, metric, count, grouping):\n",
    "    df = df.filter(pl.col('period') == period)\n",
    "    df = df.with_columns(pl.col(count).sum().over(['period_value',grouping]).alias('trip_count'))\n",
    "    df = df.with_columns((pl.col(count) / pl.col('trip_count')).alias('time_till_weight'))\n",
    "\n",
    "    df_filtered = df.select(['rt','pid','period_value','community','time_till_weight', metric])\n",
    "    df_filtered = df_filtered.filter(pl.col('time_till_weight').is_not_nan())\n",
    "\n",
    "    df_filtered = df_filtered.sort(metric)\n",
    "\n",
    "    # Calculate the cumulative sum of 'indweight'\n",
    "    df_filtered = df_filtered.with_columns(pl.col(\"time_till_weight\").cum_sum().over(['period_value',grouping]).alias(\"cum_sum\"))\n",
    "\n",
    "\n",
    "    #Find the median then take first value\n",
    "    median = df_filtered.filter(pl.col(\"cum_sum\")>= 0.5)\n",
    "    final = median.group_by(['period_value',grouping], maintain_order=True).first().filter(pl.col(\"period_value\")!= '2022-05-01').sort(\"period_value\")\n",
    "    final = final.with_columns((pl.col(metric).dt.total_seconds() / 60).alias(\"median_minutes\"))\n",
    "\n",
    "    return final.select(['period_value',grouping,'median_minutes'])"
   ]
  },
  {
   "cell_type": "code",
   "execution_count": 2,
   "metadata": {},
   "outputs": [],
   "source": [
    "def average_by(df:pd.DataFrame, grouping:str, period:str, metrics:list):\n",
    "    \"\"\"\n",
    "    grouping helper function \n",
    "    # TODO weighted mean here, maybe switch to polars\n",
    "    \"\"\"\n",
    "    if 'community' in df.columns:\n",
    "        df = df[['rt','period','period_value', 'community']+metrics]\n",
    "    else: \n",
    "        df = df[['rt','period','period_value']+metrics]\n",
    "        \n",
    "    if period == \"one_value\":\n",
    "        by_period = df[df['period'] == 'dayofyear']\n",
    "        by_period_grouped = by_period.groupby([grouping])[metrics].median().reset_index()\n",
    "\n",
    "    elif period == 2024:\n",
    "        # only 2024 data\n",
    "        by_period = df[(df['period'] == 'year') & (df['period_value'] == '2024')] \n",
    "        by_period_grouped = by_period.groupby([grouping])[metrics].median().reset_index()\n",
    "\n",
    "    elif period in df['period'].unique():\n",
    "        by_period = df[df['period']== period]\n",
    "        # df.groupby(df.index).apply(lambda x: np.average(x.wt, weights=x.value))\n",
    "\n",
    "        by_period_grouped = by_period.groupby([grouping,'period_value'])[metrics].median().reset_index()\n",
    "    else:\n",
    "        print(\"Invalid period\")\n",
    "        \n",
    "    #convert to minutes\n",
    "    for metric in metrics:\n",
    "        if 'num_buses' not in metric:\n",
    "            by_period_grouped[metric] = by_period_grouped[metric].dt.total_seconds()/60\n",
    "\n",
    "    \n",
    "    return by_period_grouped"
   ]
  },
  {
   "cell_type": "code",
   "execution_count": 3,
   "metadata": {},
   "outputs": [],
   "source": [
    "def load_metrics():\n",
    "    \"\"\"\n",
    "    Load metrics, combine them, add in community stop crosswalk, and remove weird routes\n",
    "    \"\"\"\n",
    "    #loading data\n",
    "    ca_xwalk = pl.read_parquet('communities_stops.parquet')\n",
    "    ca_xwalk = ca_xwalk.select(['community','stpid']).rename({'stpid':'stop_id'})\n",
    "\n",
    "    total_stops = pl.read_parquet('out/stops_metrics_all_periods.parquet')\n",
    "    total_trips = pl.read_parquet('out/trips_metrics_all_periods.parquet')\n",
    "\n",
    "    # take out weird routes\n",
    "    total_trips = total_trips.filter(~pl.col('rt').is_in(['5','169']))\n",
    "    total_stops = total_stops.filter(~pl.col('rt').is_in(['5','169']))\n",
    "\n",
    "    return total_stops, total_trips"
   ]
  },
  {
   "cell_type": "code",
   "execution_count": 4,
   "metadata": {},
   "outputs": [],
   "source": [
    "def create_summary_metrics(df_stops, df_trips, grouping:str, period:str):\n",
    "    \"\"\"\n",
    "    Load the metrics, average them by a grouping (route:'rt' or community \n",
    "    area: 'community_area) and period ('hour','weekday','dayofyear','week',\n",
    "    'month','year', 'one_value': median of all day metrics, '2024': filter \n",
    "    to year and 2024), and return the dataframe\n",
    "    \"\"\"\n",
    "\n",
    "\n",
    "    # total_stops, total_trips = load_metrics()\n",
    "    \n",
    "    metrics_stop = ['median_actual_time_till_next_bus','std_actual_time_till_next_bus','time_till_next_bus_delay','median_schedule_time_till_next_bus', 'std_schedule_time_till_next_bus',\n",
    "                'median_schedule_num_buses', 'median_actual_num_buses']\n",
    "    \n",
    "    metrics_trip = ['median_actual_trip_duration', 'median_schedule_trip_duration']\n",
    "    \n",
    "    if grouping == 'rt':\n",
    "        avg_stops = average_by(df_stops.to_pandas(),grouping, period, metrics_stop)\n",
    "        metrics_trip = ['median_actual_trip_duration', 'median_schedule_trip_duration']\n",
    "        avg_trips = average_by(df_trips.to_pandas(),grouping, period, metrics_trip)\n",
    "        avg_trips['trip_delay'] = avg_trips['median_actual_trip_duration'] - avg_trips['median_schedule_trip_duration']\n",
    "        avg_stops['bus_excess'] = avg_stops['median_actual_num_buses'] - avg_stops['median_schedule_num_buses']\n",
    "        if period in ['one_value',2024]:\n",
    "            all_metrics_rts = avg_stops.join(avg_trips.set_index(grouping), on=grouping)\n",
    "        else:   \n",
    "            all_metrics_rts = avg_stops.join(avg_trips.set_index([grouping,'period_value']), on=[grouping,'period_value'])\n",
    "        return all_metrics_rts\n",
    "    \n",
    "    elif grouping == 'community_area':\n",
    "        all_metrics_ca = average_by(df_stops.to_pandas(),'community', period, metrics_stop)\n",
    "        all_metrics_ca['bus_excess'] = all_metrics_ca['median_actual_num_buses'] - all_metrics_ca['median_schedule_num_buses']\n",
    "\n",
    "        return all_metrics_ca\n",
    "\n",
    "    \n"
   ]
  },
  {
   "cell_type": "code",
   "execution_count": 4,
   "metadata": {},
   "outputs": [],
   "source": [
    "total_stops, total_trips = load_metrics()"
   ]
  },
  {
   "cell_type": "code",
   "execution_count": 8,
   "metadata": {},
   "outputs": [
    {
     "name": "stdout",
     "output_type": "stream",
     "text": [
      "      rt  median_actual_time_till_next_bus  std_actual_time_till_next_bus  \\\n",
      "0      1                         15.670872                     334.818991   \n",
      "1    100                         20.153942                     355.481222   \n",
      "2    103                         17.769398                       8.834920   \n",
      "3    106                         15.597478                      75.837921   \n",
      "4    108                         17.004015                       7.172553   \n",
      "..   ...                               ...                            ...   \n",
      "115   96                         19.982009                      12.998692   \n",
      "116   97                         19.885183                      84.921098   \n",
      "117  J14                         13.234371                      22.839885   \n",
      "118  X49                         10.022932                     284.825046   \n",
      "119   X9                         11.793912                      42.491587   \n",
      "\n",
      "     time_till_next_bus_delay  median_schedule_time_till_next_bus  \\\n",
      "0                    0.125233                           15.566667   \n",
      "1                    0.766342                           20.000000   \n",
      "2                   -0.102772                           18.000000   \n",
      "3                    0.595811                           15.000000   \n",
      "4                    0.055793                           16.800000   \n",
      "..                        ...                                 ...   \n",
      "115                 -0.120304                           17.000000   \n",
      "116                  0.211107                           20.000000   \n",
      "117                  0.634358                           10.500000   \n",
      "118                  0.565578                            9.466667   \n",
      "119                  0.733282                           11.000000   \n",
      "\n",
      "     std_schedule_time_till_next_bus  median_schedule_num_buses  \\\n",
      "0                         324.143061                     2675.0   \n",
      "1                         349.931011                     2247.0   \n",
      "2                           3.190612                     1070.0   \n",
      "3                          72.947041                     1957.0   \n",
      "4                           2.290720                      428.0   \n",
      "..                               ...                        ...   \n",
      "115                         4.619545                     2354.0   \n",
      "116                        82.824719                     6276.0   \n",
      "117                         3.467555                     7846.0   \n",
      "118                       277.260423                     4066.0   \n",
      "119                        41.296922                     1343.0   \n",
      "\n",
      "     median_actual_num_buses  \n",
      "0                     2510.0  \n",
      "1                     2204.0  \n",
      "2                     1059.0  \n",
      "3                     1679.0  \n",
      "4                      423.0  \n",
      "..                       ...  \n",
      "115                   2253.0  \n",
      "116                   6017.0  \n",
      "117                   7156.0  \n",
      "118                   3843.5  \n",
      "119                   1282.0  \n",
      "\n",
      "[120 rows x 8 columns]\n"
     ]
    }
   ],
   "source": [
    "all_metrics_rt_2024 = create_summary_metrics(total_stops, total_trips, 'rt', 2024)\n"
   ]
  },
  {
   "cell_type": "code",
   "execution_count": null,
   "metadata": {},
   "outputs": [],
   "source": [
    "#create some tables for the exploration \n",
    "\n",
    "# all_metrics_rt_month = create_summary_metrics(total_stops, total_trips, 'rt', 'month')\n",
    "# all_metrics_rt_hour = create_summary_metrics(total_stops, total_trips, 'rt', 'hour')\n",
    "# all_metrics_rt_weekday = create_summary_metrics(total_stops, total_trips,'rt', 'weekday')\n",
    "# all_metrics_rt_year = create_summary_metrics(total_stops, total_trips,'rt', 'year')\n",
    "all_metrics_rt_week_abs = create_summary_metrics(total_stops_add, total_trips_add, 'rt', 'week_abs')\n",
    "all_metrics_rt_month_abs = create_summary_metrics(total_stops_add, total_trips_add,'rt', 'month_abs')\n",
    "\n",
    "combined = pd.concat([all_metrics_rt_month, all_metrics_rt_hour, all_metrics_rt_weekday, all_metrics_rt_year, all_metrics_rt_week_abs,all_metrics_rt_month_abs])\n"
   ]
  },
  {
   "cell_type": "code",
   "execution_count": 18,
   "metadata": {},
   "outputs": [
    {
     "data": {
      "text/html": [
       "<div>\n",
       "<style scoped>\n",
       "    .dataframe tbody tr th:only-of-type {\n",
       "        vertical-align: middle;\n",
       "    }\n",
       "\n",
       "    .dataframe tbody tr th {\n",
       "        vertical-align: top;\n",
       "    }\n",
       "\n",
       "    .dataframe thead th {\n",
       "        text-align: right;\n",
       "    }\n",
       "</style>\n",
       "<table border=\"1\" class=\"dataframe\">\n",
       "  <thead>\n",
       "    <tr style=\"text-align: right;\">\n",
       "      <th></th>\n",
       "      <th>rt</th>\n",
       "      <th>period_value</th>\n",
       "      <th>median_actual_time_till_next_bus</th>\n",
       "      <th>std_actual_time_till_next_bus</th>\n",
       "      <th>time_till_next_bus_delay</th>\n",
       "      <th>median_schedule_time_till_next_bus</th>\n",
       "      <th>std_schedule_time_till_next_bus</th>\n",
       "      <th>median_schedule_num_buses</th>\n",
       "      <th>median_actual_num_buses</th>\n",
       "      <th>bus_excess</th>\n",
       "      <th>median_actual_trip_duration</th>\n",
       "      <th>median_schedule_trip_duration</th>\n",
       "      <th>trip_delay</th>\n",
       "    </tr>\n",
       "  </thead>\n",
       "  <tbody>\n",
       "    <tr>\n",
       "      <th>0</th>\n",
       "      <td>1</td>\n",
       "      <td>1</td>\n",
       "      <td>15.537642</td>\n",
       "      <td>320.383892</td>\n",
       "      <td>-0.069920</td>\n",
       "      <td>15.500000</td>\n",
       "      <td>517.999404</td>\n",
       "      <td>494.0</td>\n",
       "      <td>508.5</td>\n",
       "      <td>14.5</td>\n",
       "      <td>36.726002</td>\n",
       "      <td>31.0</td>\n",
       "      <td>5.726002</td>\n",
       "    </tr>\n",
       "    <tr>\n",
       "      <th>1</th>\n",
       "      <td>1</td>\n",
       "      <td>2</td>\n",
       "      <td>15.461163</td>\n",
       "      <td>323.573718</td>\n",
       "      <td>-0.221402</td>\n",
       "      <td>15.483333</td>\n",
       "      <td>324.303945</td>\n",
       "      <td>425.0</td>\n",
       "      <td>495.5</td>\n",
       "      <td>70.5</td>\n",
       "      <td>36.788603</td>\n",
       "      <td>32.5</td>\n",
       "      <td>4.288603</td>\n",
       "    </tr>\n",
       "    <tr>\n",
       "      <th>2</th>\n",
       "      <td>1</td>\n",
       "      <td>3</td>\n",
       "      <td>15.438998</td>\n",
       "      <td>347.651206</td>\n",
       "      <td>-0.071545</td>\n",
       "      <td>15.483333</td>\n",
       "      <td>327.951535</td>\n",
       "      <td>525.0</td>\n",
       "      <td>521.5</td>\n",
       "      <td>-3.5</td>\n",
       "      <td>36.901218</td>\n",
       "      <td>34.0</td>\n",
       "      <td>2.901218</td>\n",
       "    </tr>\n",
       "    <tr>\n",
       "      <th>3</th>\n",
       "      <td>1</td>\n",
       "      <td>4</td>\n",
       "      <td>15.670397</td>\n",
       "      <td>329.068820</td>\n",
       "      <td>0.273250</td>\n",
       "      <td>15.483333</td>\n",
       "      <td>324.525114</td>\n",
       "      <td>525.0</td>\n",
       "      <td>481.5</td>\n",
       "      <td>-43.5</td>\n",
       "      <td>37.182187</td>\n",
       "      <td>32.0</td>\n",
       "      <td>5.182187</td>\n",
       "    </tr>\n",
       "    <tr>\n",
       "      <th>4</th>\n",
       "      <td>1</td>\n",
       "      <td>5</td>\n",
       "      <td>15.967163</td>\n",
       "      <td>361.950871</td>\n",
       "      <td>0.581611</td>\n",
       "      <td>15.483333</td>\n",
       "      <td>5231.402394</td>\n",
       "      <td>525.0</td>\n",
       "      <td>486.5</td>\n",
       "      <td>-38.5</td>\n",
       "      <td>37.666500</td>\n",
       "      <td>32.5</td>\n",
       "      <td>5.166500</td>\n",
       "    </tr>\n",
       "    <tr>\n",
       "      <th>...</th>\n",
       "      <td>...</td>\n",
       "      <td>...</td>\n",
       "      <td>...</td>\n",
       "      <td>...</td>\n",
       "      <td>...</td>\n",
       "      <td>...</td>\n",
       "      <td>...</td>\n",
       "      <td>...</td>\n",
       "      <td>...</td>\n",
       "      <td>...</td>\n",
       "      <td>...</td>\n",
       "      <td>...</td>\n",
       "      <td>...</td>\n",
       "    </tr>\n",
       "    <tr>\n",
       "      <th>3274</th>\n",
       "      <td>X9</td>\n",
       "      <td>2024-01-01 00:00:00</td>\n",
       "      <td>13.028521</td>\n",
       "      <td>42.781422</td>\n",
       "      <td>1.518146</td>\n",
       "      <td>11.000000</td>\n",
       "      <td>42.510396</td>\n",
       "      <td>297.0</td>\n",
       "      <td>278.0</td>\n",
       "      <td>-19.0</td>\n",
       "      <td>88.054202</td>\n",
       "      <td>83.0</td>\n",
       "      <td>5.054202</td>\n",
       "    </tr>\n",
       "    <tr>\n",
       "      <th>3275</th>\n",
       "      <td>X9</td>\n",
       "      <td>2024-02-01 00:00:00</td>\n",
       "      <td>12.529681</td>\n",
       "      <td>42.900167</td>\n",
       "      <td>1.139929</td>\n",
       "      <td>11.000000</td>\n",
       "      <td>42.501516</td>\n",
       "      <td>283.5</td>\n",
       "      <td>270.5</td>\n",
       "      <td>-13.0</td>\n",
       "      <td>90.405004</td>\n",
       "      <td>83.0</td>\n",
       "      <td>7.405004</td>\n",
       "    </tr>\n",
       "    <tr>\n",
       "      <th>3276</th>\n",
       "      <td>X9</td>\n",
       "      <td>2024-03-01 00:00:00</td>\n",
       "      <td>12.139489</td>\n",
       "      <td>41.840264</td>\n",
       "      <td>0.761862</td>\n",
       "      <td>11.000000</td>\n",
       "      <td>41.813344</td>\n",
       "      <td>271.0</td>\n",
       "      <td>260.0</td>\n",
       "      <td>-11.0</td>\n",
       "      <td>88.159518</td>\n",
       "      <td>84.5</td>\n",
       "      <td>3.659518</td>\n",
       "    </tr>\n",
       "    <tr>\n",
       "      <th>3277</th>\n",
       "      <td>X9</td>\n",
       "      <td>2024-04-01 00:00:00</td>\n",
       "      <td>10.935800</td>\n",
       "      <td>41.461688</td>\n",
       "      <td>-0.064200</td>\n",
       "      <td>11.000000</td>\n",
       "      <td>39.989162</td>\n",
       "      <td>286.0</td>\n",
       "      <td>278.0</td>\n",
       "      <td>-8.0</td>\n",
       "      <td>89.702337</td>\n",
       "      <td>87.5</td>\n",
       "      <td>2.202337</td>\n",
       "    </tr>\n",
       "    <tr>\n",
       "      <th>3278</th>\n",
       "      <td>X9</td>\n",
       "      <td>2024-05-01 00:00:00</td>\n",
       "      <td>10.712208</td>\n",
       "      <td>43.326328</td>\n",
       "      <td>-0.145991</td>\n",
       "      <td>11.000000</td>\n",
       "      <td>39.981671</td>\n",
       "      <td>273.0</td>\n",
       "      <td>279.0</td>\n",
       "      <td>6.0</td>\n",
       "      <td>91.404775</td>\n",
       "      <td>87.5</td>\n",
       "      <td>3.904775</td>\n",
       "    </tr>\n",
       "  </tbody>\n",
       "</table>\n",
       "<p>21560 rows × 13 columns</p>\n",
       "</div>"
      ],
      "text/plain": [
       "      rt         period_value  median_actual_time_till_next_bus  \\\n",
       "0      1                    1                         15.537642   \n",
       "1      1                    2                         15.461163   \n",
       "2      1                    3                         15.438998   \n",
       "3      1                    4                         15.670397   \n",
       "4      1                    5                         15.967163   \n",
       "...   ..                  ...                               ...   \n",
       "3274  X9  2024-01-01 00:00:00                         13.028521   \n",
       "3275  X9  2024-02-01 00:00:00                         12.529681   \n",
       "3276  X9  2024-03-01 00:00:00                         12.139489   \n",
       "3277  X9  2024-04-01 00:00:00                         10.935800   \n",
       "3278  X9  2024-05-01 00:00:00                         10.712208   \n",
       "\n",
       "      std_actual_time_till_next_bus  time_till_next_bus_delay  \\\n",
       "0                        320.383892                 -0.069920   \n",
       "1                        323.573718                 -0.221402   \n",
       "2                        347.651206                 -0.071545   \n",
       "3                        329.068820                  0.273250   \n",
       "4                        361.950871                  0.581611   \n",
       "...                             ...                       ...   \n",
       "3274                      42.781422                  1.518146   \n",
       "3275                      42.900167                  1.139929   \n",
       "3276                      41.840264                  0.761862   \n",
       "3277                      41.461688                 -0.064200   \n",
       "3278                      43.326328                 -0.145991   \n",
       "\n",
       "      median_schedule_time_till_next_bus  std_schedule_time_till_next_bus  \\\n",
       "0                              15.500000                       517.999404   \n",
       "1                              15.483333                       324.303945   \n",
       "2                              15.483333                       327.951535   \n",
       "3                              15.483333                       324.525114   \n",
       "4                              15.483333                      5231.402394   \n",
       "...                                  ...                              ...   \n",
       "3274                           11.000000                        42.510396   \n",
       "3275                           11.000000                        42.501516   \n",
       "3276                           11.000000                        41.813344   \n",
       "3277                           11.000000                        39.989162   \n",
       "3278                           11.000000                        39.981671   \n",
       "\n",
       "      median_schedule_num_buses  median_actual_num_buses  bus_excess  \\\n",
       "0                         494.0                    508.5        14.5   \n",
       "1                         425.0                    495.5        70.5   \n",
       "2                         525.0                    521.5        -3.5   \n",
       "3                         525.0                    481.5       -43.5   \n",
       "4                         525.0                    486.5       -38.5   \n",
       "...                         ...                      ...         ...   \n",
       "3274                      297.0                    278.0       -19.0   \n",
       "3275                      283.5                    270.5       -13.0   \n",
       "3276                      271.0                    260.0       -11.0   \n",
       "3277                      286.0                    278.0        -8.0   \n",
       "3278                      273.0                    279.0         6.0   \n",
       "\n",
       "      median_actual_trip_duration  median_schedule_trip_duration  trip_delay  \n",
       "0                       36.726002                           31.0    5.726002  \n",
       "1                       36.788603                           32.5    4.288603  \n",
       "2                       36.901218                           34.0    2.901218  \n",
       "3                       37.182187                           32.0    5.182187  \n",
       "4                       37.666500                           32.5    5.166500  \n",
       "...                           ...                            ...         ...  \n",
       "3274                    88.054202                           83.0    5.054202  \n",
       "3275                    90.405004                           83.0    7.405004  \n",
       "3276                    88.159518                           84.5    3.659518  \n",
       "3277                    89.702337                           87.5    2.202337  \n",
       "3278                    91.404775                           87.5    3.904775  \n",
       "\n",
       "[21560 rows x 13 columns]"
      ]
     },
     "execution_count": 18,
     "metadata": {},
     "output_type": "execute_result"
    }
   ],
   "source": [
    "combined"
   ]
  },
  {
   "cell_type": "code",
   "execution_count": 19,
   "metadata": {},
   "outputs": [],
   "source": [
    "all_metrics_rt_month['period'] = 'month'\n",
    "all_metrics_rt_hour['period'] = 'hour'\n",
    "all_metrics_rt_weekday['period'] = 'weekday'\n",
    "all_metrics_rt_year['period'] = 'year'\n",
    "all_metrics_rt_week_abs['period'] = 'week_abs'\n",
    "all_metrics_rt_month_abs['period'] = 'month_abs'\n",
    "combined = pd.concat([all_metrics_rt_month, all_metrics_rt_hour, all_metrics_rt_weekday, all_metrics_rt_year, all_metrics_rt_week_abs, all_metrics_rt_month_abs])"
   ]
  },
  {
   "cell_type": "code",
   "execution_count": 36,
   "metadata": {},
   "outputs": [],
   "source": [
    "rts_fix.to_csv('out/combined_rt.csv', index=False)"
   ]
  },
  {
   "cell_type": "code",
   "execution_count": null,
   "metadata": {},
   "outputs": [],
   "source": [
    "all_metrics_ca_month = create_summary_metrics(total_stops, total_trips, 'community_area', 'month')\n",
    "all_metrics_ca_hour = create_summary_metrics(total_stops, total_trips, 'community_area', 'hour')\n",
    "all_metrics_ca_weekday = create_summary_metrics(total_stops, total_trips, 'community_area', 'weekday')\n",
    "all_metrics_ca_year = create_summary_metrics(total_stops, total_trips, 'community_area', 'year')\n",
    "\n",
    "all_metrics_ca_month['period'] = 'month'\n",
    "all_metrics_ca_hour['period'] = 'hour'\n",
    "all_metrics_ca_weekday['period'] = 'weekday'\n",
    "all_metrics_ca_year['period'] = 'year'\n",
    "\n",
    "# combined_ca = pd.concat([all_metrics_ca_month, all_metrics_ca_hour, all_metrics_ca_weekday, all_metrics_ca_year])\n",
    "# combined_ca.to_csv('out/combined_ca.csv')"
   ]
  },
  {
   "cell_type": "code",
   "execution_count": 30,
   "metadata": {},
   "outputs": [],
   "source": [
    "all_metrics_ca_week_abs = create_summary_metrics(total_stops_add, total_trips_add, 'community_area', 'week_abs')\n",
    "all_metrics_ca_month_abs = create_summary_metrics(total_stops_add, total_trips_add, 'community_area', 'month_abs')\n",
    "\n",
    "all_metrics_ca_week_abs['period'] = 'week_abs'\n",
    "all_metrics_ca_month_abs['period'] = 'month_abs'\n",
    "\n",
    "combined_ca = pd.concat([all_metrics_ca_month, all_metrics_ca_hour, all_metrics_ca_weekday, all_metrics_ca_year, all_metrics_ca_week_abs, all_metrics_ca_month_abs])\n",
    "combined_ca.to_csv('out/combined_ca.csv')"
   ]
  },
  {
   "cell_type": "code",
   "execution_count": 32,
   "metadata": {},
   "outputs": [],
   "source": [
    "all_metrics_ca_2024 = create_summary_metrics('community_area', 2024)\n",
    "all_metrics_ca_2024.to_csv('out/all_metrics_ca_2024.csv')"
   ]
  },
  {
   "cell_type": "code",
   "execution_count": 10,
   "metadata": {},
   "outputs": [],
   "source": [
    "def plot_metrics(df:pd.DataFrame, metric:str, grouping:str, time_period:str = None):\n",
    "    \"\"\"\n",
    "    Plots the metrics for the given dataframe\n",
    "    \"\"\"\n",
    "    df = df[[grouping,metric]]\n",
    "    if not time_period:\n",
    "        df = df.sort_values(metric, ascending=False)\n",
    "        fig = px.bar(df, x=grouping, y=metric)\n",
    "        fig.show()\n",
    "    else:\n",
    "        print(\"Invalid grouping\")\n",
    "\n",
    "    return True"
   ]
  },
  {
   "cell_type": "code",
   "execution_count": 12,
   "metadata": {},
   "outputs": [
    {
     "data": {
      "application/vnd.plotly.v1+json": {
       "config": {
        "plotlyServerURL": "https://plot.ly"
       },
       "data": [
        {
         "alignmentgroup": "True",
         "hovertemplate": "rt=%{x}<br>median_actual_time_till_next_bus=%{y}<extra></extra>",
         "legendgroup": "",
         "marker": {
          "color": "#636efa",
          "pattern": {
           "shape": ""
          }
         },
         "name": "",
         "offsetgroup": "",
         "orientation": "v",
         "showlegend": false,
         "textposition": "auto",
         "type": "bar",
         "x": [
          "31",
          "201",
          "54A",
          "62H",
          "206",
          "165",
          "81W",
          "88",
          "192",
          "68",
          "55N",
          "124",
          "55A",
          "37",
          "86",
          "85A",
          "39",
          "24",
          "171",
          "11",
          "93",
          "100",
          "111A",
          "125",
          "96",
          "54B",
          "43",
          "97",
          "52A",
          "78",
          "30",
          "126",
          "35",
          "73",
          "121",
          "91",
          "51",
          "18",
          "59",
          "90",
          "44",
          "92",
          "103",
          "48",
          "21",
          "26",
          "111",
          "56",
          "94",
          "108",
          "115",
          "57",
          "95",
          "8A",
          "63W",
          "143",
          "120",
          "28",
          "29",
          "1",
          "106",
          "7",
          "85",
          "75",
          "87",
          "62",
          "80",
          "136",
          "6",
          "157",
          "172",
          "60",
          "2",
          "36",
          "147",
          "J14",
          "65",
          "47",
          "22",
          "119",
          "112",
          "70",
          "4",
          "71",
          "155",
          "67",
          "84",
          "151",
          "81",
          "49B",
          "X9",
          "135",
          "49",
          "12",
          "148",
          "76",
          "74",
          "34",
          "50",
          "82",
          "53A",
          "146",
          "X49",
          "63",
          "9",
          "156",
          "3",
          "52",
          "134",
          "54",
          "55",
          "15",
          "72",
          "20",
          "8",
          "53",
          "77",
          "152",
          "79",
          "66"
         ],
         "xaxis": "x",
         "y": [
          29.074455257283333,
          27.0938365228,
          27.002321488516667,
          26.733678039183335,
          25.850061210333333,
          25.332834917283332,
          25.0642944453,
          25.020673020933334,
          24.451666674316666,
          24.336384120783336,
          24.243798959233335,
          23.45820330615,
          23.21353869275,
          22.790450636950002,
          22.738843639316666,
          22.734907522016666,
          22.6484275523,
          22.1059575978,
          21.504589185433336,
          20.30627309935,
          20.232827390616666,
          20.15394246755,
          20.123261477866667,
          19.9978476764,
          19.98200862515,
          19.919072712566667,
          19.91428251095,
          19.88518343365,
          19.71959205415,
          19.629851300933336,
          19.46861393416667,
          19.376671952566667,
          19.202235918116667,
          18.900340980299998,
          18.898641937366666,
          18.854722793883333,
          18.824961133683335,
          18.683600640999998,
          18.67317754766667,
          18.483861833666666,
          17.986688950850002,
          17.97512140921667,
          17.769397770483334,
          17.425227907016666,
          17.384535829983335,
          17.236149821333335,
          17.22330384835,
          17.148275181633334,
          17.01540446935,
          17.004014901199998,
          16.78835122395,
          16.51796870665,
          16.473674118983332,
          16.4553179332,
          16.345471345216666,
          16.341103274766667,
          16.19153608945,
          15.825230505450001,
          15.761147089500001,
          15.67087183575,
          15.597478337250001,
          15.19393175145,
          15.007596621283334,
          14.944314326916667,
          14.577248474966666,
          14.558326297,
          14.494014426633333,
          14.472863311133333,
          14.34612914735,
          14.255425139483332,
          14.0406116326,
          13.79541803,
          13.708828297916666,
          13.655365315283332,
          13.5226307964,
          13.23437089075,
          13.223639325266667,
          13.203881630000001,
          13.147730252566667,
          13.070333696533334,
          12.917097886699999,
          12.8809434177,
          12.802967362266665,
          12.751483840566667,
          12.457122504,
          12.330328738983333,
          12.2979429107,
          12.227651667,
          12.042961318983334,
          12.029958729950001,
          11.7939122525,
          11.654495332683332,
          11.649008938516666,
          11.618467115266666,
          11.562807936716666,
          10.898474943033333,
          10.628858216549999,
          10.455720076833334,
          10.418222126249999,
          10.34384948405,
          10.282312318366667,
          10.2095478103,
          10.022932342066667,
          9.99722708865,
          9.988320386716667,
          9.971826060366668,
          9.771739003216668,
          9.770434347583334,
          9.698141853766666,
          9.659663556116667,
          9.514171144683333,
          9.259346437933335,
          8.289863664083333,
          8.016906314066667,
          7.60470139135,
          7.417485610133334,
          7.114661086500001,
          6.996529326266667,
          5.716124473233333,
          4.082921603633333
         ],
         "yaxis": "y"
        }
       ],
       "layout": {
        "barmode": "relative",
        "legend": {
         "tracegroupgap": 0
        },
        "margin": {
         "t": 60
        },
        "template": {
         "data": {
          "bar": [
           {
            "error_x": {
             "color": "#2a3f5f"
            },
            "error_y": {
             "color": "#2a3f5f"
            },
            "marker": {
             "line": {
              "color": "#E5ECF6",
              "width": 0.5
             },
             "pattern": {
              "fillmode": "overlay",
              "size": 10,
              "solidity": 0.2
             }
            },
            "type": "bar"
           }
          ],
          "barpolar": [
           {
            "marker": {
             "line": {
              "color": "#E5ECF6",
              "width": 0.5
             },
             "pattern": {
              "fillmode": "overlay",
              "size": 10,
              "solidity": 0.2
             }
            },
            "type": "barpolar"
           }
          ],
          "carpet": [
           {
            "aaxis": {
             "endlinecolor": "#2a3f5f",
             "gridcolor": "white",
             "linecolor": "white",
             "minorgridcolor": "white",
             "startlinecolor": "#2a3f5f"
            },
            "baxis": {
             "endlinecolor": "#2a3f5f",
             "gridcolor": "white",
             "linecolor": "white",
             "minorgridcolor": "white",
             "startlinecolor": "#2a3f5f"
            },
            "type": "carpet"
           }
          ],
          "choropleth": [
           {
            "colorbar": {
             "outlinewidth": 0,
             "ticks": ""
            },
            "type": "choropleth"
           }
          ],
          "contour": [
           {
            "colorbar": {
             "outlinewidth": 0,
             "ticks": ""
            },
            "colorscale": [
             [
              0,
              "#0d0887"
             ],
             [
              0.1111111111111111,
              "#46039f"
             ],
             [
              0.2222222222222222,
              "#7201a8"
             ],
             [
              0.3333333333333333,
              "#9c179e"
             ],
             [
              0.4444444444444444,
              "#bd3786"
             ],
             [
              0.5555555555555556,
              "#d8576b"
             ],
             [
              0.6666666666666666,
              "#ed7953"
             ],
             [
              0.7777777777777778,
              "#fb9f3a"
             ],
             [
              0.8888888888888888,
              "#fdca26"
             ],
             [
              1,
              "#f0f921"
             ]
            ],
            "type": "contour"
           }
          ],
          "contourcarpet": [
           {
            "colorbar": {
             "outlinewidth": 0,
             "ticks": ""
            },
            "type": "contourcarpet"
           }
          ],
          "heatmap": [
           {
            "colorbar": {
             "outlinewidth": 0,
             "ticks": ""
            },
            "colorscale": [
             [
              0,
              "#0d0887"
             ],
             [
              0.1111111111111111,
              "#46039f"
             ],
             [
              0.2222222222222222,
              "#7201a8"
             ],
             [
              0.3333333333333333,
              "#9c179e"
             ],
             [
              0.4444444444444444,
              "#bd3786"
             ],
             [
              0.5555555555555556,
              "#d8576b"
             ],
             [
              0.6666666666666666,
              "#ed7953"
             ],
             [
              0.7777777777777778,
              "#fb9f3a"
             ],
             [
              0.8888888888888888,
              "#fdca26"
             ],
             [
              1,
              "#f0f921"
             ]
            ],
            "type": "heatmap"
           }
          ],
          "heatmapgl": [
           {
            "colorbar": {
             "outlinewidth": 0,
             "ticks": ""
            },
            "colorscale": [
             [
              0,
              "#0d0887"
             ],
             [
              0.1111111111111111,
              "#46039f"
             ],
             [
              0.2222222222222222,
              "#7201a8"
             ],
             [
              0.3333333333333333,
              "#9c179e"
             ],
             [
              0.4444444444444444,
              "#bd3786"
             ],
             [
              0.5555555555555556,
              "#d8576b"
             ],
             [
              0.6666666666666666,
              "#ed7953"
             ],
             [
              0.7777777777777778,
              "#fb9f3a"
             ],
             [
              0.8888888888888888,
              "#fdca26"
             ],
             [
              1,
              "#f0f921"
             ]
            ],
            "type": "heatmapgl"
           }
          ],
          "histogram": [
           {
            "marker": {
             "pattern": {
              "fillmode": "overlay",
              "size": 10,
              "solidity": 0.2
             }
            },
            "type": "histogram"
           }
          ],
          "histogram2d": [
           {
            "colorbar": {
             "outlinewidth": 0,
             "ticks": ""
            },
            "colorscale": [
             [
              0,
              "#0d0887"
             ],
             [
              0.1111111111111111,
              "#46039f"
             ],
             [
              0.2222222222222222,
              "#7201a8"
             ],
             [
              0.3333333333333333,
              "#9c179e"
             ],
             [
              0.4444444444444444,
              "#bd3786"
             ],
             [
              0.5555555555555556,
              "#d8576b"
             ],
             [
              0.6666666666666666,
              "#ed7953"
             ],
             [
              0.7777777777777778,
              "#fb9f3a"
             ],
             [
              0.8888888888888888,
              "#fdca26"
             ],
             [
              1,
              "#f0f921"
             ]
            ],
            "type": "histogram2d"
           }
          ],
          "histogram2dcontour": [
           {
            "colorbar": {
             "outlinewidth": 0,
             "ticks": ""
            },
            "colorscale": [
             [
              0,
              "#0d0887"
             ],
             [
              0.1111111111111111,
              "#46039f"
             ],
             [
              0.2222222222222222,
              "#7201a8"
             ],
             [
              0.3333333333333333,
              "#9c179e"
             ],
             [
              0.4444444444444444,
              "#bd3786"
             ],
             [
              0.5555555555555556,
              "#d8576b"
             ],
             [
              0.6666666666666666,
              "#ed7953"
             ],
             [
              0.7777777777777778,
              "#fb9f3a"
             ],
             [
              0.8888888888888888,
              "#fdca26"
             ],
             [
              1,
              "#f0f921"
             ]
            ],
            "type": "histogram2dcontour"
           }
          ],
          "mesh3d": [
           {
            "colorbar": {
             "outlinewidth": 0,
             "ticks": ""
            },
            "type": "mesh3d"
           }
          ],
          "parcoords": [
           {
            "line": {
             "colorbar": {
              "outlinewidth": 0,
              "ticks": ""
             }
            },
            "type": "parcoords"
           }
          ],
          "pie": [
           {
            "automargin": true,
            "type": "pie"
           }
          ],
          "scatter": [
           {
            "fillpattern": {
             "fillmode": "overlay",
             "size": 10,
             "solidity": 0.2
            },
            "type": "scatter"
           }
          ],
          "scatter3d": [
           {
            "line": {
             "colorbar": {
              "outlinewidth": 0,
              "ticks": ""
             }
            },
            "marker": {
             "colorbar": {
              "outlinewidth": 0,
              "ticks": ""
             }
            },
            "type": "scatter3d"
           }
          ],
          "scattercarpet": [
           {
            "marker": {
             "colorbar": {
              "outlinewidth": 0,
              "ticks": ""
             }
            },
            "type": "scattercarpet"
           }
          ],
          "scattergeo": [
           {
            "marker": {
             "colorbar": {
              "outlinewidth": 0,
              "ticks": ""
             }
            },
            "type": "scattergeo"
           }
          ],
          "scattergl": [
           {
            "marker": {
             "colorbar": {
              "outlinewidth": 0,
              "ticks": ""
             }
            },
            "type": "scattergl"
           }
          ],
          "scattermapbox": [
           {
            "marker": {
             "colorbar": {
              "outlinewidth": 0,
              "ticks": ""
             }
            },
            "type": "scattermapbox"
           }
          ],
          "scatterpolar": [
           {
            "marker": {
             "colorbar": {
              "outlinewidth": 0,
              "ticks": ""
             }
            },
            "type": "scatterpolar"
           }
          ],
          "scatterpolargl": [
           {
            "marker": {
             "colorbar": {
              "outlinewidth": 0,
              "ticks": ""
             }
            },
            "type": "scatterpolargl"
           }
          ],
          "scatterternary": [
           {
            "marker": {
             "colorbar": {
              "outlinewidth": 0,
              "ticks": ""
             }
            },
            "type": "scatterternary"
           }
          ],
          "surface": [
           {
            "colorbar": {
             "outlinewidth": 0,
             "ticks": ""
            },
            "colorscale": [
             [
              0,
              "#0d0887"
             ],
             [
              0.1111111111111111,
              "#46039f"
             ],
             [
              0.2222222222222222,
              "#7201a8"
             ],
             [
              0.3333333333333333,
              "#9c179e"
             ],
             [
              0.4444444444444444,
              "#bd3786"
             ],
             [
              0.5555555555555556,
              "#d8576b"
             ],
             [
              0.6666666666666666,
              "#ed7953"
             ],
             [
              0.7777777777777778,
              "#fb9f3a"
             ],
             [
              0.8888888888888888,
              "#fdca26"
             ],
             [
              1,
              "#f0f921"
             ]
            ],
            "type": "surface"
           }
          ],
          "table": [
           {
            "cells": {
             "fill": {
              "color": "#EBF0F8"
             },
             "line": {
              "color": "white"
             }
            },
            "header": {
             "fill": {
              "color": "#C8D4E3"
             },
             "line": {
              "color": "white"
             }
            },
            "type": "table"
           }
          ]
         },
         "layout": {
          "annotationdefaults": {
           "arrowcolor": "#2a3f5f",
           "arrowhead": 0,
           "arrowwidth": 1
          },
          "autotypenumbers": "strict",
          "coloraxis": {
           "colorbar": {
            "outlinewidth": 0,
            "ticks": ""
           }
          },
          "colorscale": {
           "diverging": [
            [
             0,
             "#8e0152"
            ],
            [
             0.1,
             "#c51b7d"
            ],
            [
             0.2,
             "#de77ae"
            ],
            [
             0.3,
             "#f1b6da"
            ],
            [
             0.4,
             "#fde0ef"
            ],
            [
             0.5,
             "#f7f7f7"
            ],
            [
             0.6,
             "#e6f5d0"
            ],
            [
             0.7,
             "#b8e186"
            ],
            [
             0.8,
             "#7fbc41"
            ],
            [
             0.9,
             "#4d9221"
            ],
            [
             1,
             "#276419"
            ]
           ],
           "sequential": [
            [
             0,
             "#0d0887"
            ],
            [
             0.1111111111111111,
             "#46039f"
            ],
            [
             0.2222222222222222,
             "#7201a8"
            ],
            [
             0.3333333333333333,
             "#9c179e"
            ],
            [
             0.4444444444444444,
             "#bd3786"
            ],
            [
             0.5555555555555556,
             "#d8576b"
            ],
            [
             0.6666666666666666,
             "#ed7953"
            ],
            [
             0.7777777777777778,
             "#fb9f3a"
            ],
            [
             0.8888888888888888,
             "#fdca26"
            ],
            [
             1,
             "#f0f921"
            ]
           ],
           "sequentialminus": [
            [
             0,
             "#0d0887"
            ],
            [
             0.1111111111111111,
             "#46039f"
            ],
            [
             0.2222222222222222,
             "#7201a8"
            ],
            [
             0.3333333333333333,
             "#9c179e"
            ],
            [
             0.4444444444444444,
             "#bd3786"
            ],
            [
             0.5555555555555556,
             "#d8576b"
            ],
            [
             0.6666666666666666,
             "#ed7953"
            ],
            [
             0.7777777777777778,
             "#fb9f3a"
            ],
            [
             0.8888888888888888,
             "#fdca26"
            ],
            [
             1,
             "#f0f921"
            ]
           ]
          },
          "colorway": [
           "#636efa",
           "#EF553B",
           "#00cc96",
           "#ab63fa",
           "#FFA15A",
           "#19d3f3",
           "#FF6692",
           "#B6E880",
           "#FF97FF",
           "#FECB52"
          ],
          "font": {
           "color": "#2a3f5f"
          },
          "geo": {
           "bgcolor": "white",
           "lakecolor": "white",
           "landcolor": "#E5ECF6",
           "showlakes": true,
           "showland": true,
           "subunitcolor": "white"
          },
          "hoverlabel": {
           "align": "left"
          },
          "hovermode": "closest",
          "mapbox": {
           "style": "light"
          },
          "paper_bgcolor": "white",
          "plot_bgcolor": "#E5ECF6",
          "polar": {
           "angularaxis": {
            "gridcolor": "white",
            "linecolor": "white",
            "ticks": ""
           },
           "bgcolor": "#E5ECF6",
           "radialaxis": {
            "gridcolor": "white",
            "linecolor": "white",
            "ticks": ""
           }
          },
          "scene": {
           "xaxis": {
            "backgroundcolor": "#E5ECF6",
            "gridcolor": "white",
            "gridwidth": 2,
            "linecolor": "white",
            "showbackground": true,
            "ticks": "",
            "zerolinecolor": "white"
           },
           "yaxis": {
            "backgroundcolor": "#E5ECF6",
            "gridcolor": "white",
            "gridwidth": 2,
            "linecolor": "white",
            "showbackground": true,
            "ticks": "",
            "zerolinecolor": "white"
           },
           "zaxis": {
            "backgroundcolor": "#E5ECF6",
            "gridcolor": "white",
            "gridwidth": 2,
            "linecolor": "white",
            "showbackground": true,
            "ticks": "",
            "zerolinecolor": "white"
           }
          },
          "shapedefaults": {
           "line": {
            "color": "#2a3f5f"
           }
          },
          "ternary": {
           "aaxis": {
            "gridcolor": "white",
            "linecolor": "white",
            "ticks": ""
           },
           "baxis": {
            "gridcolor": "white",
            "linecolor": "white",
            "ticks": ""
           },
           "bgcolor": "#E5ECF6",
           "caxis": {
            "gridcolor": "white",
            "linecolor": "white",
            "ticks": ""
           }
          },
          "title": {
           "x": 0.05
          },
          "xaxis": {
           "automargin": true,
           "gridcolor": "white",
           "linecolor": "white",
           "ticks": "",
           "title": {
            "standoff": 15
           },
           "zerolinecolor": "white",
           "zerolinewidth": 2
          },
          "yaxis": {
           "automargin": true,
           "gridcolor": "white",
           "linecolor": "white",
           "ticks": "",
           "title": {
            "standoff": 15
           },
           "zerolinecolor": "white",
           "zerolinewidth": 2
          }
         }
        },
        "xaxis": {
         "anchor": "y",
         "domain": [
          0,
          1
         ],
         "title": {
          "text": "rt"
         }
        },
        "yaxis": {
         "anchor": "x",
         "domain": [
          0,
          1
         ],
         "title": {
          "text": "median_actual_time_till_next_bus"
         }
        }
       }
      }
     },
     "metadata": {},
     "output_type": "display_data"
    },
    {
     "data": {
      "text/plain": [
       "True"
      ]
     },
     "execution_count": 12,
     "metadata": {},
     "output_type": "execute_result"
    }
   ],
   "source": [
    "plot_metrics(all_metrics_rt, 'median_actual_time_till_next_bus', 'rt')\n"
   ]
  },
  {
   "cell_type": "code",
   "execution_count": 6,
   "metadata": {},
   "outputs": [],
   "source": [
    "total_stops, total_trips = load_metrics()"
   ]
  },
  {
   "cell_type": "code",
   "execution_count": 42,
   "metadata": {},
   "outputs": [],
   "source": [
    "def create_trip_chart(rt):\n",
    "\n",
    "    #sample of 100 bus trips\n",
    "    trips = create_trips_df(rt,is_schedule=False)\n",
    "    pid = trips.group_by('pid').n_unique().sort('trip_id', descending = True).limit(1).rows(named=True)[0]['pid']\n",
    "    sample_trips = trips.filter(pl.col('pid') == pid).unique(subset=[\"trip_id\"]).sample(100).select(['trip_id'])\n",
    "\n",
    "    #sample of 100 trips\n",
    "    trips_100 = trips.filter(pl.col('trip_id').is_in(sample_trips))\n",
    "    trips_100 = time_to_next_stop(trips_100)\n",
    "    trips_100 = trips_100.sort(['trip_id','cum_trip_time'], descending=False)\n",
    "\n",
    "\n",
    "    # get agg values\n",
    "    agg = total_stops.select(['rt','pid','period','period_value','stop_id', 'median_actual_cum_trip_time','median_schedule_cum_trip_time'])\n",
    "    agg = agg.filter((pl.col('rt') == rt) & (pl.col('period') == 'year') & (pl.col('period_value') == 2024) & (pl.col('pid') == pid))\n",
    "    agg = agg.sort('median_actual_cum_trip_time', descending=False)\n",
    "    # create a fake stop sequence\n",
    "    agg = agg.with_row_index()\n",
    "\n",
    "    #chart\n",
    "\n",
    "    fig, ax = plt.subplots()\n",
    "    plt.figure(figsize=(10,10))\n",
    "\n",
    "\n",
    "\n",
    "    for row in trips_100.iter_rows(named=True):\n",
    "        subset = trips_100.filter(pl.col('trip_id') == row['trip_id'])\n",
    "        ax.plot(subset['stop_sequence'], subset.select(pl.col('cum_trip_time')).get_columns()[0].dt.total_seconds()/60, color = 'grey', alpha=0.01, linestyle='dashed')\n",
    "\n",
    "    ax.plot(agg['index'], agg.select(pl.col('median_schedule_cum_trip_time')).get_columns()[0].dt.total_seconds()/60, label = 'Schedule', linewidth=4)\n",
    "    ax.plot(agg['index'], agg.select(pl.col('median_actual_cum_trip_time')).get_columns()[0].dt.total_seconds()/60, label = 'Real', linewidth=4)\n",
    "\n",
    "    ax.legend()\n",
    "    ax.set_xlabel('Stop Sequence')\n",
    "    ax.set_ylabel('Trip Duration (minutes)')\n",
    "    plt.show()\n"
   ]
  },
  {
   "cell_type": "code",
   "execution_count": 54,
   "metadata": {},
   "outputs": [
    {
     "name": "stdout",
     "output_type": "stream",
     "text": [
      "{'pid': 2721}\n",
      "{'pid': 2725}\n",
      "{'pid': 7749}\n",
      "{'pid': 7750}\n",
      "{'pid': 16548}\n",
      "{'pid': 16549}\n"
     ]
    },
    {
     "data": {
      "image/png": "[encoded data removed]",
      "text/plain": [
       "<Figure size 640x480 with 1 Axes>"
      ]
     },
     "metadata": {},
     "output_type": "display_data"
    },
    {
     "data": {
      "text/plain": [
       "<Figure size 1000x1000 with 0 Axes>"
      ]
     },
     "metadata": {},
     "output_type": "display_data"
    }
   ],
   "source": [
    "create_trip_chart('92')"
   ]
  }
 ],
 "metadata": {
  "kernelspec": {
   "display_name": ".venv",
   "language": "python",
   "name": "python3"
  },
  "language_info": {
   "codemirror_mode": {
    "name": "ipython",
    "version": 3
   },
   "file_extension": ".py",
   "mimetype": "text/x-python",
   "name": "python",
   "nbconvert_exporter": "python",
   "pygments_lexer": "ipython3",
   "version": "3.12.4"
  }
 },
 "nbformat": 4,
 "nbformat_minor": 2
}
