{
 "cells": [
  {
   "cell_type": "code",
   "execution_count": 1,
   "metadata": {},
   "outputs": [],
   "source": [
    "from stop_metrics import create_combined_metrics_stop_df, time_to_next_stop\n",
    "from trip_metrics import create_combined_metrics_trip_df\n",
    "from utils import create_trips_df, create_trips_df_pid\n",
    "import matplotlib.pyplot as plt\n",
    "import random\n",
    "import plotly.express as px\n",
    "import polars as pl\n",
    "import pandas as pd\n"
   ]
  },
  {
   "cell_type": "code",
   "execution_count": 2,
   "metadata": {},
   "outputs": [],
   "source": [
    "def average_by(df:pd.DataFrame, grouping:str, period:str, metrics:list):\n",
    "    \"\"\"\n",
    "    grouping helper function \n",
    "    \"\"\"\n",
    "    if 'community' in df.columns:\n",
    "        df = df[['rt','period','period_value', 'community']+metrics]\n",
    "    else: \n",
    "        df = df[['rt','period','period_value']+metrics]\n",
    "        \n",
    "    if period == \"one_value\":\n",
    "        by_period = df[df['period'] == 'dayofyear']\n",
    "        by_period_grouped = by_period.groupby([grouping])[metrics].median().reset_index()\n",
    "\n",
    "    elif period == 2024:\n",
    "        # only 2024 data\n",
    "        by_period = df[(df['period'] == 'year') & (df['period_value'] == 2024)] \n",
    "        by_period_grouped = by_period.groupby([grouping])[metrics].median().reset_index()\n",
    "\n",
    "    elif period in df['period'].unique():\n",
    "        by_period = df[df['period']== period]\n",
    "        by_period_grouped = by_period.groupby([grouping,'period_value'])[metrics].median().reset_index()\n",
    "    else:\n",
    "        print(\"Invalid period\")\n",
    "        \n",
    "    #convert to minutes\n",
    "    for metric in metrics:\n",
    "        if 'num_buses' not in metric:\n",
    "            by_period_grouped[metric] = by_period_grouped[metric].dt.total_seconds()/60\n",
    "\n",
    "    \n",
    "    return by_period_grouped"
   ]
  },
  {
   "cell_type": "code",
   "execution_count": 3,
   "metadata": {},
   "outputs": [],
   "source": [
    "def load_metrics():\n",
    "    \"\"\"\n",
    "    Load metrics, combine them, add in community stop crosswalk, and remove weird routes\n",
    "    \"\"\"\n",
    "    #loading data\n",
    "    ca_xwalk = pl.read_parquet('communities_stops.parquet')\n",
    "    ca_xwalk = ca_xwalk.select(['community','stpid']).rename({'stpid':'stop_id'})\n",
    "\n",
    "    actual_stops = pl.read_parquet('out/actual_stop_metrics_df.parquet')\n",
    "    schedule_stops = pl.read_parquet('out/schedule_stop_metrics_df.parquet')\n",
    "    actual_trips  = pl.read_parquet('out/actual_trip_metrics_df.parquet')\n",
    "    schedule_trips = pl.read_parquet('out/schedule_trip_metrics_df.parquet')\n",
    "\n",
    "    total_stops = create_combined_metrics_stop_df(actual_stops, schedule_stops)\n",
    "    total_stops = total_stops.join(ca_xwalk, on='stop_id', how = 'left', coalesce=True)\n",
    "\n",
    "    total_trips = create_combined_metrics_trip_df(actual_trips, schedule_trips)\n",
    "\n",
    "    # take out weird routes\n",
    "    total_trips = total_trips.filter(~pl.col('rt').is_in(['5','169']))\n",
    "    total_stops = total_stops.filter(~pl.col('rt').is_in(['5','169']))\n",
    "\n",
    "    return total_stops, total_trips"
   ]
  },
  {
   "cell_type": "code",
   "execution_count": 25,
   "metadata": {},
   "outputs": [],
   "source": [
    "def create_summary_metrics(grouping:str, period:str):\n",
    "    \"\"\"\n",
    "    Load the metrics, average them by a grouping (route:'rt' or community \n",
    "    area: 'community_area) and period ('hour','weekday','dayofyear','week',\n",
    "    'month','year', 'one_value': median of all day metrics, '2024': filter \n",
    "    to year and 2024), and return the dataframe\n",
    "    \"\"\"\n",
    "\n",
    "\n",
    "    total_stops, total_trips = load_metrics()\n",
    "    \n",
    "    metrics_stop = ['median_actual_time_till_next_bus','std_actual_time_till_next_bus','time_till_next_bus_delay','median_schedule_time_till_next_bus', 'std_schedule_time_till_next_bus',\n",
    "                'median_schedule_num_buses', 'median_actual_num_buses']\n",
    "    \n",
    "    metrics_trip = ['median_actual_trip_duration', 'median_schedule_trip_duration']\n",
    "    \n",
    "    if grouping == 'rt':\n",
    "        avg_stops = average_by(total_stops.to_pandas(),grouping, period, metrics_stop)\n",
    "        metrics_trip = ['median_actual_trip_duration', 'median_schedule_trip_duration']\n",
    "        avg_trips = average_by(total_trips.to_pandas(),grouping, period, metrics_trip)\n",
    "        avg_trips['trip_delay'] = avg_trips['median_actual_trip_duration'] - avg_trips['median_schedule_trip_duration']\n",
    "        avg_stops['bus_excess'] = avg_stops['median_actual_num_buses'] - avg_stops['median_schedule_num_buses']\n",
    "        if period in ['one_value',2024]:\n",
    "            all_metrics_rts = avg_stops.join(avg_trips.set_index(grouping), on=grouping)\n",
    "        else:   \n",
    "            all_metrics_rts = avg_stops.join(avg_trips.set_index([grouping,'period_value']), on=[grouping,'period_value'])\n",
    "        return all_metrics_rts\n",
    "    \n",
    "    elif grouping == 'community_area':\n",
    "        all_metrics_ca = average_by(total_stops.to_pandas(),'community', period, metrics_stop)\n",
    "        all_metrics_ca['bus_excess'] = all_metrics_ca['median_actual_num_buses'] - all_metrics_ca['median_schedule_num_buses']\n",
    "\n",
    "        return all_metrics_ca\n",
    "\n",
    "    \n"
   ]
  },
  {
   "cell_type": "code",
   "execution_count": 30,
   "metadata": {},
   "outputs": [],
   "source": [
    "all_metrics_rt_2024 = create_summary_metrics('rt', 2024)\n",
    "all_metrics_rt_2024.to_csv('out/all_metrics_rt_2024.csv')"
   ]
  },
  {
   "cell_type": "code",
   "execution_count": 41,
   "metadata": {},
   "outputs": [],
   "source": [
    "#create some tables for the exploration \n",
    "\n",
    "all_metrics_rt_month = create_summary_metrics('rt', 'month')\n",
    "all_metrics_rt_hour = create_summary_metrics('rt', 'hour')\n",
    "all_metrics_rt_weekday = create_summary_metrics('rt', 'weekday')\n",
    "all_metrics_rt_year = create_summary_metrics('rt', 'year')\n",
    "\n",
    "combined = pd.concat([all_metrics_rt_month, all_metrics_rt_hour, all_metrics_rt_weekday, all_metrics_rt_year])\n"
   ]
  },
  {
   "cell_type": "code",
   "execution_count": 43,
   "metadata": {},
   "outputs": [],
   "source": [
    "all_metrics_rt_month['period'] = 'month'\n",
    "all_metrics_rt_hour['period'] = 'hour'\n",
    "all_metrics_rt_weekday['period'] = 'weekday'\n",
    "all_metrics_rt_year['period'] = 'year'\n",
    "combined = pd.concat([all_metrics_rt_month, all_metrics_rt_hour, all_metrics_rt_weekday, all_metrics_rt_year])"
   ]
  },
  {
   "cell_type": "code",
   "execution_count": 45,
   "metadata": {},
   "outputs": [],
   "source": [
    "combined.to_csv('out/combined_rt.csv')"
   ]
  },
  {
   "cell_type": "code",
   "execution_count": 47,
   "metadata": {},
   "outputs": [],
   "source": [
    "all_metrics_ca_month = create_summary_metrics('community_area', 'month')\n",
    "all_metrics_ca_hour = create_summary_metrics('community_area', 'hour')\n",
    "all_metrics_ca_weekday = create_summary_metrics('community_area', 'weekday')\n",
    "all_metrics_ca_year = create_summary_metrics('community_area', 'year')\n",
    "\n",
    "all_metrics_ca_month['period'] = 'month'\n",
    "all_metrics_ca_hour['period'] = 'hour'\n",
    "all_metrics_ca_weekday['period'] = 'weekday'\n",
    "all_metrics_ca_year['period'] = 'year'\n",
    "\n",
    "combined_ca = pd.concat([all_metrics_ca_month, all_metrics_ca_hour, all_metrics_ca_weekday, all_metrics_ca_year])\n",
    "combined_ca.to_csv('out/combined_ca.csv')g"
   ]
  },
  {
   "cell_type": "code",
   "execution_count": 32,
   "metadata": {},
   "outputs": [],
   "source": [
    "all_metrics_ca_2024 = create_summary_metrics('community_area', 2024)\n",
    "all_metrics_ca_2024.to_csv('out/all_metrics_ca_2024.csv')"
   ]
  },
  {
   "cell_type": "code",
   "execution_count": 10,
   "metadata": {},
   "outputs": [],
   "source": [
    "def plot_metrics(df:pd.DataFrame, metric:str, grouping:str, time_period:str = None):\n",
    "    \"\"\"\n",
    "    Plots the metrics for the given dataframe\n",
    "    \"\"\"\n",
    "    df = df[[grouping,metric]]\n",
    "    if not time_period:\n",
    "        df = df.sort_values(metric, ascending=False)\n",
    "        fig = px.bar(df, x=grouping, y=metric)\n",
    "        fig.show()\n",
    "    else:\n",
    "        print(\"Invalid grouping\")\n",
    "\n",
    "    return True"
   ]
  },
  {
   "cell_type": "code",
   "execution_count": 12,
   "metadata": {},
   "outputs": [
    {
     "data": {
      "application/vnd.plotly.v1+json": {
       "config": {
        "plotlyServerURL": "https://plot.ly"
       },
       "data": [
        {
         "alignmentgroup": "True",
         "hovertemplate": "rt=%{x}<br>median_actual_time_till_next_bus=%{y}<extra></extra>",
         "legendgroup": "",
         "marker": {
          "color": "#636efa",
          "pattern": {
           "shape": ""
          }
         },
         "name": "",
         "offsetgroup": "",
         "orientation": "v",
         "showlegend": false,
         "textposition": "auto",
         "type": "bar",
         "x": [
          "31",
          "201",
          "54A",
          "62H",
          "206",
          "165",
          "81W",
          "88",
          "192",
          "68",
          "55N",
          "124",
          "55A",
          "37",
          "86",
          "85A",
          "39",
          "24",
          "171",
          "11",
          "93",
          "100",
          "111A",
          "125",
          "96",
          "54B",
          "43",
          "97",
          "52A",
          "78",
          "30",
          "126",
          "35",
          "73",
          "121",
          "91",
          "51",
          "18",
          "59",
          "90",
          "44",
          "92",
          "103",
          "48",
          "21",
          "26",
          "111",
          "56",
          "94",
          "108",
          "115",
          "57",
          "95",
          "8A",
          "63W",
          "143",
          "120",
          "28",
          "29",
          "1",
          "106",
          "7",
          "85",
          "75",
          "87",
          "62",
          "80",
          "136",
          "6",
          "157",
          "172",
          "60",
          "2",
          "36",
          "147",
          "J14",
          "65",
          "47",
          "22",
          "119",
          "112",
          "70",
          "4",
          "71",
          "155",
          "67",
          "84",
          "151",
          "81",
          "49B",
          "X9",
          "135",
          "49",
          "12",
          "148",
          "76",
          "74",
          "34",
          "50",
          "82",
          "53A",
          "146",
          "X49",
          "63",
          "9",
          "156",
          "3",
          "52",
          "134",
          "54",
          "55",
          "15",
          "72",
          "20",
          "8",
          "53",
          "77",
          "152",
          "79",
          "66"
         ],
         "xaxis": "x",
         "y": [
          29.074455257283333,
          27.0938365228,
          27.002321488516667,
          26.733678039183335,
          25.850061210333333,
          25.332834917283332,
          25.0642944453,
          25.020673020933334,
          24.451666674316666,
          24.336384120783336,
          24.243798959233335,
          23.45820330615,
          23.21353869275,
          22.790450636950002,
          22.738843639316666,
          22.734907522016666,
          22.6484275523,
          22.1059575978,
          21.504589185433336,
          20.30627309935,
          20.232827390616666,
          20.15394246755,
          20.123261477866667,
          19.9978476764,
          19.98200862515,
          19.919072712566667,
          19.91428251095,
          19.88518343365,
          19.71959205415,
          19.629851300933336,
          19.46861393416667,
          19.376671952566667,
          19.202235918116667,
          18.900340980299998,
          18.898641937366666,
          18.854722793883333,
          18.824961133683335,
          18.683600640999998,
          18.67317754766667,
          18.483861833666666,
          17.986688950850002,
          17.97512140921667,
          17.769397770483334,
          17.425227907016666,
          17.384535829983335,
          17.236149821333335,
          17.22330384835,
          17.148275181633334,
          17.01540446935,
          17.004014901199998,
          16.78835122395,
          16.51796870665,
          16.473674118983332,
          16.4553179332,
          16.345471345216666,
          16.341103274766667,
          16.19153608945,
          15.825230505450001,
          15.761147089500001,
          15.67087183575,
          15.597478337250001,
          15.19393175145,
          15.007596621283334,
          14.944314326916667,
          14.577248474966666,
          14.558326297,
          14.494014426633333,
          14.472863311133333,
          14.34612914735,
          14.255425139483332,
          14.0406116326,
          13.79541803,
          13.708828297916666,
          13.655365315283332,
          13.5226307964,
          13.23437089075,
          13.223639325266667,
          13.203881630000001,
          13.147730252566667,
          13.070333696533334,
          12.917097886699999,
          12.8809434177,
          12.802967362266665,
          12.751483840566667,
          12.457122504,
          12.330328738983333,
          12.2979429107,
          12.227651667,
          12.042961318983334,
          12.029958729950001,
          11.7939122525,
          11.654495332683332,
          11.649008938516666,
          11.618467115266666,
          11.562807936716666,
          10.898474943033333,
          10.628858216549999,
          10.455720076833334,
          10.418222126249999,
          10.34384948405,
          10.282312318366667,
          10.2095478103,
          10.022932342066667,
          9.99722708865,
          9.988320386716667,
          9.971826060366668,
          9.771739003216668,
          9.770434347583334,
          9.698141853766666,
          9.659663556116667,
          9.514171144683333,
          9.259346437933335,
          8.289863664083333,
          8.016906314066667,
          7.60470139135,
          7.417485610133334,
          7.114661086500001,
          6.996529326266667,
          5.716124473233333,
          4.082921603633333
         ],
         "yaxis": "y"
        }
       ],
       "layout": {
        "barmode": "relative",
        "legend": {
         "tracegroupgap": 0
        },
        "margin": {
         "t": 60
        },
        "template": {
         "data": {
          "bar": [
           {
            "error_x": {
             "color": "#2a3f5f"
            },
            "error_y": {
             "color": "#2a3f5f"
            },
            "marker": {
             "line": {
              "color": "#E5ECF6",
              "width": 0.5
             },
             "pattern": {
              "fillmode": "overlay",
              "size": 10,
              "solidity": 0.2
             }
            },
            "type": "bar"
           }
          ],
          "barpolar": [
           {
            "marker": {
             "line": {
              "color": "#E5ECF6",
              "width": 0.5
             },
             "pattern": {
              "fillmode": "overlay",
              "size": 10,
              "solidity": 0.2
             }
            },
            "type": "barpolar"
           }
          ],
          "carpet": [
           {
            "aaxis": {
             "endlinecolor": "#2a3f5f",
             "gridcolor": "white",
             "linecolor": "white",
             "minorgridcolor": "white",
             "startlinecolor": "#2a3f5f"
            },
            "baxis": {
             "endlinecolor": "#2a3f5f",
             "gridcolor": "white",
             "linecolor": "white",
             "minorgridcolor": "white",
             "startlinecolor": "#2a3f5f"
            },
            "type": "carpet"
           }
          ],
          "choropleth": [
           {
            "colorbar": {
             "outlinewidth": 0,
             "ticks": ""
            },
            "type": "choropleth"
           }
          ],
          "contour": [
           {
            "colorbar": {
             "outlinewidth": 0,
             "ticks": ""
            },
            "colorscale": [
             [
              0,
              "#0d0887"
             ],
             [
              0.1111111111111111,
              "#46039f"
             ],
             [
              0.2222222222222222,
              "#7201a8"
             ],
             [
              0.3333333333333333,
              "#9c179e"
             ],
             [
              0.4444444444444444,
              "#bd3786"
             ],
             [
              0.5555555555555556,
              "#d8576b"
             ],
             [
              0.6666666666666666,
              "#ed7953"
             ],
             [
              0.7777777777777778,
              "#fb9f3a"
             ],
             [
              0.8888888888888888,
              "#fdca26"
             ],
             [
              1,
              "#f0f921"
             ]
            ],
            "type": "contour"
           }
          ],
          "contourcarpet": [
           {
            "colorbar": {
             "outlinewidth": 0,
             "ticks": ""
            },
            "type": "contourcarpet"
           }
          ],
          "heatmap": [
           {
            "colorbar": {
             "outlinewidth": 0,
             "ticks": ""
            },
            "colorscale": [
             [
              0,
              "#0d0887"
             ],
             [
              0.1111111111111111,
              "#46039f"
             ],
             [
              0.2222222222222222,
              "#7201a8"
             ],
             [
              0.3333333333333333,
              "#9c179e"
             ],
             [
              0.4444444444444444,
              "#bd3786"
             ],
             [
              0.5555555555555556,
              "#d8576b"
             ],
             [
              0.6666666666666666,
              "#ed7953"
             ],
             [
              0.7777777777777778,
              "#fb9f3a"
             ],
             [
              0.8888888888888888,
              "#fdca26"
             ],
             [
              1,
              "#f0f921"
             ]
            ],
            "type": "heatmap"
           }
          ],
          "heatmapgl": [
           {
            "colorbar": {
             "outlinewidth": 0,
             "ticks": ""
            },
            "colorscale": [
             [
              0,
              "#0d0887"
             ],
             [
              0.1111111111111111,
              "#46039f"
             ],
             [
              0.2222222222222222,
              "#7201a8"
             ],
             [
              0.3333333333333333,
              "#9c179e"
             ],
             [
              0.4444444444444444,
              "#bd3786"
             ],
             [
              0.5555555555555556,
              "#d8576b"
             ],
             [
              0.6666666666666666,
              "#ed7953"
             ],
             [
              0.7777777777777778,
              "#fb9f3a"
             ],
             [
              0.8888888888888888,
              "#fdca26"
             ],
             [
              1,
              "#f0f921"
             ]
            ],
            "type": "heatmapgl"
           }
          ],
          "histogram": [
           {
            "marker": {
             "pattern": {
              "fillmode": "overlay",
              "size": 10,
              "solidity": 0.2
             }
            },
            "type": "histogram"
           }
          ],
          "histogram2d": [
           {
            "colorbar": {
             "outlinewidth": 0,
             "ticks": ""
            },
            "colorscale": [
             [
              0,
              "#0d0887"
             ],
             [
              0.1111111111111111,
              "#46039f"
             ],
             [
              0.2222222222222222,
              "#7201a8"
             ],
             [
              0.3333333333333333,
              "#9c179e"
             ],
             [
              0.4444444444444444,
              "#bd3786"
             ],
             [
              0.5555555555555556,
              "#d8576b"
             ],
             [
              0.6666666666666666,
              "#ed7953"
             ],
             [
              0.7777777777777778,
              "#fb9f3a"
             ],
             [
              0.8888888888888888,
              "#fdca26"
             ],
             [
              1,
              "#f0f921"
             ]
            ],
            "type": "histogram2d"
           }
          ],
          "histogram2dcontour": [
           {
            "colorbar": {
             "outlinewidth": 0,
             "ticks": ""
            },
            "colorscale": [
             [
              0,
              "#0d0887"
             ],
             [
              0.1111111111111111,
              "#46039f"
             ],
             [
              0.2222222222222222,
              "#7201a8"
             ],
             [
              0.3333333333333333,
              "#9c179e"
             ],
             [
              0.4444444444444444,
              "#bd3786"
             ],
             [
              0.5555555555555556,
              "#d8576b"
             ],
             [
              0.6666666666666666,
              "#ed7953"
             ],
             [
              0.7777777777777778,
              "#fb9f3a"
             ],
             [
              0.8888888888888888,
              "#fdca26"
             ],
             [
              1,
              "#f0f921"
             ]
            ],
            "type": "histogram2dcontour"
           }
          ],
          "mesh3d": [
           {
            "colorbar": {
             "outlinewidth": 0,
             "ticks": ""
            },
            "type": "mesh3d"
           }
          ],
          "parcoords": [
           {
            "line": {
             "colorbar": {
              "outlinewidth": 0,
              "ticks": ""
             }
            },
            "type": "parcoords"
           }
          ],
          "pie": [
           {
            "automargin": true,
            "type": "pie"
           }
          ],
          "scatter": [
           {
            "fillpattern": {
             "fillmode": "overlay",
             "size": 10,
             "solidity": 0.2
            },
            "type": "scatter"
           }
          ],
          "scatter3d": [
           {
            "line": {
             "colorbar": {
              "outlinewidth": 0,
              "ticks": ""
             }
            },
            "marker": {
             "colorbar": {
              "outlinewidth": 0,
              "ticks": ""
             }
            },
            "type": "scatter3d"
           }
          ],
          "scattercarpet": [
           {
            "marker": {
             "colorbar": {
              "outlinewidth": 0,
              "ticks": ""
             }
            },
            "type": "scattercarpet"
           }
          ],
          "scattergeo": [
           {
            "marker": {
             "colorbar": {
              "outlinewidth": 0,
              "ticks": ""
             }
            },
            "type": "scattergeo"
           }
          ],
          "scattergl": [
           {
            "marker": {
             "colorbar": {
              "outlinewidth": 0,
              "ticks": ""
             }
            },
            "type": "scattergl"
           }
          ],
          "scattermapbox": [
           {
            "marker": {
             "colorbar": {
              "outlinewidth": 0,
              "ticks": ""
             }
            },
            "type": "scattermapbox"
           }
          ],
          "scatterpolar": [
           {
            "marker": {
             "colorbar": {
              "outlinewidth": 0,
              "ticks": ""
             }
            },
            "type": "scatterpolar"
           }
          ],
          "scatterpolargl": [
           {
            "marker": {
             "colorbar": {
              "outlinewidth": 0,
              "ticks": ""
             }
            },
            "type": "scatterpolargl"
           }
          ],
          "scatterternary": [
           {
            "marker": {
             "colorbar": {
              "outlinewidth": 0,
              "ticks": ""
             }
            },
            "type": "scatterternary"
           }
          ],
          "surface": [
           {
            "colorbar": {
             "outlinewidth": 0,
             "ticks": ""
            },
            "colorscale": [
             [
              0,
              "#0d0887"
             ],
             [
              0.1111111111111111,
              "#46039f"
             ],
             [
              0.2222222222222222,
              "#7201a8"
             ],
             [
              0.3333333333333333,
              "#9c179e"
             ],
             [
              0.4444444444444444,
              "#bd3786"
             ],
             [
              0.5555555555555556,
              "#d8576b"
             ],
             [
              0.6666666666666666,
              "#ed7953"
             ],
             [
              0.7777777777777778,
              "#fb9f3a"
             ],
             [
              0.8888888888888888,
              "#fdca26"
             ],
             [
              1,
              "#f0f921"
             ]
            ],
            "type": "surface"
           }
          ],
          "table": [
           {
            "cells": {
             "fill": {
              "color": "#EBF0F8"
             },
             "line": {
              "color": "white"
             }
            },
            "header": {
             "fill": {
              "color": "#C8D4E3"
             },
             "line": {
              "color": "white"
             }
            },
            "type": "table"
           }
          ]
         },
         "layout": {
          "annotationdefaults": {
           "arrowcolor": "#2a3f5f",
           "arrowhead": 0,
           "arrowwidth": 1
          },
          "autotypenumbers": "strict",
          "coloraxis": {
           "colorbar": {
            "outlinewidth": 0,
            "ticks": ""
           }
          },
          "colorscale": {
           "diverging": [
            [
             0,
             "#8e0152"
            ],
            [
             0.1,
             "#c51b7d"
            ],
            [
             0.2,
             "#de77ae"
            ],
            [
             0.3,
             "#f1b6da"
            ],
            [
             0.4,
             "#fde0ef"
            ],
            [
             0.5,
             "#f7f7f7"
            ],
            [
             0.6,
             "#e6f5d0"
            ],
            [
             0.7,
             "#b8e186"
            ],
            [
             0.8,
             "#7fbc41"
            ],
            [
             0.9,
             "#4d9221"
            ],
            [
             1,
             "#276419"
            ]
           ],
           "sequential": [
            [
             0,
             "#0d0887"
            ],
            [
             0.1111111111111111,
             "#46039f"
            ],
            [
             0.2222222222222222,
             "#7201a8"
            ],
            [
             0.3333333333333333,
             "#9c179e"
            ],
            [
             0.4444444444444444,
             "#bd3786"
            ],
            [
             0.5555555555555556,
             "#d8576b"
            ],
            [
             0.6666666666666666,
             "#ed7953"
            ],
            [
             0.7777777777777778,
             "#fb9f3a"
            ],
            [
             0.8888888888888888,
             "#fdca26"
            ],
            [
             1,
             "#f0f921"
            ]
           ],
           "sequentialminus": [
            [
             0,
             "#0d0887"
            ],
            [
             0.1111111111111111,
             "#46039f"
            ],
            [
             0.2222222222222222,
             "#7201a8"
            ],
            [
             0.3333333333333333,
             "#9c179e"
            ],
            [
             0.4444444444444444,
             "#bd3786"
            ],
            [
             0.5555555555555556,
             "#d8576b"
            ],
            [
             0.6666666666666666,
             "#ed7953"
            ],
            [
             0.7777777777777778,
             "#fb9f3a"
            ],
            [
             0.8888888888888888,
             "#fdca26"
            ],
            [
             1,
             "#f0f921"
            ]
           ]
          },
          "colorway": [
           "#636efa",
           "#EF553B",
           "#00cc96",
           "#ab63fa",
           "#FFA15A",
           "#19d3f3",
           "#FF6692",
           "#B6E880",
           "#FF97FF",
           "#FECB52"
          ],
          "font": {
           "color": "#2a3f5f"
          },
          "geo": {
           "bgcolor": "white",
           "lakecolor": "white",
           "landcolor": "#E5ECF6",
           "showlakes": true,
           "showland": true,
           "subunitcolor": "white"
          },
          "hoverlabel": {
           "align": "left"
          },
          "hovermode": "closest",
          "mapbox": {
           "style": "light"
          },
          "paper_bgcolor": "white",
          "plot_bgcolor": "#E5ECF6",
          "polar": {
           "angularaxis": {
            "gridcolor": "white",
            "linecolor": "white",
            "ticks": ""
           },
           "bgcolor": "#E5ECF6",
           "radialaxis": {
            "gridcolor": "white",
            "linecolor": "white",
            "ticks": ""
           }
          },
          "scene": {
           "xaxis": {
            "backgroundcolor": "#E5ECF6",
            "gridcolor": "white",
            "gridwidth": 2,
            "linecolor": "white",
            "showbackground": true,
            "ticks": "",
            "zerolinecolor": "white"
           },
           "yaxis": {
            "backgroundcolor": "#E5ECF6",
            "gridcolor": "white",
            "gridwidth": 2,
            "linecolor": "white",
            "showbackground": true,
            "ticks": "",
            "zerolinecolor": "white"
           },
           "zaxis": {
            "backgroundcolor": "#E5ECF6",
            "gridcolor": "white",
            "gridwidth": 2,
            "linecolor": "white",
            "showbackground": true,
            "ticks": "",
            "zerolinecolor": "white"
           }
          },
          "shapedefaults": {
           "line": {
            "color": "#2a3f5f"
           }
          },
          "ternary": {
           "aaxis": {
            "gridcolor": "white",
            "linecolor": "white",
            "ticks": ""
           },
           "baxis": {
            "gridcolor": "white",
            "linecolor": "white",
            "ticks": ""
           },
           "bgcolor": "#E5ECF6",
           "caxis": {
            "gridcolor": "white",
            "linecolor": "white",
            "ticks": ""
           }
          },
          "title": {
           "x": 0.05
          },
          "xaxis": {
           "automargin": true,
           "gridcolor": "white",
           "linecolor": "white",
           "ticks": "",
           "title": {
            "standoff": 15
           },
           "zerolinecolor": "white",
           "zerolinewidth": 2
          },
          "yaxis": {
           "automargin": true,
           "gridcolor": "white",
           "linecolor": "white",
           "ticks": "",
           "title": {
            "standoff": 15
           },
           "zerolinecolor": "white",
           "zerolinewidth": 2
          }
         }
        },
        "xaxis": {
         "anchor": "y",
         "domain": [
          0,
          1
         ],
         "title": {
          "text": "rt"
         }
        },
        "yaxis": {
         "anchor": "x",
         "domain": [
          0,
          1
         ],
         "title": {
          "text": "median_actual_time_till_next_bus"
         }
        }
       }
      }
     },
     "metadata": {},
     "output_type": "display_data"
    },
    {
     "data": {
      "text/plain": [
       "True"
      ]
     },
     "execution_count": 12,
     "metadata": {},
     "output_type": "execute_result"
    }
   ],
   "source": [
    "plot_metrics(all_metrics_rt, 'median_actual_time_till_next_bus', 'rt')\n"
   ]
  },
  {
   "cell_type": "code",
   "execution_count": 6,
   "metadata": {},
   "outputs": [],
   "source": [
    "total_stops, total_trips = load_metrics()"
   ]
  },
  {
   "cell_type": "code",
   "execution_count": 17,
   "metadata": {},
   "outputs": [],
   "source": [
    "def create_trip_chart(rt):\n",
    "\n",
    "    #sample of 100 bus trips\n",
    "    trips = create_trips_df(rt,is_schedule=False)\n",
    "    pid = trips.group_by('pid').n_unique().sort('trip_id', descending = True).limit(1).rows(named=True)[0]['pid']\n",
    "    sample_trips = trips.filter(pl.col('pid') == pid).unique(subset=[\"trip_id\"]).sample(100).select(['trip_id'])\n",
    "\n",
    "    #sample of 100 trips\n",
    "    trips_100 = trips.filter(pl.col('trip_id').is_in(sample_trips))\n",
    "    trips_100 = time_to_next_stop(trips_100)\n",
    "    trips_100 = trips_100.sort(['trip_id','cum_trip_time'], descending=False)\n",
    "\n",
    "\n",
    "    # get agg values\n",
    "    agg = total_stops.select(['rt','pid','period','period_value','stop_id', 'median_actual_cum_trip_time','median_schedule_cum_trip_time'])\n",
    "    agg = agg.filter((pl.col('rt') == rt) & (pl.col('period') == 'year') & (pl.col('period_value') == 2024) & (pl.col('pid') == pid))\n",
    "    agg = agg.sort('median_actual_cum_trip_time', descending=False)\n",
    "    # create a fake stop sequence\n",
    "    agg = agg.with_row_index()\n",
    "\n",
    "    #chart\n",
    "\n",
    "    fig, ax = plt.subplots()\n",
    "    plt.figure(figsize=(10,10))\n",
    "\n",
    "\n",
    "\n",
    "    for row in trips_100.iter_rows(named=True):\n",
    "        subset = trips_100.filter(pl.col('trip_id') == row['trip_id'])\n",
    "        ax.plot(subset['stop_sequence'], subset.select(pl.col('cum_trip_time')).get_columns()[0].dt.total_seconds()/60, color = 'grey', alpha=0.01, linestyle='dashed')\n",
    "\n",
    "    ax.plot(agg['index'], agg.select(pl.col('median_schedule_cum_trip_time')).get_columns()[0].dt.total_seconds()/60, label = 'Schedule', linewidth=4)\n",
    "    ax.plot(agg['index'], agg.select(pl.col('median_actual_cum_trip_time')).get_columns()[0].dt.total_seconds()/60, label = 'Real', linewidth=4)\n",
    "\n",
    "    ax.legend()\n",
    "    ax.set_xlabel('Stop Sequence')\n",
    "    ax.set_ylabel('Trip Duration (minutes)')\n",
    "    plt.show()\n"
   ]
  },
  {
   "cell_type": "code",
   "execution_count": 40,
   "metadata": {},
   "outputs": [
    {
     "name": "stdout",
     "output_type": "stream",
     "text": [
      "{'pid': 14108}\n",
      "{'pid': 14111}\n"
     ]
    },
    {
     "data": {
      "image/png": "[encoded data removed]",
      "text/plain": [
       "<Figure size 640x480 with 1 Axes>"
      ]
     },
     "metadata": {},
     "output_type": "display_data"
    },
    {
     "data": {
      "text/plain": [
       "<Figure size 1000x1000 with 0 Axes>"
      ]
     },
     "metadata": {},
     "output_type": "display_data"
    }
   ],
   "source": [
    "create_trip_chart('171')"
   ]
  }
 ],
 "metadata": {
  "kernelspec": {
   "display_name": ".venv",
   "language": "python",
   "name": "python3"
  },
  "language_info": {
   "codemirror_mode": {
    "name": "ipython",
    "version": 3
   },
   "file_extension": ".py",
   "mimetype": "text/x-python",
   "name": "python",
   "nbconvert_exporter": "python",
   "pygments_lexer": "ipython3",
   "version": "3.12.1"
  }
 },
 "nbformat": 4,
 "nbformat_minor": 2
}
