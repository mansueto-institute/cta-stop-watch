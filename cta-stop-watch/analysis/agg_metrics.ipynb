{
 "cells": [
  {
   "cell_type": "code",
   "execution_count": 1,
   "metadata": {},
   "outputs": [],
   "source": [
    "from stop_metrics import create_combined_metrics_stop_df\n",
    "from trip_metrics import create_combined_metrics_trip_df\n",
    "import matplotlib.pyplot as plt\n",
    "import random\n",
    "import plotly.express as px\n",
    "import polars as pl\n",
    "import pandas as pd\n"
   ]
  },
  {
   "cell_type": "code",
   "execution_count": 2,
   "metadata": {},
   "outputs": [],
   "source": [
    "#loading data\n",
    "ca_xwalk = pl.read_parquet('communities_stops.parquet')\n",
    "ca_xwalk = ca_xwalk.select(['community','stpid']).rename({'stpid':'stop_id'})\n",
    "\n",
    "actual_stops = pl.read_parquet('out/actual_stop_metrics_df.parquet')\n",
    "schedule_stops = pl.read_parquet('out/schedule_stop_metrics_df.parquet')\n",
    "actual_trips  = pl.read_parquet('out/actual_trip_metrics_df.parquet')\n",
    "schedule_trips = pl.read_parquet('out/schedule_trip_metrics_df.parquet')\n",
    "\n",
    "total_stops = create_combined_metrics_stop_df(actual_stops, schedule_stops)\n",
    "total_stops = total_stops.join(ca_xwalk, on='stop_id', how = 'left', coalesce=True)\n",
    "\n",
    "total_trips = create_combined_metrics_trip_df(actual_trips, schedule_trips)"
   ]
  },
  {
   "cell_type": "code",
   "execution_count": 3,
   "metadata": {},
   "outputs": [],
   "source": [
    "def average_by(df:pd.DataFrame, grouping:str, period:str, metrics:list):\n",
    "    \"\"\"\n",
    "    grouping helper function \n",
    "    \"\"\"\n",
    "    df = df[~df['rt'].isin(['5','169'])]\n",
    "    if 'community' in df.columns:\n",
    "        df = df[['rt','period','period_value', 'community']+metrics]\n",
    "    else: \n",
    "        df = df[['rt','period','period_value']+metrics]\n",
    "        \n",
    "    if period == \"one_value\":\n",
    "        by_period = df[df['period'] == 'dayofyear']\n",
    "        by_period_grouped = by_period.groupby([grouping])[metrics].median().reset_index()\n",
    "    else:\n",
    "        by_period = actual_stops[actual_stops['period']== period]\n",
    "        by_period_grouped = by_period.groupby([grouping,'period_value'])[metrics].median().reset_index()\n",
    "\n",
    "    #convert to minutes\n",
    "    for metric in metrics:\n",
    "        if 'num_buses' not in metric:\n",
    "            by_period_grouped[metric] = by_period_grouped[metric].dt.total_seconds()/60\n",
    "\n",
    "    \n",
    "    return by_period_grouped"
   ]
  },
  {
   "cell_type": "code",
   "execution_count": 4,
   "metadata": {},
   "outputs": [],
   "source": [
    "# create a route level metrics tables\n",
    "# missing num of buses, should do sum not median\n",
    "\n",
    "# weirdness in schedule trip duration\n",
    "metrics_stop = ['median_actual_time_till_next_bus','std_actual_time_till_next_bus','time_till_next_bus_delay',\n",
    "                'median_schedule_num_buses', 'median_actual_num_buses']\n",
    "avg_stops = average_by(total_stops.to_pandas(),'rt', \"one_value\", metrics_stop)\n",
    "metrics_trip = ['median_actual_trip_duration', 'median_schedule_trip_duration']\n",
    "avg_trips = average_by(total_trips.to_pandas(),'rt', \"one_value\", metrics_trip)\n",
    "avg_trips['trip_delay'] = avg_trips['median_actual_trip_duration'] - avg_trips['median_schedule_trip_duration']\n",
    "avg_stops['bus_excess'] = avg_stops['median_actual_num_buses'] - avg_stops['median_schedule_num_buses']\n",
    "all_metrics_rts = avg_stops.join(avg_trips.set_index('rt'), on='rt')\n"
   ]
  },
  {
   "cell_type": "code",
   "execution_count": 5,
   "metadata": {},
   "outputs": [
    {
     "data": {
      "text/html": [
       "<div>\n",
       "<style scoped>\n",
       "    .dataframe tbody tr th:only-of-type {\n",
       "        vertical-align: middle;\n",
       "    }\n",
       "\n",
       "    .dataframe tbody tr th {\n",
       "        vertical-align: top;\n",
       "    }\n",
       "\n",
       "    .dataframe thead th {\n",
       "        text-align: right;\n",
       "    }\n",
       "</style>\n",
       "<table border=\"1\" class=\"dataframe\">\n",
       "  <thead>\n",
       "    <tr style=\"text-align: right;\">\n",
       "      <th></th>\n",
       "      <th>rt</th>\n",
       "      <th>median_actual_time_till_next_bus</th>\n",
       "      <th>std_actual_time_till_next_bus</th>\n",
       "      <th>time_till_next_bus_delay</th>\n",
       "      <th>median_schedule_num_buses</th>\n",
       "      <th>median_actual_num_buses</th>\n",
       "      <th>bus_excess</th>\n",
       "      <th>median_actual_trip_duration</th>\n",
       "      <th>median_schedule_trip_duration</th>\n",
       "      <th>trip_delay</th>\n",
       "    </tr>\n",
       "  </thead>\n",
       "  <tbody>\n",
       "    <tr>\n",
       "      <th>0</th>\n",
       "      <td>1</td>\n",
       "      <td>16.257100</td>\n",
       "      <td>143.245402</td>\n",
       "      <td>0.158607</td>\n",
       "      <td>25.0</td>\n",
       "      <td>22.0</td>\n",
       "      <td>-3.0</td>\n",
       "      <td>36.125968</td>\n",
       "      <td>739.404167</td>\n",
       "      <td>-703.278199</td>\n",
       "    </tr>\n",
       "    <tr>\n",
       "      <th>1</th>\n",
       "      <td>100</td>\n",
       "      <td>20.513614</td>\n",
       "      <td>144.671636</td>\n",
       "      <td>0.457127</td>\n",
       "      <td>20.0</td>\n",
       "      <td>18.5</td>\n",
       "      <td>-1.5</td>\n",
       "      <td>32.721497</td>\n",
       "      <td>31.500000</td>\n",
       "      <td>1.221497</td>\n",
       "    </tr>\n",
       "    <tr>\n",
       "      <th>2</th>\n",
       "      <td>103</td>\n",
       "      <td>17.370830</td>\n",
       "      <td>10.027596</td>\n",
       "      <td>0.028937</td>\n",
       "      <td>14.0</td>\n",
       "      <td>13.0</td>\n",
       "      <td>-1.0</td>\n",
       "      <td>31.559426</td>\n",
       "      <td>29.500000</td>\n",
       "      <td>2.059426</td>\n",
       "    </tr>\n",
       "    <tr>\n",
       "      <th>3</th>\n",
       "      <td>106</td>\n",
       "      <td>15.472709</td>\n",
       "      <td>66.772132</td>\n",
       "      <td>0.212486</td>\n",
       "      <td>22.0</td>\n",
       "      <td>20.5</td>\n",
       "      <td>-1.5</td>\n",
       "      <td>20.569868</td>\n",
       "      <td>18.000000</td>\n",
       "      <td>2.569868</td>\n",
       "    </tr>\n",
       "    <tr>\n",
       "      <th>4</th>\n",
       "      <td>108</td>\n",
       "      <td>17.877450</td>\n",
       "      <td>11.500120</td>\n",
       "      <td>0.026293</td>\n",
       "      <td>4.0</td>\n",
       "      <td>4.0</td>\n",
       "      <td>0.0</td>\n",
       "      <td>30.779882</td>\n",
       "      <td>25.000000</td>\n",
       "      <td>5.779882</td>\n",
       "    </tr>\n",
       "    <tr>\n",
       "      <th>...</th>\n",
       "      <td>...</td>\n",
       "      <td>...</td>\n",
       "      <td>...</td>\n",
       "      <td>...</td>\n",
       "      <td>...</td>\n",
       "      <td>...</td>\n",
       "      <td>...</td>\n",
       "      <td>...</td>\n",
       "      <td>...</td>\n",
       "      <td>...</td>\n",
       "    </tr>\n",
       "    <tr>\n",
       "      <th>115</th>\n",
       "      <td>96</td>\n",
       "      <td>20.932545</td>\n",
       "      <td>13.397507</td>\n",
       "      <td>0.056276</td>\n",
       "      <td>22.0</td>\n",
       "      <td>15.0</td>\n",
       "      <td>-7.0</td>\n",
       "      <td>27.183565</td>\n",
       "      <td>20.500000</td>\n",
       "      <td>6.683565</td>\n",
       "    </tr>\n",
       "    <tr>\n",
       "      <th>116</th>\n",
       "      <td>97</td>\n",
       "      <td>19.821526</td>\n",
       "      <td>80.633965</td>\n",
       "      <td>0.298770</td>\n",
       "      <td>40.0</td>\n",
       "      <td>35.5</td>\n",
       "      <td>-4.5</td>\n",
       "      <td>39.350395</td>\n",
       "      <td>1441.750000</td>\n",
       "      <td>-1402.399605</td>\n",
       "    </tr>\n",
       "    <tr>\n",
       "      <th>117</th>\n",
       "      <td>J14</td>\n",
       "      <td>13.158780</td>\n",
       "      <td>11.081761</td>\n",
       "      <td>-0.067069</td>\n",
       "      <td>45.5</td>\n",
       "      <td>12.0</td>\n",
       "      <td>-33.5</td>\n",
       "      <td>61.288212</td>\n",
       "      <td>1446.387500</td>\n",
       "      <td>-1385.099288</td>\n",
       "    </tr>\n",
       "    <tr>\n",
       "      <th>118</th>\n",
       "      <td>X49</td>\n",
       "      <td>9.959759</td>\n",
       "      <td>127.664828</td>\n",
       "      <td>0.503727</td>\n",
       "      <td>38.0</td>\n",
       "      <td>34.5</td>\n",
       "      <td>-3.5</td>\n",
       "      <td>95.611145</td>\n",
       "      <td>1440.000000</td>\n",
       "      <td>-1344.388855</td>\n",
       "    </tr>\n",
       "    <tr>\n",
       "      <th>119</th>\n",
       "      <td>X9</td>\n",
       "      <td>11.924917</td>\n",
       "      <td>42.684211</td>\n",
       "      <td>0.765624</td>\n",
       "      <td>15.0</td>\n",
       "      <td>14.0</td>\n",
       "      <td>-1.0</td>\n",
       "      <td>89.204163</td>\n",
       "      <td>1443.725000</td>\n",
       "      <td>-1354.520837</td>\n",
       "    </tr>\n",
       "  </tbody>\n",
       "</table>\n",
       "<p>120 rows × 10 columns</p>\n",
       "</div>"
      ],
      "text/plain": [
       "      rt  median_actual_time_till_next_bus  std_actual_time_till_next_bus  \\\n",
       "0      1                         16.257100                     143.245402   \n",
       "1    100                         20.513614                     144.671636   \n",
       "2    103                         17.370830                      10.027596   \n",
       "3    106                         15.472709                      66.772132   \n",
       "4    108                         17.877450                      11.500120   \n",
       "..   ...                               ...                            ...   \n",
       "115   96                         20.932545                      13.397507   \n",
       "116   97                         19.821526                      80.633965   \n",
       "117  J14                         13.158780                      11.081761   \n",
       "118  X49                          9.959759                     127.664828   \n",
       "119   X9                         11.924917                      42.684211   \n",
       "\n",
       "     time_till_next_bus_delay  median_schedule_num_buses  \\\n",
       "0                    0.158607                       25.0   \n",
       "1                    0.457127                       20.0   \n",
       "2                    0.028937                       14.0   \n",
       "3                    0.212486                       22.0   \n",
       "4                    0.026293                        4.0   \n",
       "..                        ...                        ...   \n",
       "115                  0.056276                       22.0   \n",
       "116                  0.298770                       40.0   \n",
       "117                 -0.067069                       45.5   \n",
       "118                  0.503727                       38.0   \n",
       "119                  0.765624                       15.0   \n",
       "\n",
       "     median_actual_num_buses  bus_excess  median_actual_trip_duration  \\\n",
       "0                       22.0        -3.0                    36.125968   \n",
       "1                       18.5        -1.5                    32.721497   \n",
       "2                       13.0        -1.0                    31.559426   \n",
       "3                       20.5        -1.5                    20.569868   \n",
       "4                        4.0         0.0                    30.779882   \n",
       "..                       ...         ...                          ...   \n",
       "115                     15.0        -7.0                    27.183565   \n",
       "116                     35.5        -4.5                    39.350395   \n",
       "117                     12.0       -33.5                    61.288212   \n",
       "118                     34.5        -3.5                    95.611145   \n",
       "119                     14.0        -1.0                    89.204163   \n",
       "\n",
       "     median_schedule_trip_duration   trip_delay  \n",
       "0                       739.404167  -703.278199  \n",
       "1                        31.500000     1.221497  \n",
       "2                        29.500000     2.059426  \n",
       "3                        18.000000     2.569868  \n",
       "4                        25.000000     5.779882  \n",
       "..                             ...          ...  \n",
       "115                      20.500000     6.683565  \n",
       "116                    1441.750000 -1402.399605  \n",
       "117                    1446.387500 -1385.099288  \n",
       "118                    1440.000000 -1344.388855  \n",
       "119                    1443.725000 -1354.520837  \n",
       "\n",
       "[120 rows x 10 columns]"
      ]
     },
     "execution_count": 5,
     "metadata": {},
     "output_type": "execute_result"
    }
   ],
   "source": [
    "all_metrics_rts"
   ]
  },
  {
   "cell_type": "code",
   "execution_count": 6,
   "metadata": {},
   "outputs": [],
   "source": [
    "# create a community area metrics tables\n",
    "# idk what to do with num of buses\n",
    "metrics_stop = ['median_actual_time_till_next_bus','std_actual_time_till_next_bus','time_till_next_bus_delay',\n",
    "                'median_schedule_num_buses', 'median_actual_num_buses']\n",
    "\n",
    "all_metrics_ca = average_by(total_stops.to_pandas(),'community', \"one_value\", metrics_stop)\n",
    "all_metrics_ca['bus_excess'] = all_metrics_ca['median_actual_num_buses'] - all_metrics_ca['median_schedule_num_buses']\n"
   ]
  },
  {
   "cell_type": "code",
   "execution_count": 7,
   "metadata": {},
   "outputs": [
    {
     "data": {
      "text/html": [
       "<div>\n",
       "<style scoped>\n",
       "    .dataframe tbody tr th:only-of-type {\n",
       "        vertical-align: middle;\n",
       "    }\n",
       "\n",
       "    .dataframe tbody tr th {\n",
       "        vertical-align: top;\n",
       "    }\n",
       "\n",
       "    .dataframe thead th {\n",
       "        text-align: right;\n",
       "    }\n",
       "</style>\n",
       "<table border=\"1\" class=\"dataframe\">\n",
       "  <thead>\n",
       "    <tr style=\"text-align: right;\">\n",
       "      <th></th>\n",
       "      <th>community</th>\n",
       "      <th>median_actual_time_till_next_bus</th>\n",
       "      <th>std_actual_time_till_next_bus</th>\n",
       "      <th>time_till_next_bus_delay</th>\n",
       "      <th>median_schedule_num_buses</th>\n",
       "      <th>median_actual_num_buses</th>\n",
       "      <th>bus_excess</th>\n",
       "    </tr>\n",
       "  </thead>\n",
       "  <tbody>\n",
       "    <tr>\n",
       "      <th>0</th>\n",
       "      <td>ALBANY PARK</td>\n",
       "      <td>12.101495</td>\n",
       "      <td>13.939987</td>\n",
       "      <td>0.101888</td>\n",
       "      <td>17.0</td>\n",
       "      <td>18.5</td>\n",
       "      <td>1.5</td>\n",
       "    </tr>\n",
       "    <tr>\n",
       "      <th>1</th>\n",
       "      <td>ARCHER HEIGHTS</td>\n",
       "      <td>14.522237</td>\n",
       "      <td>8.852496</td>\n",
       "      <td>-0.242907</td>\n",
       "      <td>10.0</td>\n",
       "      <td>10.0</td>\n",
       "      <td>0.0</td>\n",
       "    </tr>\n",
       "    <tr>\n",
       "      <th>2</th>\n",
       "      <td>ARMOUR SQUARE</td>\n",
       "      <td>19.222924</td>\n",
       "      <td>9.485269</td>\n",
       "      <td>0.087827</td>\n",
       "      <td>15.0</td>\n",
       "      <td>14.0</td>\n",
       "      <td>-1.0</td>\n",
       "    </tr>\n",
       "    <tr>\n",
       "      <th>3</th>\n",
       "      <td>ASHBURN</td>\n",
       "      <td>11.441010</td>\n",
       "      <td>9.064638</td>\n",
       "      <td>0.028967</td>\n",
       "      <td>21.0</td>\n",
       "      <td>21.5</td>\n",
       "      <td>0.5</td>\n",
       "    </tr>\n",
       "    <tr>\n",
       "      <th>4</th>\n",
       "      <td>AUBURN GRESHAM</td>\n",
       "      <td>9.707169</td>\n",
       "      <td>8.262724</td>\n",
       "      <td>0.088522</td>\n",
       "      <td>20.5</td>\n",
       "      <td>18.5</td>\n",
       "      <td>-2.0</td>\n",
       "    </tr>\n",
       "    <tr>\n",
       "      <th>...</th>\n",
       "      <td>...</td>\n",
       "      <td>...</td>\n",
       "      <td>...</td>\n",
       "      <td>...</td>\n",
       "      <td>...</td>\n",
       "      <td>...</td>\n",
       "      <td>...</td>\n",
       "    </tr>\n",
       "    <tr>\n",
       "      <th>72</th>\n",
       "      <td>WEST LAWN</td>\n",
       "      <td>13.026825</td>\n",
       "      <td>7.000039</td>\n",
       "      <td>-0.020545</td>\n",
       "      <td>8.0</td>\n",
       "      <td>9.0</td>\n",
       "      <td>1.0</td>\n",
       "    </tr>\n",
       "    <tr>\n",
       "      <th>73</th>\n",
       "      <td>WEST PULLMAN</td>\n",
       "      <td>14.701001</td>\n",
       "      <td>68.465013</td>\n",
       "      <td>0.306232</td>\n",
       "      <td>33.0</td>\n",
       "      <td>29.0</td>\n",
       "      <td>-4.0</td>\n",
       "    </tr>\n",
       "    <tr>\n",
       "      <th>74</th>\n",
       "      <td>WEST RIDGE</td>\n",
       "      <td>17.743992</td>\n",
       "      <td>65.251187</td>\n",
       "      <td>0.008547</td>\n",
       "      <td>31.0</td>\n",
       "      <td>32.0</td>\n",
       "      <td>1.0</td>\n",
       "    </tr>\n",
       "    <tr>\n",
       "      <th>75</th>\n",
       "      <td>WEST TOWN</td>\n",
       "      <td>10.257857</td>\n",
       "      <td>8.105193</td>\n",
       "      <td>-0.288383</td>\n",
       "      <td>12.0</td>\n",
       "      <td>23.0</td>\n",
       "      <td>11.0</td>\n",
       "    </tr>\n",
       "    <tr>\n",
       "      <th>76</th>\n",
       "      <td>WOODLAWN</td>\n",
       "      <td>11.754874</td>\n",
       "      <td>7.286166</td>\n",
       "      <td>-0.142951</td>\n",
       "      <td>15.0</td>\n",
       "      <td>17.5</td>\n",
       "      <td>2.5</td>\n",
       "    </tr>\n",
       "  </tbody>\n",
       "</table>\n",
       "<p>77 rows × 7 columns</p>\n",
       "</div>"
      ],
      "text/plain": [
       "         community  median_actual_time_till_next_bus  \\\n",
       "0      ALBANY PARK                         12.101495   \n",
       "1   ARCHER HEIGHTS                         14.522237   \n",
       "2    ARMOUR SQUARE                         19.222924   \n",
       "3          ASHBURN                         11.441010   \n",
       "4   AUBURN GRESHAM                          9.707169   \n",
       "..             ...                               ...   \n",
       "72       WEST LAWN                         13.026825   \n",
       "73    WEST PULLMAN                         14.701001   \n",
       "74      WEST RIDGE                         17.743992   \n",
       "75       WEST TOWN                         10.257857   \n",
       "76        WOODLAWN                         11.754874   \n",
       "\n",
       "    std_actual_time_till_next_bus  time_till_next_bus_delay  \\\n",
       "0                       13.939987                  0.101888   \n",
       "1                        8.852496                 -0.242907   \n",
       "2                        9.485269                  0.087827   \n",
       "3                        9.064638                  0.028967   \n",
       "4                        8.262724                  0.088522   \n",
       "..                            ...                       ...   \n",
       "72                       7.000039                 -0.020545   \n",
       "73                      68.465013                  0.306232   \n",
       "74                      65.251187                  0.008547   \n",
       "75                       8.105193                 -0.288383   \n",
       "76                       7.286166                 -0.142951   \n",
       "\n",
       "    median_schedule_num_buses  median_actual_num_buses  bus_excess  \n",
       "0                        17.0                     18.5         1.5  \n",
       "1                        10.0                     10.0         0.0  \n",
       "2                        15.0                     14.0        -1.0  \n",
       "3                        21.0                     21.5         0.5  \n",
       "4                        20.5                     18.5        -2.0  \n",
       "..                        ...                      ...         ...  \n",
       "72                        8.0                      9.0         1.0  \n",
       "73                       33.0                     29.0        -4.0  \n",
       "74                       31.0                     32.0         1.0  \n",
       "75                       12.0                     23.0        11.0  \n",
       "76                       15.0                     17.5         2.5  \n",
       "\n",
       "[77 rows x 7 columns]"
      ]
     },
     "execution_count": 7,
     "metadata": {},
     "output_type": "execute_result"
    }
   ],
   "source": [
    "all_metrics_ca"
   ]
  },
  {
   "cell_type": "code",
   "execution_count": 23,
   "metadata": {},
   "outputs": [
    {
     "data": {
      "application/vnd.plotly.v1+json": {
       "config": {
        "plotlyServerURL": "https://plot.ly"
       },
       "data": [
        {
         "alignmentgroup": "True",
         "hovertemplate": "community=%{x}<br>median_actual_time_till_next_bus=%{y}<extra></extra>",
         "legendgroup": "",
         "marker": {
          "color": "#636efa",
          "pattern": {
           "shape": ""
          }
         },
         "name": "",
         "offsetgroup": "",
         "orientation": "v",
         "showlegend": false,
         "textposition": "auto",
         "type": "bar",
         "x": [
          "OHARE",
          "EDISON PARK",
          "FOREST GLEN",
          "NORWOOD PARK",
          "CLEARING",
          "GARFIELD RIDGE",
          "HEGEWISCH",
          "EAST SIDE",
          "FULLER PARK",
          "ARMOUR SQUARE",
          "WEST RIDGE",
          "MOUNT GREENWOOD",
          "BEVERLY",
          "MORGAN PARK",
          "WASHINGTON HEIGHTS",
          "PULLMAN",
          "JEFFERSON PARK",
          "BURNSIDE",
          "ROSELAND",
          "MCKINLEY PARK",
          "MONTCLARE",
          "ROGERS PARK",
          "BRIGHTON PARK",
          "SOUTH DEERING",
          "WEST PULLMAN",
          "ARCHER HEIGHTS",
          "SOUTH LAWNDALE",
          "DOUGLAS",
          "CALUMET HEIGHTS",
          "HYDE PARK",
          "EDGEWATER",
          "LOWER WEST SIDE",
          "KENWOOD",
          "LINCOLN SQUARE",
          "PORTAGE PARK",
          "SOUTH SHORE",
          "NEAR SOUTH SIDE",
          "GRAND BOULEVARD",
          "NEW CITY",
          "BRIDGEPORT",
          "CHICAGO LAWN",
          "WEST LAWN",
          "OAKLAND",
          "BELMONT CRAGIN",
          "NORTH LAWNDALE",
          "UPTOWN",
          "LOOP",
          "GAGE PARK",
          "DUNNING",
          "WEST ENGLEWOOD",
          "AVALON PARK",
          "HERMOSA",
          "SOUTH CHICAGO",
          "ENGLEWOOD",
          "ALBANY PARK",
          "LOGAN SQUARE",
          "WASHINGTON PARK",
          "RIVERDALE",
          "WOODLAWN",
          "GREATER GRAND CROSSING",
          "NORTH PARK",
          "LINCOLN PARK",
          "ASHBURN",
          "WEST ELSDON",
          "EAST GARFIELD PARK",
          "NEAR NORTH SIDE",
          "NEAR WEST SIDE",
          "AUSTIN",
          "IRVING PARK",
          "LAKE VIEW",
          "WEST GARFIELD PARK",
          "WEST TOWN",
          "CHATHAM",
          "NORTH CENTER",
          "AUBURN GRESHAM",
          "HUMBOLDT PARK",
          "AVONDALE"
         ],
         "xaxis": "x",
         "y": [
          25.002289508666667,
          23.525362834350002,
          21.84332754753333,
          21.687139280216666,
          20.58173314633333,
          20.431213710416667,
          19.869068756916665,
          19.832607666366666,
          19.293280920016667,
          19.222924061799997,
          17.743991532483335,
          17.260154890566664,
          17.125194457483335,
          16.845416018683334,
          16.11918912786667,
          16.060138444383334,
          16.052912674399998,
          15.936209416550001,
          15.433814061233333,
          15.376100205566667,
          15.325099809516667,
          15.1610432565,
          14.857220350866667,
          14.8424798043,
          14.701001218366667,
          14.52223698715,
          14.34374950255,
          14.3084533505,
          14.213235173183334,
          13.922219741016667,
          13.892939233216667,
          13.7948566714,
          13.716040924049999,
          13.713631276283333,
          13.467517134816667,
          13.3934317988,
          13.365580501783334,
          13.273604146833332,
          13.234107828050002,
          13.10815677675,
          13.033024646966668,
          13.0268251612,
          13.010289801433334,
          12.843644046933333,
          12.82937167235,
          12.788629768333333,
          12.784810848183334,
          12.675080265550001,
          12.39170182055,
          12.312326236750001,
          12.2777142943,
          12.27599288525,
          12.2585509224,
          12.133615181216667,
          12.101495287183333,
          11.967649262966667,
          11.95541190695,
          11.889583299183332,
          11.754874403633332,
          11.551016150883333,
          11.472427272966666,
          11.453327082633333,
          11.441010197766667,
          11.392609284866667,
          11.372677940716667,
          11.294986420033332,
          11.2859416514,
          11.175717923366667,
          10.864900651433334,
          10.397332356983332,
          10.32519942655,
          10.257857106116667,
          10.210271086466667,
          9.929417952183334,
          9.70716917225,
          9.2830031522,
          8.37965597295
         ],
         "yaxis": "y"
        }
       ],
       "layout": {
        "barmode": "relative",
        "legend": {
         "tracegroupgap": 0
        },
        "margin": {
         "t": 60
        },
        "template": {
         "data": {
          "bar": [
           {
            "error_x": {
             "color": "#2a3f5f"
            },
            "error_y": {
             "color": "#2a3f5f"
            },
            "marker": {
             "line": {
              "color": "#E5ECF6",
              "width": 0.5
             },
             "pattern": {
              "fillmode": "overlay",
              "size": 10,
              "solidity": 0.2
             }
            },
            "type": "bar"
           }
          ],
          "barpolar": [
           {
            "marker": {
             "line": {
              "color": "#E5ECF6",
              "width": 0.5
             },
             "pattern": {
              "fillmode": "overlay",
              "size": 10,
              "solidity": 0.2
             }
            },
            "type": "barpolar"
           }
          ],
          "carpet": [
           {
            "aaxis": {
             "endlinecolor": "#2a3f5f",
             "gridcolor": "white",
             "linecolor": "white",
             "minorgridcolor": "white",
             "startlinecolor": "#2a3f5f"
            },
            "baxis": {
             "endlinecolor": "#2a3f5f",
             "gridcolor": "white",
             "linecolor": "white",
             "minorgridcolor": "white",
             "startlinecolor": "#2a3f5f"
            },
            "type": "carpet"
           }
          ],
          "choropleth": [
           {
            "colorbar": {
             "outlinewidth": 0,
             "ticks": ""
            },
            "type": "choropleth"
           }
          ],
          "contour": [
           {
            "colorbar": {
             "outlinewidth": 0,
             "ticks": ""
            },
            "colorscale": [
             [
              0,
              "#0d0887"
             ],
             [
              0.1111111111111111,
              "#46039f"
             ],
             [
              0.2222222222222222,
              "#7201a8"
             ],
             [
              0.3333333333333333,
              "#9c179e"
             ],
             [
              0.4444444444444444,
              "#bd3786"
             ],
             [
              0.5555555555555556,
              "#d8576b"
             ],
             [
              0.6666666666666666,
              "#ed7953"
             ],
             [
              0.7777777777777778,
              "#fb9f3a"
             ],
             [
              0.8888888888888888,
              "#fdca26"
             ],
             [
              1,
              "#f0f921"
             ]
            ],
            "type": "contour"
           }
          ],
          "contourcarpet": [
           {
            "colorbar": {
             "outlinewidth": 0,
             "ticks": ""
            },
            "type": "contourcarpet"
           }
          ],
          "heatmap": [
           {
            "colorbar": {
             "outlinewidth": 0,
             "ticks": ""
            },
            "colorscale": [
             [
              0,
              "#0d0887"
             ],
             [
              0.1111111111111111,
              "#46039f"
             ],
             [
              0.2222222222222222,
              "#7201a8"
             ],
             [
              0.3333333333333333,
              "#9c179e"
             ],
             [
              0.4444444444444444,
              "#bd3786"
             ],
             [
              0.5555555555555556,
              "#d8576b"
             ],
             [
              0.6666666666666666,
              "#ed7953"
             ],
             [
              0.7777777777777778,
              "#fb9f3a"
             ],
             [
              0.8888888888888888,
              "#fdca26"
             ],
             [
              1,
              "#f0f921"
             ]
            ],
            "type": "heatmap"
           }
          ],
          "heatmapgl": [
           {
            "colorbar": {
             "outlinewidth": 0,
             "ticks": ""
            },
            "colorscale": [
             [
              0,
              "#0d0887"
             ],
             [
              0.1111111111111111,
              "#46039f"
             ],
             [
              0.2222222222222222,
              "#7201a8"
             ],
             [
              0.3333333333333333,
              "#9c179e"
             ],
             [
              0.4444444444444444,
              "#bd3786"
             ],
             [
              0.5555555555555556,
              "#d8576b"
             ],
             [
              0.6666666666666666,
              "#ed7953"
             ],
             [
              0.7777777777777778,
              "#fb9f3a"
             ],
             [
              0.8888888888888888,
              "#fdca26"
             ],
             [
              1,
              "#f0f921"
             ]
            ],
            "type": "heatmapgl"
           }
          ],
          "histogram": [
           {
            "marker": {
             "pattern": {
              "fillmode": "overlay",
              "size": 10,
              "solidity": 0.2
             }
            },
            "type": "histogram"
           }
          ],
          "histogram2d": [
           {
            "colorbar": {
             "outlinewidth": 0,
             "ticks": ""
            },
            "colorscale": [
             [
              0,
              "#0d0887"
             ],
             [
              0.1111111111111111,
              "#46039f"
             ],
             [
              0.2222222222222222,
              "#7201a8"
             ],
             [
              0.3333333333333333,
              "#9c179e"
             ],
             [
              0.4444444444444444,
              "#bd3786"
             ],
             [
              0.5555555555555556,
              "#d8576b"
             ],
             [
              0.6666666666666666,
              "#ed7953"
             ],
             [
              0.7777777777777778,
              "#fb9f3a"
             ],
             [
              0.8888888888888888,
              "#fdca26"
             ],
             [
              1,
              "#f0f921"
             ]
            ],
            "type": "histogram2d"
           }
          ],
          "histogram2dcontour": [
           {
            "colorbar": {
             "outlinewidth": 0,
             "ticks": ""
            },
            "colorscale": [
             [
              0,
              "#0d0887"
             ],
             [
              0.1111111111111111,
              "#46039f"
             ],
             [
              0.2222222222222222,
              "#7201a8"
             ],
             [
              0.3333333333333333,
              "#9c179e"
             ],
             [
              0.4444444444444444,
              "#bd3786"
             ],
             [
              0.5555555555555556,
              "#d8576b"
             ],
             [
              0.6666666666666666,
              "#ed7953"
             ],
             [
              0.7777777777777778,
              "#fb9f3a"
             ],
             [
              0.8888888888888888,
              "#fdca26"
             ],
             [
              1,
              "#f0f921"
             ]
            ],
            "type": "histogram2dcontour"
           }
          ],
          "mesh3d": [
           {
            "colorbar": {
             "outlinewidth": 0,
             "ticks": ""
            },
            "type": "mesh3d"
           }
          ],
          "parcoords": [
           {
            "line": {
             "colorbar": {
              "outlinewidth": 0,
              "ticks": ""
             }
            },
            "type": "parcoords"
           }
          ],
          "pie": [
           {
            "automargin": true,
            "type": "pie"
           }
          ],
          "scatter": [
           {
            "fillpattern": {
             "fillmode": "overlay",
             "size": 10,
             "solidity": 0.2
            },
            "type": "scatter"
           }
          ],
          "scatter3d": [
           {
            "line": {
             "colorbar": {
              "outlinewidth": 0,
              "ticks": ""
             }
            },
            "marker": {
             "colorbar": {
              "outlinewidth": 0,
              "ticks": ""
             }
            },
            "type": "scatter3d"
           }
          ],
          "scattercarpet": [
           {
            "marker": {
             "colorbar": {
              "outlinewidth": 0,
              "ticks": ""
             }
            },
            "type": "scattercarpet"
           }
          ],
          "scattergeo": [
           {
            "marker": {
             "colorbar": {
              "outlinewidth": 0,
              "ticks": ""
             }
            },
            "type": "scattergeo"
           }
          ],
          "scattergl": [
           {
            "marker": {
             "colorbar": {
              "outlinewidth": 0,
              "ticks": ""
             }
            },
            "type": "scattergl"
           }
          ],
          "scattermapbox": [
           {
            "marker": {
             "colorbar": {
              "outlinewidth": 0,
              "ticks": ""
             }
            },
            "type": "scattermapbox"
           }
          ],
          "scatterpolar": [
           {
            "marker": {
             "colorbar": {
              "outlinewidth": 0,
              "ticks": ""
             }
            },
            "type": "scatterpolar"
           }
          ],
          "scatterpolargl": [
           {
            "marker": {
             "colorbar": {
              "outlinewidth": 0,
              "ticks": ""
             }
            },
            "type": "scatterpolargl"
           }
          ],
          "scatterternary": [
           {
            "marker": {
             "colorbar": {
              "outlinewidth": 0,
              "ticks": ""
             }
            },
            "type": "scatterternary"
           }
          ],
          "surface": [
           {
            "colorbar": {
             "outlinewidth": 0,
             "ticks": ""
            },
            "colorscale": [
             [
              0,
              "#0d0887"
             ],
             [
              0.1111111111111111,
              "#46039f"
             ],
             [
              0.2222222222222222,
              "#7201a8"
             ],
             [
              0.3333333333333333,
              "#9c179e"
             ],
             [
              0.4444444444444444,
              "#bd3786"
             ],
             [
              0.5555555555555556,
              "#d8576b"
             ],
             [
              0.6666666666666666,
              "#ed7953"
             ],
             [
              0.7777777777777778,
              "#fb9f3a"
             ],
             [
              0.8888888888888888,
              "#fdca26"
             ],
             [
              1,
              "#f0f921"
             ]
            ],
            "type": "surface"
           }
          ],
          "table": [
           {
            "cells": {
             "fill": {
              "color": "#EBF0F8"
             },
             "line": {
              "color": "white"
             }
            },
            "header": {
             "fill": {
              "color": "#C8D4E3"
             },
             "line": {
              "color": "white"
             }
            },
            "type": "table"
           }
          ]
         },
         "layout": {
          "annotationdefaults": {
           "arrowcolor": "#2a3f5f",
           "arrowhead": 0,
           "arrowwidth": 1
          },
          "autotypenumbers": "strict",
          "coloraxis": {
           "colorbar": {
            "outlinewidth": 0,
            "ticks": ""
           }
          },
          "colorscale": {
           "diverging": [
            [
             0,
             "#8e0152"
            ],
            [
             0.1,
             "#c51b7d"
            ],
            [
             0.2,
             "#de77ae"
            ],
            [
             0.3,
             "#f1b6da"
            ],
            [
             0.4,
             "#fde0ef"
            ],
            [
             0.5,
             "#f7f7f7"
            ],
            [
             0.6,
             "#e6f5d0"
            ],
            [
             0.7,
             "#b8e186"
            ],
            [
             0.8,
             "#7fbc41"
            ],
            [
             0.9,
             "#4d9221"
            ],
            [
             1,
             "#276419"
            ]
           ],
           "sequential": [
            [
             0,
             "#0d0887"
            ],
            [
             0.1111111111111111,
             "#46039f"
            ],
            [
             0.2222222222222222,
             "#7201a8"
            ],
            [
             0.3333333333333333,
             "#9c179e"
            ],
            [
             0.4444444444444444,
             "#bd3786"
            ],
            [
             0.5555555555555556,
             "#d8576b"
            ],
            [
             0.6666666666666666,
             "#ed7953"
            ],
            [
             0.7777777777777778,
             "#fb9f3a"
            ],
            [
             0.8888888888888888,
             "#fdca26"
            ],
            [
             1,
             "#f0f921"
            ]
           ],
           "sequentialminus": [
            [
             0,
             "#0d0887"
            ],
            [
             0.1111111111111111,
             "#46039f"
            ],
            [
             0.2222222222222222,
             "#7201a8"
            ],
            [
             0.3333333333333333,
             "#9c179e"
            ],
            [
             0.4444444444444444,
             "#bd3786"
            ],
            [
             0.5555555555555556,
             "#d8576b"
            ],
            [
             0.6666666666666666,
             "#ed7953"
            ],
            [
             0.7777777777777778,
             "#fb9f3a"
            ],
            [
             0.8888888888888888,
             "#fdca26"
            ],
            [
             1,
             "#f0f921"
            ]
           ]
          },
          "colorway": [
           "#636efa",
           "#EF553B",
           "#00cc96",
           "#ab63fa",
           "#FFA15A",
           "#19d3f3",
           "#FF6692",
           "#B6E880",
           "#FF97FF",
           "#FECB52"
          ],
          "font": {
           "color": "#2a3f5f"
          },
          "geo": {
           "bgcolor": "white",
           "lakecolor": "white",
           "landcolor": "#E5ECF6",
           "showlakes": true,
           "showland": true,
           "subunitcolor": "white"
          },
          "hoverlabel": {
           "align": "left"
          },
          "hovermode": "closest",
          "mapbox": {
           "style": "light"
          },
          "paper_bgcolor": "white",
          "plot_bgcolor": "#E5ECF6",
          "polar": {
           "angularaxis": {
            "gridcolor": "white",
            "linecolor": "white",
            "ticks": ""
           },
           "bgcolor": "#E5ECF6",
           "radialaxis": {
            "gridcolor": "white",
            "linecolor": "white",
            "ticks": ""
           }
          },
          "scene": {
           "xaxis": {
            "backgroundcolor": "#E5ECF6",
            "gridcolor": "white",
            "gridwidth": 2,
            "linecolor": "white",
            "showbackground": true,
            "ticks": "",
            "zerolinecolor": "white"
           },
           "yaxis": {
            "backgroundcolor": "#E5ECF6",
            "gridcolor": "white",
            "gridwidth": 2,
            "linecolor": "white",
            "showbackground": true,
            "ticks": "",
            "zerolinecolor": "white"
           },
           "zaxis": {
            "backgroundcolor": "#E5ECF6",
            "gridcolor": "white",
            "gridwidth": 2,
            "linecolor": "white",
            "showbackground": true,
            "ticks": "",
            "zerolinecolor": "white"
           }
          },
          "shapedefaults": {
           "line": {
            "color": "#2a3f5f"
           }
          },
          "ternary": {
           "aaxis": {
            "gridcolor": "white",
            "linecolor": "white",
            "ticks": ""
           },
           "baxis": {
            "gridcolor": "white",
            "linecolor": "white",
            "ticks": ""
           },
           "bgcolor": "#E5ECF6",
           "caxis": {
            "gridcolor": "white",
            "linecolor": "white",
            "ticks": ""
           }
          },
          "title": {
           "x": 0.05
          },
          "xaxis": {
           "automargin": true,
           "gridcolor": "white",
           "linecolor": "white",
           "ticks": "",
           "title": {
            "standoff": 15
           },
           "zerolinecolor": "white",
           "zerolinewidth": 2
          },
          "yaxis": {
           "automargin": true,
           "gridcolor": "white",
           "linecolor": "white",
           "ticks": "",
           "title": {
            "standoff": 15
           },
           "zerolinecolor": "white",
           "zerolinewidth": 2
          }
         }
        },
        "xaxis": {
         "anchor": "y",
         "domain": [
          0,
          1
         ],
         "title": {
          "text": "community"
         }
        },
        "yaxis": {
         "anchor": "x",
         "domain": [
          0,
          1
         ],
         "title": {
          "text": "median_actual_time_till_next_bus"
         }
        }
       }
      }
     },
     "metadata": {},
     "output_type": "display_data"
    }
   ],
   "source": [
    "import plotly.express as px\n",
    "test = all_metrics_ca.sort_values(by='median_actual_time_till_next_bus', ascending=False)\n",
    "fig = px.bar(test, x='community', y='median_actual_time_till_next_bus')\n",
    "fig.show()\n"
   ]
  },
  {
   "cell_type": "code",
   "execution_count": 23,
   "metadata": {},
   "outputs": [
    {
     "data": {
      "application/vnd.plotly.v1+json": {
       "config": {
        "plotlyServerURL": "https://plot.ly"
       },
       "data": [
        {
         "alignmentgroup": "True",
         "hovertemplate": "rt=%{x}<br>diff=%{y}<extra></extra>",
         "legendgroup": "",
         "marker": {
          "color": "#636efa",
          "pattern": {
           "shape": ""
          }
         },
         "name": "",
         "offsetgroup": "",
         "orientation": "v",
         "showlegend": false,
         "textposition": "auto",
         "type": "bar",
         "x": [
          "206",
          "192",
          "171",
          "26",
          "63W",
          "136",
          "56",
          "22",
          "96",
          "52A",
          "J14",
          "143",
          "120",
          "81W",
          "15",
          "36",
          "62H",
          "2",
          "201",
          "6",
          "121",
          "60",
          "62",
          "94",
          "29",
          "148",
          "65",
          "85A",
          "88",
          "135",
          "151",
          "74",
          "70",
          "73",
          "9",
          "134",
          "49",
          "50",
          "54A",
          "28",
          "21",
          "82",
          "78",
          "68",
          "76",
          "3",
          "X9",
          "125",
          "54B",
          "54",
          "12",
          "X49",
          "55N",
          "30",
          "86",
          "124",
          "37",
          "100",
          "172",
          "147",
          "55A",
          "95",
          "39",
          "81",
          "53",
          "4",
          "72",
          "146",
          "71",
          "91",
          "8",
          "90",
          "67",
          "157",
          "18",
          "20",
          "84",
          "24",
          "119",
          "92",
          "155",
          "1",
          "126",
          "63",
          "75",
          "66",
          "55",
          "87",
          "53A",
          "80",
          "43",
          "57",
          "85",
          "93",
          "103",
          "59",
          "47",
          "35",
          "111",
          "52",
          "77",
          "11",
          "112",
          "152",
          "44",
          "165",
          "115",
          "31",
          "108",
          "79",
          "48",
          "97",
          "8A",
          "106",
          "7",
          "49B",
          "34",
          "51",
          "156",
          "111A"
         ],
         "xaxis": "x",
         "y": [
          26.955526141249997,
          16.134136523333332,
          15.728891129366668,
          13.221091879383334,
          12.7914088123,
          12.132803843966666,
          12.108345015466668,
          11.9558469848,
          11.853979923650002,
          11.76258103205,
          11.312798839016667,
          11.227312194933333,
          11.227287165616668,
          11.154108509266667,
          11.117517524399998,
          11.02251509815,
          11.007918127166668,
          10.693080707700002,
          10.65889271393333,
          10.571737551366668,
          10.393630252483337,
          10.344617024733335,
          10.314824801066667,
          10.308296473799999,
          10.229365565016668,
          10.079085215766666,
          9.902768079433335,
          9.901072724983333,
          9.862623392183334,
          9.824358756233334,
          9.767385491366667,
          9.709254862533335,
          9.703002816733333,
          9.679218487883334,
          9.673902227533334,
          9.638537820016667,
          9.54704477505,
          9.530367438850002,
          9.468266448599998,
          9.407881066583338,
          9.373142362533335,
          9.367496683033334,
          9.340620856350002,
          9.305381191833334,
          9.282317710216667,
          9.280753416983334,
          9.26801299551667,
          9.2554597132,
          9.186079577066664,
          9.172034961016664,
          9.098508799649998,
          9.032701717666669,
          9.027952932966667,
          8.993299446716664,
          8.993207007316665,
          8.962230690583336,
          8.911944786700001,
          8.742763515116668,
          8.734620612,
          8.732508822916667,
          8.72117358431667,
          8.670097328533334,
          8.612293716333333,
          8.523965947433334,
          8.514777306733333,
          8.491492700733334,
          8.423871343316666,
          8.371833626366666,
          8.312281913566666,
          8.293347672933335,
          8.233826551283334,
          8.221582344483334,
          8.184941280916666,
          8.144502008966663,
          8.130575584916665,
          8.072528057616665,
          8.030812600416665,
          8.01663013125,
          8.001754370933336,
          7.88465296145,
          7.874727000966667,
          7.832023595466666,
          7.7466649736166655,
          7.728078130000001,
          7.615016321283331,
          7.610557384916667,
          7.555176470833333,
          7.552531089233332,
          7.477308714716669,
          7.4748833205833325,
          7.360740022483331,
          7.334579515166666,
          7.304778977283332,
          7.296936105133334,
          7.236899377166663,
          7.127152462083334,
          7.033663014400002,
          7.007144263150002,
          6.959416803149999,
          6.900742093983332,
          6.860438474733334,
          6.750921712283333,
          6.6424716217499995,
          6.637196801416667,
          6.569274537250001,
          6.53907657585,
          6.5109035966333355,
          6.498272396966669,
          6.331934449416666,
          6.33079998485,
          6.0855050451,
          6.082454393699997,
          5.886375646200001,
          5.885420180100001,
          5.8751844246000005,
          5.709054528183334,
          5.512581477800001,
          5.460901178100002,
          4.295566439116666,
          4.092225674399998
         ],
         "yaxis": "y"
        }
       ],
       "layout": {
        "barmode": "relative",
        "legend": {
         "tracegroupgap": 0
        },
        "margin": {
         "t": 60
        },
        "template": {
         "data": {
          "bar": [
           {
            "error_x": {
             "color": "#2a3f5f"
            },
            "error_y": {
             "color": "#2a3f5f"
            },
            "marker": {
             "line": {
              "color": "#E5ECF6",
              "width": 0.5
             },
             "pattern": {
              "fillmode": "overlay",
              "size": 10,
              "solidity": 0.2
             }
            },
            "type": "bar"
           }
          ],
          "barpolar": [
           {
            "marker": {
             "line": {
              "color": "#E5ECF6",
              "width": 0.5
             },
             "pattern": {
              "fillmode": "overlay",
              "size": 10,
              "solidity": 0.2
             }
            },
            "type": "barpolar"
           }
          ],
          "carpet": [
           {
            "aaxis": {
             "endlinecolor": "#2a3f5f",
             "gridcolor": "white",
             "linecolor": "white",
             "minorgridcolor": "white",
             "startlinecolor": "#2a3f5f"
            },
            "baxis": {
             "endlinecolor": "#2a3f5f",
             "gridcolor": "white",
             "linecolor": "white",
             "minorgridcolor": "white",
             "startlinecolor": "#2a3f5f"
            },
            "type": "carpet"
           }
          ],
          "choropleth": [
           {
            "colorbar": {
             "outlinewidth": 0,
             "ticks": ""
            },
            "type": "choropleth"
           }
          ],
          "contour": [
           {
            "colorbar": {
             "outlinewidth": 0,
             "ticks": ""
            },
            "colorscale": [
             [
              0,
              "#0d0887"
             ],
             [
              0.1111111111111111,
              "#46039f"
             ],
             [
              0.2222222222222222,
              "#7201a8"
             ],
             [
              0.3333333333333333,
              "#9c179e"
             ],
             [
              0.4444444444444444,
              "#bd3786"
             ],
             [
              0.5555555555555556,
              "#d8576b"
             ],
             [
              0.6666666666666666,
              "#ed7953"
             ],
             [
              0.7777777777777778,
              "#fb9f3a"
             ],
             [
              0.8888888888888888,
              "#fdca26"
             ],
             [
              1,
              "#f0f921"
             ]
            ],
            "type": "contour"
           }
          ],
          "contourcarpet": [
           {
            "colorbar": {
             "outlinewidth": 0,
             "ticks": ""
            },
            "type": "contourcarpet"
           }
          ],
          "heatmap": [
           {
            "colorbar": {
             "outlinewidth": 0,
             "ticks": ""
            },
            "colorscale": [
             [
              0,
              "#0d0887"
             ],
             [
              0.1111111111111111,
              "#46039f"
             ],
             [
              0.2222222222222222,
              "#7201a8"
             ],
             [
              0.3333333333333333,
              "#9c179e"
             ],
             [
              0.4444444444444444,
              "#bd3786"
             ],
             [
              0.5555555555555556,
              "#d8576b"
             ],
             [
              0.6666666666666666,
              "#ed7953"
             ],
             [
              0.7777777777777778,
              "#fb9f3a"
             ],
             [
              0.8888888888888888,
              "#fdca26"
             ],
             [
              1,
              "#f0f921"
             ]
            ],
            "type": "heatmap"
           }
          ],
          "heatmapgl": [
           {
            "colorbar": {
             "outlinewidth": 0,
             "ticks": ""
            },
            "colorscale": [
             [
              0,
              "#0d0887"
             ],
             [
              0.1111111111111111,
              "#46039f"
             ],
             [
              0.2222222222222222,
              "#7201a8"
             ],
             [
              0.3333333333333333,
              "#9c179e"
             ],
             [
              0.4444444444444444,
              "#bd3786"
             ],
             [
              0.5555555555555556,
              "#d8576b"
             ],
             [
              0.6666666666666666,
              "#ed7953"
             ],
             [
              0.7777777777777778,
              "#fb9f3a"
             ],
             [
              0.8888888888888888,
              "#fdca26"
             ],
             [
              1,
              "#f0f921"
             ]
            ],
            "type": "heatmapgl"
           }
          ],
          "histogram": [
           {
            "marker": {
             "pattern": {
              "fillmode": "overlay",
              "size": 10,
              "solidity": 0.2
             }
            },
            "type": "histogram"
           }
          ],
          "histogram2d": [
           {
            "colorbar": {
             "outlinewidth": 0,
             "ticks": ""
            },
            "colorscale": [
             [
              0,
              "#0d0887"
             ],
             [
              0.1111111111111111,
              "#46039f"
             ],
             [
              0.2222222222222222,
              "#7201a8"
             ],
             [
              0.3333333333333333,
              "#9c179e"
             ],
             [
              0.4444444444444444,
              "#bd3786"
             ],
             [
              0.5555555555555556,
              "#d8576b"
             ],
             [
              0.6666666666666666,
              "#ed7953"
             ],
             [
              0.7777777777777778,
              "#fb9f3a"
             ],
             [
              0.8888888888888888,
              "#fdca26"
             ],
             [
              1,
              "#f0f921"
             ]
            ],
            "type": "histogram2d"
           }
          ],
          "histogram2dcontour": [
           {
            "colorbar": {
             "outlinewidth": 0,
             "ticks": ""
            },
            "colorscale": [
             [
              0,
              "#0d0887"
             ],
             [
              0.1111111111111111,
              "#46039f"
             ],
             [
              0.2222222222222222,
              "#7201a8"
             ],
             [
              0.3333333333333333,
              "#9c179e"
             ],
             [
              0.4444444444444444,
              "#bd3786"
             ],
             [
              0.5555555555555556,
              "#d8576b"
             ],
             [
              0.6666666666666666,
              "#ed7953"
             ],
             [
              0.7777777777777778,
              "#fb9f3a"
             ],
             [
              0.8888888888888888,
              "#fdca26"
             ],
             [
              1,
              "#f0f921"
             ]
            ],
            "type": "histogram2dcontour"
           }
          ],
          "mesh3d": [
           {
            "colorbar": {
             "outlinewidth": 0,
             "ticks": ""
            },
            "type": "mesh3d"
           }
          ],
          "parcoords": [
           {
            "line": {
             "colorbar": {
              "outlinewidth": 0,
              "ticks": ""
             }
            },
            "type": "parcoords"
           }
          ],
          "pie": [
           {
            "automargin": true,
            "type": "pie"
           }
          ],
          "scatter": [
           {
            "fillpattern": {
             "fillmode": "overlay",
             "size": 10,
             "solidity": 0.2
            },
            "type": "scatter"
           }
          ],
          "scatter3d": [
           {
            "line": {
             "colorbar": {
              "outlinewidth": 0,
              "ticks": ""
             }
            },
            "marker": {
             "colorbar": {
              "outlinewidth": 0,
              "ticks": ""
             }
            },
            "type": "scatter3d"
           }
          ],
          "scattercarpet": [
           {
            "marker": {
             "colorbar": {
              "outlinewidth": 0,
              "ticks": ""
             }
            },
            "type": "scattercarpet"
           }
          ],
          "scattergeo": [
           {
            "marker": {
             "colorbar": {
              "outlinewidth": 0,
              "ticks": ""
             }
            },
            "type": "scattergeo"
           }
          ],
          "scattergl": [
           {
            "marker": {
             "colorbar": {
              "outlinewidth": 0,
              "ticks": ""
             }
            },
            "type": "scattergl"
           }
          ],
          "scattermapbox": [
           {
            "marker": {
             "colorbar": {
              "outlinewidth": 0,
              "ticks": ""
             }
            },
            "type": "scattermapbox"
           }
          ],
          "scatterpolar": [
           {
            "marker": {
             "colorbar": {
              "outlinewidth": 0,
              "ticks": ""
             }
            },
            "type": "scatterpolar"
           }
          ],
          "scatterpolargl": [
           {
            "marker": {
             "colorbar": {
              "outlinewidth": 0,
              "ticks": ""
             }
            },
            "type": "scatterpolargl"
           }
          ],
          "scatterternary": [
           {
            "marker": {
             "colorbar": {
              "outlinewidth": 0,
              "ticks": ""
             }
            },
            "type": "scatterternary"
           }
          ],
          "surface": [
           {
            "colorbar": {
             "outlinewidth": 0,
             "ticks": ""
            },
            "colorscale": [
             [
              0,
              "#0d0887"
             ],
             [
              0.1111111111111111,
              "#46039f"
             ],
             [
              0.2222222222222222,
              "#7201a8"
             ],
             [
              0.3333333333333333,
              "#9c179e"
             ],
             [
              0.4444444444444444,
              "#bd3786"
             ],
             [
              0.5555555555555556,
              "#d8576b"
             ],
             [
              0.6666666666666666,
              "#ed7953"
             ],
             [
              0.7777777777777778,
              "#fb9f3a"
             ],
             [
              0.8888888888888888,
              "#fdca26"
             ],
             [
              1,
              "#f0f921"
             ]
            ],
            "type": "surface"
           }
          ],
          "table": [
           {
            "cells": {
             "fill": {
              "color": "#EBF0F8"
             },
             "line": {
              "color": "white"
             }
            },
            "header": {
             "fill": {
              "color": "#C8D4E3"
             },
             "line": {
              "color": "white"
             }
            },
            "type": "table"
           }
          ]
         },
         "layout": {
          "annotationdefaults": {
           "arrowcolor": "#2a3f5f",
           "arrowhead": 0,
           "arrowwidth": 1
          },
          "autotypenumbers": "strict",
          "coloraxis": {
           "colorbar": {
            "outlinewidth": 0,
            "ticks": ""
           }
          },
          "colorscale": {
           "diverging": [
            [
             0,
             "#8e0152"
            ],
            [
             0.1,
             "#c51b7d"
            ],
            [
             0.2,
             "#de77ae"
            ],
            [
             0.3,
             "#f1b6da"
            ],
            [
             0.4,
             "#fde0ef"
            ],
            [
             0.5,
             "#f7f7f7"
            ],
            [
             0.6,
             "#e6f5d0"
            ],
            [
             0.7,
             "#b8e186"
            ],
            [
             0.8,
             "#7fbc41"
            ],
            [
             0.9,
             "#4d9221"
            ],
            [
             1,
             "#276419"
            ]
           ],
           "sequential": [
            [
             0,
             "#0d0887"
            ],
            [
             0.1111111111111111,
             "#46039f"
            ],
            [
             0.2222222222222222,
             "#7201a8"
            ],
            [
             0.3333333333333333,
             "#9c179e"
            ],
            [
             0.4444444444444444,
             "#bd3786"
            ],
            [
             0.5555555555555556,
             "#d8576b"
            ],
            [
             0.6666666666666666,
             "#ed7953"
            ],
            [
             0.7777777777777778,
             "#fb9f3a"
            ],
            [
             0.8888888888888888,
             "#fdca26"
            ],
            [
             1,
             "#f0f921"
            ]
           ],
           "sequentialminus": [
            [
             0,
             "#0d0887"
            ],
            [
             0.1111111111111111,
             "#46039f"
            ],
            [
             0.2222222222222222,
             "#7201a8"
            ],
            [
             0.3333333333333333,
             "#9c179e"
            ],
            [
             0.4444444444444444,
             "#bd3786"
            ],
            [
             0.5555555555555556,
             "#d8576b"
            ],
            [
             0.6666666666666666,
             "#ed7953"
            ],
            [
             0.7777777777777778,
             "#fb9f3a"
            ],
            [
             0.8888888888888888,
             "#fdca26"
            ],
            [
             1,
             "#f0f921"
            ]
           ]
          },
          "colorway": [
           "#636efa",
           "#EF553B",
           "#00cc96",
           "#ab63fa",
           "#FFA15A",
           "#19d3f3",
           "#FF6692",
           "#B6E880",
           "#FF97FF",
           "#FECB52"
          ],
          "font": {
           "color": "#2a3f5f"
          },
          "geo": {
           "bgcolor": "white",
           "lakecolor": "white",
           "landcolor": "#E5ECF6",
           "showlakes": true,
           "showland": true,
           "subunitcolor": "white"
          },
          "hoverlabel": {
           "align": "left"
          },
          "hovermode": "closest",
          "mapbox": {
           "style": "light"
          },
          "paper_bgcolor": "white",
          "plot_bgcolor": "#E5ECF6",
          "polar": {
           "angularaxis": {
            "gridcolor": "white",
            "linecolor": "white",
            "ticks": ""
           },
           "bgcolor": "#E5ECF6",
           "radialaxis": {
            "gridcolor": "white",
            "linecolor": "white",
            "ticks": ""
           }
          },
          "scene": {
           "xaxis": {
            "backgroundcolor": "#E5ECF6",
            "gridcolor": "white",
            "gridwidth": 2,
            "linecolor": "white",
            "showbackground": true,
            "ticks": "",
            "zerolinecolor": "white"
           },
           "yaxis": {
            "backgroundcolor": "#E5ECF6",
            "gridcolor": "white",
            "gridwidth": 2,
            "linecolor": "white",
            "showbackground": true,
            "ticks": "",
            "zerolinecolor": "white"
           },
           "zaxis": {
            "backgroundcolor": "#E5ECF6",
            "gridcolor": "white",
            "gridwidth": 2,
            "linecolor": "white",
            "showbackground": true,
            "ticks": "",
            "zerolinecolor": "white"
           }
          },
          "shapedefaults": {
           "line": {
            "color": "#2a3f5f"
           }
          },
          "ternary": {
           "aaxis": {
            "gridcolor": "white",
            "linecolor": "white",
            "ticks": ""
           },
           "baxis": {
            "gridcolor": "white",
            "linecolor": "white",
            "ticks": ""
           },
           "bgcolor": "#E5ECF6",
           "caxis": {
            "gridcolor": "white",
            "linecolor": "white",
            "ticks": ""
           }
          },
          "title": {
           "x": 0.05
          },
          "xaxis": {
           "automargin": true,
           "gridcolor": "white",
           "linecolor": "white",
           "ticks": "",
           "title": {
            "standoff": 15
           },
           "zerolinecolor": "white",
           "zerolinewidth": 2
          },
          "yaxis": {
           "automargin": true,
           "gridcolor": "white",
           "linecolor": "white",
           "ticks": "",
           "title": {
            "standoff": 15
           },
           "zerolinecolor": "white",
           "zerolinewidth": 2
          }
         }
        },
        "xaxis": {
         "anchor": "y",
         "domain": [
          0,
          1
         ],
         "title": {
          "text": "rt"
         }
        },
        "yaxis": {
         "anchor": "x",
         "domain": [
          0,
          1
         ],
         "title": {
          "text": "diff"
         }
        }
       }
      }
     },
     "metadata": {},
     "output_type": "display_data"
    }
   ],
   "source": [
    "import plotly.express as px\n",
    "test = test.sort_values(by='diff', ascending=False)\n",
    "fig = px.bar(test, x='rt', y='diff')\n",
    "fig.show()\n"
   ]
  },
  {
   "cell_type": "code",
   "execution_count": 53,
   "metadata": {},
   "outputs": [
    {
     "data": {
      "image/png": "[encoded data removed]",
      "text/plain": [
       "<Figure size 1000x600 with 1 Axes>"
      ]
     },
     "metadata": {},
     "output_type": "display_data"
    }
   ],
   "source": [
    "plt.figure(figsize=(10, 6))\n",
    "\n",
    "rts = by_month_chart['rt'].unique().tolist()\n",
    "\n",
    "\n",
    "# Plot a line for each route\n",
    "for r in random.sample(rts, 6):\n",
    "    subset = by_month_chart[by_month_chart['rt'] == r]\n",
    "    plt.plot(subset['period_value'], subset['median_actual_time_till_next_bus'], marker='o', label=r)\n",
    "\n",
    "\n",
    "plt.grid(True)\n",
    "plt.xlabel('Month')\n",
    "plt.ylabel('Median Time to Next Bus (minutes)')\n",
    "plt.legend()\n",
    "plt.show()"
   ]
  },
  {
   "cell_type": "code",
   "execution_count": 13,
   "metadata": {},
   "outputs": [
    {
     "data": {
      "text/html": [
       "<div>\n",
       "<style scoped>\n",
       "    .dataframe tbody tr th:only-of-type {\n",
       "        vertical-align: middle;\n",
       "    }\n",
       "\n",
       "    .dataframe tbody tr th {\n",
       "        vertical-align: top;\n",
       "    }\n",
       "\n",
       "    .dataframe thead th {\n",
       "        text-align: right;\n",
       "    }\n",
       "</style>\n",
       "<table border=\"1\" class=\"dataframe\">\n",
       "  <thead>\n",
       "    <tr style=\"text-align: right;\">\n",
       "      <th></th>\n",
       "      <th>rt</th>\n",
       "      <th>median_actual_time_till_next_bus</th>\n",
       "    </tr>\n",
       "  </thead>\n",
       "  <tbody>\n",
       "    <tr>\n",
       "      <th>84</th>\n",
       "      <td>66</td>\n",
       "      <td>0 days 00:06:33.249115978</td>\n",
       "    </tr>\n",
       "    <tr>\n",
       "      <th>97</th>\n",
       "      <td>79</td>\n",
       "      <td>0 days 00:06:34.571904927</td>\n",
       "    </tr>\n",
       "    <tr>\n",
       "      <th>95</th>\n",
       "      <td>77</td>\n",
       "      <td>0 days 00:07:54.990242953</td>\n",
       "    </tr>\n",
       "    <tr>\n",
       "      <th>26</th>\n",
       "      <td>152</td>\n",
       "      <td>0 days 00:08:57.799724587</td>\n",
       "    </tr>\n",
       "    <tr>\n",
       "      <th>37</th>\n",
       "      <td>20</td>\n",
       "      <td>0 days 00:08:59.832996777</td>\n",
       "    </tr>\n",
       "  </tbody>\n",
       "</table>\n",
       "</div>"
      ],
      "text/plain": [
       "     rt median_actual_time_till_next_bus\n",
       "84   66        0 days 00:06:33.249115978\n",
       "97   79        0 days 00:06:34.571904927\n",
       "95   77        0 days 00:07:54.990242953\n",
       "26  152        0 days 00:08:57.799724587\n",
       "37   20        0 days 00:08:59.832996777"
      ]
     },
     "execution_count": 13,
     "metadata": {},
     "output_type": "execute_result"
    }
   ],
   "source": [
    "actual_stops.groupby('rt')['median_actual_time_till_next_bus'].median().reset_index().sort_values('median_actual_time_till_next_bus').head()"
   ]
  }
 ],
 "metadata": {
  "kernelspec": {
   "display_name": ".venv",
   "language": "python",
   "name": "python3"
  },
  "language_info": {
   "codemirror_mode": {
    "name": "ipython",
    "version": 3
   },
   "file_extension": ".py",
   "mimetype": "text/x-python",
   "name": "python",
   "nbconvert_exporter": "python",
   "pygments_lexer": "ipython3",
   "version": "3.12.1"
  }
 },
 "nbformat": 4,
 "nbformat_minor": 2
}
