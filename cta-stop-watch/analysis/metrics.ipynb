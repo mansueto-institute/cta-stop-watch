{
 "cells": [
  {
   "cell_type": "code",
   "execution_count": 2,
   "metadata": {},
   "outputs": [],
   "source": [
    "import pandas as pd\n",
    "import geopandas as gpd\n",
    "import numpy as np\n",
    "import os\n",
    "import pathlib\n",
    "import pyarrow.parquet as pq\n",
    "import matplotlib.pyplot as plt\n",
    "import polars as pl"
   ]
  },
  {
   "cell_type": "code",
   "execution_count": null,
   "metadata": {},
   "outputs": [],
   "source": []
  },
  {
   "cell_type": "code",
   "execution_count": 16,
   "metadata": {},
   "outputs": [],
   "source": [
    "def calculate_wait_times(rts: list, group_type:str, only_daytime:bool = True):\n",
    "\n",
    "    rt_to_pid = pd.read_parquet(\"rt_to_pid.parquet\")\n",
    "    pids = rt_to_pid[rt_to_pid['rt'].isin(rts)]['pid'].unique()\n",
    "    \n",
    "    trips = []\n",
    "    for pid in pids:\n",
    "        try:\n",
    "            df_trips = pl.read_parquet(f'../cta-stop-etl/out/trips/trips_{pid}_full.parquet')\n",
    "            df_trips = df_trips.to_pandas()\n",
    "        except:\n",
    "            print(f\"Do not have pattern {pid} for route. Skipping\")\n",
    "            continue\n",
    "\n",
    "        df_trips = df_trips[(df_trips['typ'] == 'S') & (df_trips['bus_stop_time'].dt.hour.between(6, 20) if only_daytime else True)]\n",
    "        df_trips['pid'] = int(pid)\n",
    "    \n",
    "        dict = df_trips.to_dict(orient=\"records\")\n",
    "        trips += dict\n",
    "\n",
    "    df_trips_all = pd.DataFrame(trips)\n",
    "\n",
    "    rt_to_pid = pd.read_parquet('rt_to_pid.parquet') \n",
    "    full_df = df_trips_all.merge(rt_to_pid, how=\"left\", on=\"pid\")\n",
    "\n",
    "    full_df = full_df.sort_values(['p_stp_id','bus_stop_time'])\n",
    "    full_df['wait_time_minutes'] = full_df.groupby('p_stp_id')['bus_stop_time'].diff().dt.total_seconds()/60\n",
    "\n",
    "\n",
    "    full_df['month'] = full_df['bus_stop_time'].dt.month\n",
    "    full_df['hour'] = full_df['bus_stop_time'].dt.hour\n",
    "    full_df['dayofweek'] = full_df['bus_stop_time'].dt.dayofweek\n",
    "    full_df['dayofyear'] = full_df['bus_stop_time'].dt.dayofyear\n",
    "\n",
    "\n",
    "    #grouped_df = full_df.groupby(['rt', group_type])['wait_time_minutes'].agg(['mean','median', 'std', 'count']).reset_index()\n",
    "    grouped_df = full_df.groupby(['rt', group_type])['wait_time_minutes'].agg(['mean','median', 'std', 'count']).reset_index()\n",
    "\n",
    "    grouped_df['ci95_hi'] = grouped_df['mean'] + 1.96*grouped_df['std']/np.sqrt(grouped_df['count'])\n",
    "    grouped_df['ci95_low'] = grouped_df['mean'] - 1.96*grouped_df['std']/np.sqrt(grouped_df['count'])\n",
    "        \n",
    "        \n",
    "    #     df_trips = df_trips.filter(pl.col('typ') == 'S')\n",
    "    #     df_trips = df_trips.with_columns(pl.lit(pid).cast(pl.Int64).alias('pid'))\n",
    "        \n",
    "    #     dicts = df_trips.to_dicts()\n",
    "    #     trips.extend(dicts)\n",
    "\n",
    "    # df_trips_all = pl.DataFrame(trips)\n",
    "    # rt_to_pid = pl.read_parquet('rt_to_pid.parquet') \n",
    "\n",
    "    # full_df = df_trips_all.join(rt_to_pid, on='pid', how='left')\n",
    "\n",
    "    # full_df = full_df.sort(by=['p_stp_id', 'bus_stop_time'])\n",
    "    # full_df = full_df.groupby(['p_stp_id']).with_columns(\n",
    "    #     (pl.col('bus_stop_time').diff().dt.total_seconds() / 60).alias('wait_time_minutes')\n",
    "    # )\n",
    "\n",
    "    # full_df = full_df.with_columns((pl.col('bus_stop_time').dt.hour()).alias('hour'), \n",
    "    #                   (pl.col('bus_stop_time').dt.month()).alias('month'),\n",
    "    #                   (pl.col('bus_stop_time').dt.year()).alias('year'),\n",
    "    #                     (pl.col('bus_stop_time').dt.day()).alias('day'))\n",
    "\n",
    "    # # Group by 'rt' and 'grouping', and compute aggregations\n",
    "    # grouped_df = (\n",
    "    #     full_df\n",
    "    #     .groupby(['rt', grouping])\n",
    "    #     .agg([pl.mean('wait_time_minutes').alias('mean'),\n",
    "    #           pl.median('wait_time_minutes').alias('median'),\n",
    "    #           pl.std('wait_time_minutes').alias('std'),\n",
    "    #           pl.count('wait_time_minutes').alias('count')\n",
    "    #           ])\n",
    "    # )\n",
    "\n",
    "    # # Compute the confidence intervals\n",
    "    # grouped_df = grouped_df.with_columns([\n",
    "    #     (pl.col('mean') + 1.96 * pl.col('std') / np.sqrt(pl.col('count'))).alias('ci95_hi'),\n",
    "    #     (pl.col('mean') - 1.96 * pl.col('std') / np.sqrt(pl.col('count'))).alias('ci95_low')\n",
    "    # ])\n",
    "\n",
    "\n",
    "    return grouped_df"
   ]
  },
  {
   "cell_type": "code",
   "execution_count": 7,
   "metadata": {},
   "outputs": [],
   "source": [
    "def chart_wait_times(grouped_df: pd.DataFrame,type:str):\n",
    "    rts = grouped_df['rt'].unique()\n",
    "    grouping = grouped_df.columns[1]\n",
    "\n",
    "    plt.figure(figsize=(10, 6))\n",
    "\n",
    "    # Plot a line for each month\n",
    "    for rt in rts:\n",
    "        subset = grouped_df[grouped_df['rt'] == rt]\n",
    "        plt.plot(subset[grouping], subset[type], marker='o', label=rt)\n",
    "        if type == 'mean':\n",
    "            plt.fill_between(subset[grouping], subset['ci95_hi'], subset['ci95_low'], alpha=0.2)\n",
    "\n",
    "    plt.xlabel(f\"{grouping}\")\n",
    "    plt.ylabel(f'{type} Wait Time (Minutes)')\n",
    "    plt.title(f'{type} Wait Time by {grouping}')\n",
    "    # plt.ylim(0, 60)\n",
    "    plt.legend(title='Route')\n",
    "    plt.grid(True)\n",
    "    plt.show()"
   ]
  },
  {
   "cell_type": "code",
   "execution_count": 19,
   "metadata": {},
   "outputs": [
    {
     "name": "stdout",
     "output_type": "stream",
     "text": [
      "Do not have pattern 19385 for route. Skipping\n"
     ]
    }
   ],
   "source": [
    "test_df = calculate_wait_times(['4'], 'month')"
   ]
  },
  {
   "cell_type": "code",
   "execution_count": null,
   "metadata": {},
   "outputs": [],
   "source": [
    "chart_wait_times(test_df,'median')"
   ]
  }
 ],
 "metadata": {
  "kernelspec": {
   "display_name": ".venv",
   "language": "python",
   "name": "python3"
  },
  "language_info": {
   "codemirror_mode": {
    "name": "ipython",
    "version": 3
   },
   "file_extension": ".py",
   "mimetype": "text/x-python",
   "name": "python",
   "nbconvert_exporter": "python",
   "pygments_lexer": "ipython3",
   "version": "3.12.1"
  }
 },
 "nbformat": 4,
 "nbformat_minor": 2
}
