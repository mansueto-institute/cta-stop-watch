{
 "cells": [
  {
   "cell_type": "code",
   "execution_count": 1,
   "metadata": {},
   "outputs": [],
   "source": [
    "import pandas as pd\n",
    "import geopandas as gpd\n",
    "import numpy as np\n",
    "import os\n",
    "import pathlib\n"
   ]
  },
  {
   "cell_type": "code",
   "execution_count": 31,
   "metadata": {},
   "outputs": [],
   "source": [
    "# load a test data set got one pattern\n",
    "\n",
    "sample_95 = gpd.read_parquet(\"../cta-stop-etl/out/trips/test_trips_95_small.parquet\")\n",
    "\n",
    "sample_3910 = gpd.read_parquet(\"../cta-stop-etl/out/trips/test_trips_3910_small.parquet\")"
   ]
  },
  {
   "cell_type": "code",
   "execution_count": 32,
   "metadata": {},
   "outputs": [],
   "source": [
    "sample_95['pid'] = '95'\n",
    "sample_3910['pid'] = '3910'"
   ]
  },
  {
   "cell_type": "code",
   "execution_count": null,
   "metadata": {},
   "outputs": [],
   "source": [
    "# can add in bus locations at some point and look at those\n",
    "#sample['time'] = sample[['bus_stop_time', 'data_time']].bfill(axis=1).iloc[:, 0]\n",
    "#sample.drop(columns=['bus_stop_time', 'data_time'], inplace=True)"
   ]
  },
  {
   "cell_type": "code",
   "execution_count": 35,
   "metadata": {},
   "outputs": [
    {
     "data": {
      "text/html": [
       "<div>\n",
       "<style scoped>\n",
       "    .dataframe tbody tr th:only-of-type {\n",
       "        vertical-align: middle;\n",
       "    }\n",
       "\n",
       "    .dataframe tbody tr th {\n",
       "        vertical-align: top;\n",
       "    }\n",
       "\n",
       "    .dataframe thead th {\n",
       "        text-align: right;\n",
       "    }\n",
       "</style>\n",
       "<table border=\"1\" class=\"dataframe\">\n",
       "  <thead>\n",
       "    <tr style=\"text-align: right;\">\n",
       "      <th></th>\n",
       "      <th>unique_trip_vehicle_day</th>\n",
       "      <th>pid</th>\n",
       "      <th>seg_combined</th>\n",
       "      <th>stpid</th>\n",
       "      <th>p_stp_id</th>\n",
       "      <th>geometry</th>\n",
       "      <th>bus_stop_time</th>\n",
       "    </tr>\n",
       "  </thead>\n",
       "  <tbody>\n",
       "    <tr>\n",
       "      <th>0</th>\n",
       "      <td>7295.0235314066107561419402023-01-04</td>\n",
       "      <td>95</td>\n",
       "      <td>0.0</td>\n",
       "      <td>923</td>\n",
       "      <td>95-923</td>\n",
       "      <td>POINT (358249.87291 582489.58505)</td>\n",
       "      <td>2023-01-04 23:36:45.000000000</td>\n",
       "    </tr>\n",
       "    <tr>\n",
       "      <th>7</th>\n",
       "      <td>7295.0235314066107561419402023-01-04</td>\n",
       "      <td>95</td>\n",
       "      <td>4.0</td>\n",
       "      <td>924</td>\n",
       "      <td>95-924</td>\n",
       "      <td>POINT (358177.75661 582481.33075)</td>\n",
       "      <td>2023-01-04 23:47:32.408154452</td>\n",
       "    </tr>\n",
       "    <tr>\n",
       "      <th>8</th>\n",
       "      <td>7295.0235314066107561419402023-01-04</td>\n",
       "      <td>95</td>\n",
       "      <td>9.0</td>\n",
       "      <td>926</td>\n",
       "      <td>95-926</td>\n",
       "      <td>POINT (357979.93959 582483.38174)</td>\n",
       "      <td>2023-01-04 23:47:55.400228857</td>\n",
       "    </tr>\n",
       "    <tr>\n",
       "      <th>9</th>\n",
       "      <td>7295.0235314066107561419402023-01-04</td>\n",
       "      <td>95</td>\n",
       "      <td>16.0</td>\n",
       "      <td>927</td>\n",
       "      <td>95-927</td>\n",
       "      <td>POINT (357690.92237 582477.25608)</td>\n",
       "      <td>2023-01-04 23:48:55.847421941</td>\n",
       "    </tr>\n",
       "    <tr>\n",
       "      <th>10</th>\n",
       "      <td>7295.0235314066107561419402023-01-04</td>\n",
       "      <td>95</td>\n",
       "      <td>21.0</td>\n",
       "      <td>928</td>\n",
       "      <td>95-928</td>\n",
       "      <td>POINT (357449.61839 582470.41645)</td>\n",
       "      <td>2023-01-04 23:49:46.136671140</td>\n",
       "    </tr>\n",
       "  </tbody>\n",
       "</table>\n",
       "</div>"
      ],
      "text/plain": [
       "                 unique_trip_vehicle_day pid  seg_combined stpid p_stp_id  \\\n",
       "0   7295.0235314066107561419402023-01-04  95           0.0   923   95-923   \n",
       "7   7295.0235314066107561419402023-01-04  95           4.0   924   95-924   \n",
       "8   7295.0235314066107561419402023-01-04  95           9.0   926   95-926   \n",
       "9   7295.0235314066107561419402023-01-04  95          16.0   927   95-927   \n",
       "10  7295.0235314066107561419402023-01-04  95          21.0   928   95-928   \n",
       "\n",
       "                             geometry                 bus_stop_time  \n",
       "0   POINT (358249.87291 582489.58505) 2023-01-04 23:36:45.000000000  \n",
       "7   POINT (358177.75661 582481.33075) 2023-01-04 23:47:32.408154452  \n",
       "8   POINT (357979.93959 582483.38174) 2023-01-04 23:47:55.400228857  \n",
       "9   POINT (357690.92237 582477.25608) 2023-01-04 23:48:55.847421941  \n",
       "10  POINT (357449.61839 582470.41645) 2023-01-04 23:49:46.136671140  "
      ]
     },
     "execution_count": 35,
     "metadata": {},
     "output_type": "execute_result"
    }
   ],
   "source": [
    "sample_95_stops = sample_95[sample_95['typ']== 'S']\n",
    "sample_3910_stops = sample_3910[sample_3910['typ']== 'S']\n",
    "sample = pd.concat([sample_95_stops,sample_3910_stops])\n",
    "sample= sample[['unique_trip_vehicle_day','pid','seg_combined', 'stpid', 'p_stp_id', 'geometry', 'bus_stop_time']]\n",
    "sample.head()\n"
   ]
  },
  {
   "cell_type": "code",
   "execution_count": 34,
   "metadata": {},
   "outputs": [
    {
     "data": {
      "text/plain": [
       "pid\n",
       "3910    100\n",
       "95      100\n",
       "Name: unique_trip_vehicle_day, dtype: int64"
      ]
     },
     "execution_count": 34,
     "metadata": {},
     "output_type": "execute_result"
    }
   ],
   "source": [
    "# 100 trips of each pattern \n",
    "\n",
    "sample.groupby('pid')['unique_trip_vehicle_day'].nunique()"
   ]
  },
  {
   "cell_type": "code",
   "execution_count": null,
   "metadata": {},
   "outputs": [],
   "source": []
  },
  {
   "cell_type": "markdown",
   "metadata": {},
   "source": [
    "by bus stop pattern id\n",
    "how many buses stop per day\n",
    "\n",
    "\n",
    "total number of days that we have trips for\n",
    "per pattern\n",
    "    how many pings per hours\n",
    "    number of pings for that bus stop / total days we had trips for that pattern"
   ]
  },
  {
   "cell_type": "code",
   "execution_count": 37,
   "metadata": {},
   "outputs": [
    {
     "data": {
      "text/plain": [
       "0       2023-01-04\n",
       "7       2023-01-04\n",
       "8       2023-01-04\n",
       "9       2023-01-04\n",
       "10      2023-01-04\n",
       "           ...    \n",
       "8260    2023-02-16\n",
       "8261    2023-02-16\n",
       "8262    2023-02-16\n",
       "8263    2023-02-16\n",
       "8265    2023-02-16\n",
       "Name: bus_stop_time, Length: 14300, dtype: object"
      ]
     },
     "execution_count": 37,
     "metadata": {},
     "output_type": "execute_result"
    }
   ],
   "source": [
    "sample['bus_stop_time'].dt.date"
   ]
  },
  {
   "cell_type": "code",
   "execution_count": null,
   "metadata": {},
   "outputs": [],
   "source": [
    "group by the pid "
   ]
  },
  {
   "cell_type": "code",
   "execution_count": 43,
   "metadata": {},
   "outputs": [
    {
     "data": {
      "text/plain": [
       "p_stp_id\n",
       "95-1000    100\n",
       "95-1001    100\n",
       "95-1002    100\n",
       "95-1004    100\n",
       "95-1005    100\n",
       "          ... \n",
       "95-993     100\n",
       "95-996     100\n",
       "95-997     100\n",
       "95-998     100\n",
       "95-999     100\n",
       "Length: 73, dtype: int64"
      ]
     },
     "execution_count": 43,
     "metadata": {},
     "output_type": "execute_result"
    }
   ],
   "source": [
    "test = sample[sample['pid']== '95']\n",
    "total_trip_days = test['bus_stop_time'].dt.date.nunique()\n",
    "test.groupby('p_stp_id').size()\n",
    "\n"
   ]
  },
  {
   "cell_type": "code",
   "execution_count": 22,
   "metadata": {},
   "outputs": [],
   "source": [
    "for pid in sample['pid'].unique():\n",
    "    print(pid)\n",
    "    total_trip_days = sample['bus_stop_time'].dt.date.nunique()\n",
    "    samp\n",
    "\n",
    "sample['hour'] = sample['time'].dt.hour\n",
    "sample['day_of_year'] = sample['time'].dt.day_of_year"
   ]
  },
  {
   "cell_type": "code",
   "execution_count": 23,
   "metadata": {},
   "outputs": [
    {
     "name": "stdout",
     "output_type": "stream",
     "text": [
      "2023-01-03 06:32:00\n",
      "2023-01-07 00:52:00\n"
     ]
    }
   ],
   "source": [
    "print(sample['time'].min())\n",
    "print(sample['time'].max())"
   ]
  },
  {
   "cell_type": "code",
   "execution_count": 29,
   "metadata": {},
   "outputs": [
    {
     "data": {
      "text/html": [
       "<div>\n",
       "<style scoped>\n",
       "    .dataframe tbody tr th:only-of-type {\n",
       "        vertical-align: middle;\n",
       "    }\n",
       "\n",
       "    .dataframe tbody tr th {\n",
       "        vertical-align: top;\n",
       "    }\n",
       "\n",
       "    .dataframe thead th {\n",
       "        text-align: right;\n",
       "    }\n",
       "</style>\n",
       "<table border=\"1\" class=\"dataframe\">\n",
       "  <thead>\n",
       "    <tr style=\"text-align: right;\">\n",
       "      <th></th>\n",
       "      <th>p_stp_id</th>\n",
       "      <th>hour</th>\n",
       "      <th>day_of_year</th>\n",
       "      <th>count</th>\n",
       "    </tr>\n",
       "  </thead>\n",
       "  <tbody>\n",
       "    <tr>\n",
       "      <th>0</th>\n",
       "      <td>14111-10561</td>\n",
       "      <td>6</td>\n",
       "      <td>4.5</td>\n",
       "      <td>1.00</td>\n",
       "    </tr>\n",
       "    <tr>\n",
       "      <th>1</th>\n",
       "      <td>14111-10561</td>\n",
       "      <td>7</td>\n",
       "      <td>4.5</td>\n",
       "      <td>3.50</td>\n",
       "    </tr>\n",
       "    <tr>\n",
       "      <th>2</th>\n",
       "      <td>14111-10561</td>\n",
       "      <td>8</td>\n",
       "      <td>4.5</td>\n",
       "      <td>3.50</td>\n",
       "    </tr>\n",
       "    <tr>\n",
       "      <th>3</th>\n",
       "      <td>14111-10561</td>\n",
       "      <td>9</td>\n",
       "      <td>4.5</td>\n",
       "      <td>3.75</td>\n",
       "    </tr>\n",
       "    <tr>\n",
       "      <th>4</th>\n",
       "      <td>14111-10561</td>\n",
       "      <td>10</td>\n",
       "      <td>4.5</td>\n",
       "      <td>4.00</td>\n",
       "    </tr>\n",
       "    <tr>\n",
       "      <th>...</th>\n",
       "      <td>...</td>\n",
       "      <td>...</td>\n",
       "      <td>...</td>\n",
       "      <td>...</td>\n",
       "    </tr>\n",
       "    <tr>\n",
       "      <th>945</th>\n",
       "      <td>95-999</td>\n",
       "      <td>19</td>\n",
       "      <td>4.5</td>\n",
       "      <td>3.25</td>\n",
       "    </tr>\n",
       "    <tr>\n",
       "      <th>946</th>\n",
       "      <td>95-999</td>\n",
       "      <td>20</td>\n",
       "      <td>4.5</td>\n",
       "      <td>3.50</td>\n",
       "    </tr>\n",
       "    <tr>\n",
       "      <th>947</th>\n",
       "      <td>95-999</td>\n",
       "      <td>21</td>\n",
       "      <td>4.5</td>\n",
       "      <td>1.75</td>\n",
       "    </tr>\n",
       "    <tr>\n",
       "      <th>948</th>\n",
       "      <td>95-999</td>\n",
       "      <td>22</td>\n",
       "      <td>4.5</td>\n",
       "      <td>2.25</td>\n",
       "    </tr>\n",
       "    <tr>\n",
       "      <th>949</th>\n",
       "      <td>95-999</td>\n",
       "      <td>23</td>\n",
       "      <td>4.5</td>\n",
       "      <td>3.00</td>\n",
       "    </tr>\n",
       "  </tbody>\n",
       "</table>\n",
       "<p>950 rows × 4 columns</p>\n",
       "</div>"
      ],
      "text/plain": [
       "        p_stp_id  hour  day_of_year  count\n",
       "0    14111-10561     6          4.5   1.00\n",
       "1    14111-10561     7          4.5   3.50\n",
       "2    14111-10561     8          4.5   3.50\n",
       "3    14111-10561     9          4.5   3.75\n",
       "4    14111-10561    10          4.5   4.00\n",
       "..           ...   ...          ...    ...\n",
       "945       95-999    19          4.5   3.25\n",
       "946       95-999    20          4.5   3.50\n",
       "947       95-999    21          4.5   1.75\n",
       "948       95-999    22          4.5   2.25\n",
       "949       95-999    23          4.5   3.00\n",
       "\n",
       "[950 rows x 4 columns]"
      ]
     },
     "execution_count": 29,
     "metadata": {},
     "output_type": "execute_result"
    }
   ],
   "source": [
    "test_group = sample.groupby(['p_stp_id', 'day_of_year','hour']).size().reset_index(name='count')\n",
    "test_group[test_group[\"p_stp_id\"] == '95-999']\n",
    "\n",
    "test_group.groupby(['p_stp_id', 'hour']).mean().reset_index()"
   ]
  }
 ],
 "metadata": {
  "kernelspec": {
   "display_name": ".venv",
   "language": "python",
   "name": "python3"
  },
  "language_info": {
   "codemirror_mode": {
    "name": "ipython",
    "version": 3
   },
   "file_extension": ".py",
   "mimetype": "text/x-python",
   "name": "python",
   "nbconvert_exporter": "python",
   "pygments_lexer": "ipython3",
   "version": "3.12.1"
  }
 },
 "nbformat": 4,
 "nbformat_minor": 2
}
