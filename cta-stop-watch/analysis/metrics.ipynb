{
 "cells": [
  {
   "cell_type": "code",
   "execution_count": 1,
   "metadata": {},
   "outputs": [],
   "source": [
    "import pandas as pd\n",
    "import geopandas as gpd\n",
    "import numpy as np\n",
    "import os\n",
    "import pathlib\n",
    "import pyarrow.parquet as pq\n",
    "import matplotlib.pyplot as plt\n",
    "import polars as pl\n",
    "from metrics import create_combined_metrics_df, create_all_metrics_df, create_trips_df"
   ]
  },
  {
   "cell_type": "code",
   "execution_count": 2,
   "metadata": {},
   "outputs": [],
   "source": [
    "test_df = create_trips_df('172', False)"
   ]
  },
  {
   "cell_type": "code",
   "execution_count": 2,
   "metadata": {},
   "outputs": [
    {
     "name": "stdout",
     "output_type": "stream",
     "text": [
      "Processing route 172 for is_schedule True\n",
      "Processing route 55 for is_schedule True\n",
      "Processing route 172 for is_schedule False\n",
      "Processing route 55 for is_schedule False\n",
      "Do not have pattern 20424 for route. Skipping\n"
     ]
    },
    {
     "ename": "SchemaError",
     "evalue": "type Int64 is incompatible with expected type String",
     "output_type": "error",
     "traceback": [
      "\u001b[0;31m---------------------------------------------------------------------------\u001b[0m",
      "\u001b[0;31mSchemaError\u001b[0m                               Traceback (most recent call last)",
      "Cell \u001b[0;32mIn[2], line 1\u001b[0m\n\u001b[0;32m----> 1\u001b[0m test_df \u001b[38;5;241m=\u001b[39m \u001b[43mcreate_combined_metrics_df\u001b[49m\u001b[43m(\u001b[49m\u001b[43m[\u001b[49m\u001b[38;5;124;43m'\u001b[39;49m\u001b[38;5;124;43m172\u001b[39;49m\u001b[38;5;124;43m'\u001b[39;49m\u001b[43m,\u001b[49m\u001b[43m \u001b[49m\u001b[38;5;124;43m'\u001b[39;49m\u001b[38;5;124;43m55\u001b[39;49m\u001b[38;5;124;43m'\u001b[39;49m\u001b[43m]\u001b[49m\u001b[43m)\u001b[49m\n",
      "File \u001b[0;32m~/Desktop/CAPP/cta-stop-watch/cta-stop-watch/analysis/metrics.py:321\u001b[0m, in \u001b[0;36mcreate_combined_metrics_df\u001b[0;34m(rts)\u001b[0m\n\u001b[1;32m    317\u001b[0m \u001b[38;5;250m\u001b[39m\u001b[38;5;124;03m\"\"\"\u001b[39;00m\n\u001b[1;32m    318\u001b[0m \u001b[38;5;124;03mFor all the routes, create a combined DataFrame with all the metrics for both scheduled and actual data.\u001b[39;00m\n\u001b[1;32m    319\u001b[0m \u001b[38;5;124;03m\"\"\"\u001b[39;00m\n\u001b[1;32m    320\u001b[0m scheduled_df \u001b[38;5;241m=\u001b[39m create_all_metrics_df(rts, is_schedule\u001b[38;5;241m=\u001b[39m\u001b[38;5;28;01mTrue\u001b[39;00m)\n\u001b[0;32m--> 321\u001b[0m actual_df \u001b[38;5;241m=\u001b[39m \u001b[43mcreate_all_metrics_df\u001b[49m\u001b[43m(\u001b[49m\u001b[43mrts\u001b[49m\u001b[43m,\u001b[49m\u001b[43m \u001b[49m\u001b[43mis_schedule\u001b[49m\u001b[38;5;241;43m=\u001b[39;49m\u001b[38;5;28;43;01mFalse\u001b[39;49;00m\u001b[43m)\u001b[49m\n\u001b[1;32m    323\u001b[0m scheduled_df \u001b[38;5;241m=\u001b[39m scheduled_df\u001b[38;5;241m.\u001b[39mwith_columns(\n\u001b[1;32m    324\u001b[0m     pl\u001b[38;5;241m.\u001b[39mcol(\u001b[38;5;124m\"\u001b[39m\u001b[38;5;124mpid\u001b[39m\u001b[38;5;124m\"\u001b[39m)\u001b[38;5;241m.\u001b[39mcast(pl\u001b[38;5;241m.\u001b[39mString), pl\u001b[38;5;241m.\u001b[39mcol(\u001b[38;5;124m\"\u001b[39m\u001b[38;5;124mstop_sequence\u001b[39m\u001b[38;5;124m\"\u001b[39m)\u001b[38;5;241m.\u001b[39mcast(pl\u001b[38;5;241m.\u001b[39mInt64)\n\u001b[1;32m    325\u001b[0m )\n\u001b[1;32m    327\u001b[0m combined_df \u001b[38;5;241m=\u001b[39m scheduled_df\u001b[38;5;241m.\u001b[39mjoin(\n\u001b[1;32m    328\u001b[0m     actual_df,\n\u001b[1;32m    329\u001b[0m     on\u001b[38;5;241m=\u001b[39m[\u001b[38;5;124m\"\u001b[39m\u001b[38;5;124mrt\u001b[39m\u001b[38;5;124m\"\u001b[39m, \u001b[38;5;124m\"\u001b[39m\u001b[38;5;124mpid\u001b[39m\u001b[38;5;124m\"\u001b[39m, \u001b[38;5;124m\"\u001b[39m\u001b[38;5;124mstop_id\u001b[39m\u001b[38;5;124m\"\u001b[39m, \u001b[38;5;124m\"\u001b[39m\u001b[38;5;124mstop_sequence\u001b[39m\u001b[38;5;124m\"\u001b[39m, \u001b[38;5;124m\"\u001b[39m\u001b[38;5;124mperiod\u001b[39m\u001b[38;5;124m\"\u001b[39m, \u001b[38;5;124m\"\u001b[39m\u001b[38;5;124mperiod_value\u001b[39m\u001b[38;5;124m\"\u001b[39m],\n\u001b[1;32m    330\u001b[0m     how\u001b[38;5;241m=\u001b[39m\u001b[38;5;124m\"\u001b[39m\u001b[38;5;124mfull\u001b[39m\u001b[38;5;124m\"\u001b[39m,\n\u001b[1;32m    331\u001b[0m     coalesce\u001b[38;5;241m=\u001b[39m\u001b[38;5;28;01mTrue\u001b[39;00m,\n\u001b[1;32m    332\u001b[0m )\n",
      "File \u001b[0;32m~/Desktop/CAPP/cta-stop-watch/cta-stop-watch/analysis/metrics.py:272\u001b[0m, in \u001b[0;36mcreate_all_metrics_df\u001b[0;34m(rts, is_schedule)\u001b[0m\n\u001b[1;32m    270\u001b[0m \u001b[38;5;28mprint\u001b[39m(\u001b[38;5;124mf\u001b[39m\u001b[38;5;124m\"\u001b[39m\u001b[38;5;124mProcessing route \u001b[39m\u001b[38;5;132;01m{\u001b[39;00mrt\u001b[38;5;132;01m}\u001b[39;00m\u001b[38;5;124m for is_schedule \u001b[39m\u001b[38;5;132;01m{\u001b[39;00mis_schedule\u001b[38;5;132;01m}\u001b[39;00m\u001b[38;5;124m\"\u001b[39m)\n\u001b[1;32m    271\u001b[0m \u001b[38;5;66;03m# try:\u001b[39;00m\n\u001b[0;32m--> 272\u001b[0m trips_df \u001b[38;5;241m=\u001b[39m \u001b[43mcreate_trips_df\u001b[49m\u001b[43m(\u001b[49m\u001b[43mrt\u001b[49m\u001b[38;5;241;43m=\u001b[39;49m\u001b[38;5;28;43mstr\u001b[39;49m\u001b[43m(\u001b[49m\u001b[43mrt\u001b[49m\u001b[43m)\u001b[49m\u001b[43m,\u001b[49m\u001b[43m \u001b[49m\u001b[43mis_schedule\u001b[49m\u001b[38;5;241;43m=\u001b[39;49m\u001b[43mis_schedule\u001b[49m\u001b[43m)\u001b[49m\n\u001b[1;32m    273\u001b[0m \u001b[38;5;66;03m# except Exception as e:\u001b[39;00m\n\u001b[1;32m    274\u001b[0m \u001b[38;5;66;03m# print(f\"issue with rt {rt}: {e}\")\u001b[39;00m\n\u001b[1;32m    275\u001b[0m \u001b[38;5;66;03m# continue\u001b[39;00m\n\u001b[1;32m    277\u001b[0m trips_df \u001b[38;5;241m=\u001b[39m time_to_next_stop(trips_df)\n",
      "File \u001b[0;32m~/Desktop/CAPP/cta-stop-watch/cta-stop-watch/analysis/metrics.py:70\u001b[0m, in \u001b[0;36mcreate_trips_df\u001b[0;34m(rt, is_schedule)\u001b[0m\n\u001b[1;32m     66\u001b[0m         df_trips \u001b[38;5;241m=\u001b[39m df_trips\u001b[38;5;241m.\u001b[39mdrop(\u001b[38;5;124m\"\u001b[39m\u001b[38;5;124mstop_dist\u001b[39m\u001b[38;5;124m\"\u001b[39m)\n\u001b[1;32m     68\u001b[0m     trips\u001b[38;5;241m.\u001b[39mappend(df_trips)\n\u001b[0;32m---> 70\u001b[0m df_trips_all \u001b[38;5;241m=\u001b[39m \u001b[43mpl\u001b[49m\u001b[38;5;241;43m.\u001b[39;49m\u001b[43mconcat\u001b[49m\u001b[43m(\u001b[49m\u001b[43mtrips\u001b[49m\u001b[43m)\u001b[49m\n\u001b[1;32m     72\u001b[0m \u001b[38;5;28;01mif\u001b[39;00m is_schedule:\n\u001b[1;32m     73\u001b[0m     df_trips_all \u001b[38;5;241m=\u001b[39m df_trips_all\u001b[38;5;241m.\u001b[39msort([\u001b[38;5;124m\"\u001b[39m\u001b[38;5;124mschd_trip_id\u001b[39m\u001b[38;5;124m\"\u001b[39m, \u001b[38;5;124m\"\u001b[39m\u001b[38;5;124mbus_stop_time\u001b[39m\u001b[38;5;124m\"\u001b[39m])\n",
      "File \u001b[0;32m~/Desktop/CAPP/cta-stop-watch/.venv/lib/python3.12/site-packages/polars/functions/eager.py:184\u001b[0m, in \u001b[0;36mconcat\u001b[0;34m(items, how, rechunk, parallel)\u001b[0m\n\u001b[1;32m    182\u001b[0m \u001b[38;5;28;01mif\u001b[39;00m \u001b[38;5;28misinstance\u001b[39m(first, pl\u001b[38;5;241m.\u001b[39mDataFrame):\n\u001b[1;32m    183\u001b[0m     \u001b[38;5;28;01mif\u001b[39;00m how \u001b[38;5;241m==\u001b[39m \u001b[38;5;124m\"\u001b[39m\u001b[38;5;124mvertical\u001b[39m\u001b[38;5;124m\"\u001b[39m:\n\u001b[0;32m--> 184\u001b[0m         out \u001b[38;5;241m=\u001b[39m wrap_df(\u001b[43mplr\u001b[49m\u001b[38;5;241;43m.\u001b[39;49m\u001b[43mconcat_df\u001b[49m\u001b[43m(\u001b[49m\u001b[43melems\u001b[49m\u001b[43m)\u001b[49m)\n\u001b[1;32m    185\u001b[0m     \u001b[38;5;28;01melif\u001b[39;00m how \u001b[38;5;241m==\u001b[39m \u001b[38;5;124m\"\u001b[39m\u001b[38;5;124mvertical_relaxed\u001b[39m\u001b[38;5;124m\"\u001b[39m:\n\u001b[1;32m    186\u001b[0m         out \u001b[38;5;241m=\u001b[39m wrap_ldf(\n\u001b[1;32m    187\u001b[0m             plr\u001b[38;5;241m.\u001b[39mconcat_lf(\n\u001b[1;32m    188\u001b[0m                 [df\u001b[38;5;241m.\u001b[39mlazy() \u001b[38;5;28;01mfor\u001b[39;00m df \u001b[38;5;129;01min\u001b[39;00m elems],\n\u001b[0;32m   (...)\u001b[0m\n\u001b[1;32m    192\u001b[0m             )\n\u001b[1;32m    193\u001b[0m         )\u001b[38;5;241m.\u001b[39mcollect(no_optimization\u001b[38;5;241m=\u001b[39m\u001b[38;5;28;01mTrue\u001b[39;00m)\n",
      "\u001b[0;31mSchemaError\u001b[0m: type Int64 is incompatible with expected type String"
     ]
    }
   ],
   "source": [
    "test_df = create_combined_metrics_df(['172', '55'])\n"
   ]
  },
  {
   "cell_type": "code",
   "execution_count": 3,
   "metadata": {},
   "outputs": [
    {
     "data": {
      "text/html": [
       "<div><style>\n",
       ".dataframe > thead > tr,\n",
       ".dataframe > tbody > tr {\n",
       "  text-align: right;\n",
       "  white-space: pre-wrap;\n",
       "}\n",
       "</style>\n",
       "<small>shape: (248_812, 63)</small><table border=\"1\" class=\"dataframe\"><thead><tr><th>rt</th><th>pid</th><th>stop_sequence</th><th>stop_id</th><th>period_value</th><th>median_schedule_time_till_next_bus</th><th>mean_schedule_time_till_next_bus</th><th>max_schedule_time_till_next_bus</th><th>min_schedule_time_till_next_bus</th><th>std_schedule_time_till_next_bus</th><th>q25_schedule_time_till_next_bus</th><th>q75_schedule_time_till_next_bus</th><th>period</th><th>median_schedule_time_to_previous_stop</th><th>mean_schedule_time_to_previous_stop</th><th>max_schedule_time_to_previous_stop</th><th>min_schedule_time_to_previous_stop</th><th>std_schedule_time_to_previous_stop</th><th>q25_schedule_time_to_previous_stop</th><th>q75_schedule_time_to_previous_stop</th><th>median_schedule_cum_trip_time</th><th>mean_schedule_cum_trip_time</th><th>max_schedule_cum_trip_time</th><th>min_schedule_cum_trip_time</th><th>std_schedule_cum_trip_time</th><th>q25_schedule_cum_trip_time</th><th>q75_schedule_cum_trip_time</th><th>median_schedule_num_buses</th><th>mean_schedule_num_buses</th><th>max_schedule_num_buses</th><th>min_schedule_num_buses</th><th>std_schedule_num_buses</th><th>q25_schedule_num_buses</th><th>q75_schedule_num_buses</th><th>median_actual_time_till_next_bus</th><th>mean_actual_time_till_next_bus</th><th>max_actual_time_till_next_bus</th><th>min_actual_time_till_next_bus</th><th>std_actual_time_till_next_bus</th><th>q25_actual_time_till_next_bus</th><th>q75_actual_time_till_next_bus</th><th>median_actual_time_to_previous_stop</th><th>mean_actual_time_to_previous_stop</th><th>max_actual_time_to_previous_stop</th><th>min_actual_time_to_previous_stop</th><th>std_actual_time_to_previous_stop</th><th>q25_actual_time_to_previous_stop</th><th>q75_actual_time_to_previous_stop</th><th>median_actual_cum_trip_time</th><th>mean_actual_cum_trip_time</th><th>max_actual_cum_trip_time</th><th>min_actual_cum_trip_time</th><th>std_actual_cum_trip_time</th><th>q25_actual_cum_trip_time</th><th>q75_actual_cum_trip_time</th><th>median_actual_num_buses</th><th>mean_actual_num_buses</th><th>max_actual_num_buses</th><th>min_actual_num_buses</th><th>std_actual_num_buses</th><th>q25_actual_num_buses</th><th>q75_actual_num_buses</th><th>time_till_next_bus_delay</th></tr><tr><td>str</td><td>str</td><td>i64</td><td>str</td><td>i32</td><td>f64</td><td>f64</td><td>f64</td><td>f64</td><td>f64</td><td>f64</td><td>f64</td><td>str</td><td>duration[ns]</td><td>duration[ns]</td><td>duration[ns]</td><td>duration[ns]</td><td>duration[ns]</td><td>duration[ns]</td><td>duration[ns]</td><td>duration[ns]</td><td>duration[ns]</td><td>duration[ns]</td><td>duration[ns]</td><td>duration[ns]</td><td>duration[ns]</td><td>duration[ns]</td><td>f64</td><td>f64</td><td>u32</td><td>u32</td><td>f64</td><td>f64</td><td>f64</td><td>f64</td><td>f64</td><td>f64</td><td>f64</td><td>f64</td><td>f64</td><td>f64</td><td>duration[ns]</td><td>duration[ns]</td><td>duration[ns]</td><td>duration[ns]</td><td>duration[ns]</td><td>duration[ns]</td><td>duration[ns]</td><td>duration[ns]</td><td>duration[ns]</td><td>duration[ns]</td><td>duration[ns]</td><td>duration[ns]</td><td>duration[ns]</td><td>duration[ns]</td><td>f64</td><td>f64</td><td>u32</td><td>u32</td><td>f64</td><td>f64</td><td>f64</td><td>f64</td></tr></thead><tbody><tr><td>&quot;1&quot;</td><td>&quot;06351&quot;</td><td>26</td><td>&quot;1605&quot;</td><td>8</td><td>16.5</td><td>16.582633</td><td>32.0</td><td>15.0</td><td>3.093704</td><td>15.5</td><td>17.0</td><td>&quot;hour&quot;</td><td>21s</td><td>20s 441176470ns</td><td>21s</td><td>0ns</td><td>3s 382163720ns</td><td>21s</td><td>21s</td><td>11m 8s</td><td>8h 49m 16s 372549019ns</td><td>5d 1m 28s</td><td>0ns</td><td>18h 51m 40s 495415623ns</td><td>4m 21s</td><td>23m 30s</td><td>4.0</td><td>3.859459</td><td>4</td><td>3</td><td>0.34849</td><td>4.0</td><td>4.0</td><td>null</td><td>null</td><td>null</td><td>null</td><td>null</td><td>null</td><td>null</td><td>null</td><td>null</td><td>null</td><td>null</td><td>null</td><td>null</td><td>null</td><td>null</td><td>null</td><td>null</td><td>null</td><td>null</td><td>null</td><td>null</td><td>null</td><td>null</td><td>null</td><td>null</td><td>null</td><td>null</td><td>null</td><td>null</td></tr><tr><td>&quot;7&quot;</td><td>&quot;04361&quot;</td><td>7</td><td>&quot;159&quot;</td><td>8</td><td>15.5</td><td>15.395833</td><td>17.083333</td><td>13.5</td><td>1.656026</td><td>14.0</td><td>17.0</td><td>&quot;hour&quot;</td><td>1m 1s</td><td>58s 699551569ns</td><td>1m 1s</td><td>0ns</td><td>7s 326339042ns</td><td>55s</td><td>1m 1s</td><td>23h 45m 52s</td><td>1d 10h 3m 30s 33632287ns</td><td>322d 1h 28m 37s</td><td>0ns</td><td>7d 15h 39m 25s 202591457ns</td><td>23h 22m 9s</td><td>23h 58m 59s</td><td>4.0</td><td>4.0</td><td>4</td><td>4</td><td>0.0</td><td>4.0</td><td>4.0</td><td>null</td><td>null</td><td>null</td><td>null</td><td>null</td><td>null</td><td>null</td><td>null</td><td>null</td><td>null</td><td>null</td><td>null</td><td>null</td><td>null</td><td>null</td><td>null</td><td>null</td><td>null</td><td>null</td><td>null</td><td>null</td><td>null</td><td>null</td><td>null</td><td>null</td><td>null</td><td>null</td><td>null</td><td>null</td></tr><tr><td>&quot;7&quot;</td><td>&quot;05912&quot;</td><td>35</td><td>&quot;227&quot;</td><td>19</td><td>18.5</td><td>18.5</td><td>19.5</td><td>17.5</td><td>0.791066</td><td>18.0</td><td>19.0</td><td>&quot;hour&quot;</td><td>33s</td><td>32s 336683417ns</td><td>33s</td><td>0ns</td><td>4s 634267881ns</td><td>33s</td><td>33s</td><td>26m 39s</td><td>12h 10m 59s 297738693ns</td><td>3d 33s</td><td>0ns</td><td>19h 32m 29s 91631531ns</td><td>11m 9s</td><td>23h 51m 7s</td><td>4.0</td><td>4.0</td><td>4</td><td>4</td><td>0.0</td><td>4.0</td><td>4.0</td><td>null</td><td>null</td><td>null</td><td>null</td><td>null</td><td>null</td><td>null</td><td>null</td><td>null</td><td>null</td><td>null</td><td>null</td><td>null</td><td>null</td><td>null</td><td>null</td><td>null</td><td>null</td><td>null</td><td>null</td><td>null</td><td>null</td><td>null</td><td>null</td><td>null</td><td>null</td><td>null</td><td>null</td><td>null</td></tr><tr><td>&quot;1&quot;</td><td>&quot;08085&quot;</td><td>17</td><td>&quot;14760&quot;</td><td>8</td><td>11.5</td><td>10.766142</td><td>11.516667</td><td>10.0</td><td>0.753744</td><td>10.0</td><td>11.5</td><td>&quot;hour&quot;</td><td>1m 3s</td><td>1m 1s 590799031ns</td><td>1m 6s</td><td>0ns</td><td>11s 676741454ns</td><td>1m 2s</td><td>1m 5s</td><td>12m 39s</td><td>17h 27m 57s 173123486ns</td><td>6d 23h 46m 45s</td><td>0ns</td><td>1d 1h 5m 32s 75070343ns</td><td>6m 9s</td><td>23h 52m 52s</td><td>2.0</td><td>1.912037</td><td>2</td><td>1</td><td>0.283569</td><td>2.0</td><td>2.0</td><td>null</td><td>null</td><td>null</td><td>null</td><td>null</td><td>null</td><td>null</td><td>null</td><td>null</td><td>null</td><td>null</td><td>null</td><td>null</td><td>null</td><td>null</td><td>null</td><td>null</td><td>null</td><td>null</td><td>null</td><td>null</td><td>null</td><td>null</td><td>null</td><td>null</td><td>null</td><td>null</td><td>null</td><td>null</td></tr><tr><td>&quot;7&quot;</td><td>&quot;05912&quot;</td><td>13</td><td>&quot;206&quot;</td><td>11</td><td>15.5</td><td>15.5</td><td>15.5</td><td>15.5</td><td>0.0</td><td>15.5</td><td>15.5</td><td>&quot;hour&quot;</td><td>2m 12s</td><td>2m 9s 773279352ns</td><td>2m 12s</td><td>2m 1s</td><td>4s 422899704ns</td><td>2m 12s</td><td>2m 12s</td><td>17m 12s</td><td>17m 12s 607287449ns</td><td>17m 15s</td><td>17m 12s</td><td>1s 206245374ns</td><td>17m 12s</td><td>17m 12s</td><td>3.0</td><td>3.0</td><td>3</td><td>3</td><td>0.0</td><td>3.0</td><td>3.0</td><td>null</td><td>null</td><td>null</td><td>null</td><td>null</td><td>null</td><td>null</td><td>null</td><td>null</td><td>null</td><td>null</td><td>null</td><td>null</td><td>null</td><td>null</td><td>null</td><td>null</td><td>null</td><td>null</td><td>null</td><td>null</td><td>null</td><td>null</td><td>null</td><td>null</td><td>null</td><td>null</td><td>null</td><td>null</td></tr><tr><td>&hellip;</td><td>&hellip;</td><td>&hellip;</td><td>&hellip;</td><td>&hellip;</td><td>&hellip;</td><td>&hellip;</td><td>&hellip;</td><td>&hellip;</td><td>&hellip;</td><td>&hellip;</td><td>&hellip;</td><td>&hellip;</td><td>&hellip;</td><td>&hellip;</td><td>&hellip;</td><td>&hellip;</td><td>&hellip;</td><td>&hellip;</td><td>&hellip;</td><td>&hellip;</td><td>&hellip;</td><td>&hellip;</td><td>&hellip;</td><td>&hellip;</td><td>&hellip;</td><td>&hellip;</td><td>&hellip;</td><td>&hellip;</td><td>&hellip;</td><td>&hellip;</td><td>&hellip;</td><td>&hellip;</td><td>&hellip;</td><td>&hellip;</td><td>&hellip;</td><td>&hellip;</td><td>&hellip;</td><td>&hellip;</td><td>&hellip;</td><td>&hellip;</td><td>&hellip;</td><td>&hellip;</td><td>&hellip;</td><td>&hellip;</td><td>&hellip;</td><td>&hellip;</td><td>&hellip;</td><td>&hellip;</td><td>&hellip;</td><td>&hellip;</td><td>&hellip;</td><td>&hellip;</td><td>&hellip;</td><td>&hellip;</td><td>&hellip;</td><td>&hellip;</td><td>&hellip;</td><td>&hellip;</td><td>&hellip;</td><td>&hellip;</td><td>&hellip;</td><td>&hellip;</td></tr><tr><td>&quot;172&quot;</td><td>&quot;14110.0&quot;</td><td>4</td><td>&quot;15671&quot;</td><td>203</td><td>null</td><td>null</td><td>null</td><td>null</td><td>null</td><td>null</td><td>null</td><td>&quot;dayofyear&quot;</td><td>null</td><td>null</td><td>null</td><td>null</td><td>null</td><td>null</td><td>null</td><td>null</td><td>null</td><td>null</td><td>null</td><td>null</td><td>null</td><td>null</td><td>null</td><td>null</td><td>null</td><td>null</td><td>null</td><td>null</td><td>null</td><td>20.933333</td><td>94.765556</td><td>779.933333</td><td>13.083333</td><td>209.176915</td><td>19.9</td><td>25.7</td><td>44s 227400972ns</td><td>51s 253730044ns</td><td>1m 37s 156683638ns</td><td>37s 677547370ns</td><td>17s 247590254ns</td><td>40s 548894604ns</td><td>59s 897800019ns</td><td>2m 52s 33305776ns</td><td>3m 55s 447891533ns</td><td>8m 34s 153874794ns</td><td>1m 47s 190835417ns</td><td>2m 25s 36228268ns</td><td>2m 23s 206334648ns</td><td>6m 31s 267401297ns</td><td>15.0</td><td>15.0</td><td>15</td><td>15</td><td>null</td><td>15.0</td><td>15.0</td><td>null</td></tr><tr><td>&quot;172&quot;</td><td>&quot;14103.0&quot;</td><td>2</td><td>&quot;15433&quot;</td><td>128</td><td>null</td><td>null</td><td>null</td><td>null</td><td>null</td><td>null</td><td>null</td><td>&quot;dayofyear&quot;</td><td>null</td><td>null</td><td>null</td><td>null</td><td>null</td><td>null</td><td>null</td><td>null</td><td>null</td><td>null</td><td>null</td><td>null</td><td>null</td><td>null</td><td>null</td><td>null</td><td>null</td><td>null</td><td>null</td><td>null</td><td>null</td><td>14.75</td><td>27.047248</td><td>732.283333</td><td>0.65</td><td>92.499102</td><td>8.766667</td><td>16.6</td><td>25s 919961501ns</td><td>59s 943274842ns</td><td>9m 33s 588071079ns</td><td>10s 436475593ns</td><td>1m 40s 206356715ns</td><td>16s 858585054ns</td><td>51s 107647364ns</td><td>25s 919961501ns</td><td>59s 943274842ns</td><td>9m 33s 588071079ns</td><td>10s 436475593ns</td><td>1m 40s 206356715ns</td><td>16s 858585054ns</td><td>51s 107647364ns</td><td>54.5</td><td>54.5</td><td>55</td><td>54</td><td>0.707107</td><td>54.0</td><td>55.0</td><td>null</td></tr><tr><td>&quot;172&quot;</td><td>&quot;14110.0&quot;</td><td>12</td><td>&quot;17846&quot;</td><td>234</td><td>null</td><td>null</td><td>null</td><td>null</td><td>null</td><td>null</td><td>null</td><td>&quot;dayofyear&quot;</td><td>null</td><td>null</td><td>null</td><td>null</td><td>null</td><td>null</td><td>null</td><td>null</td><td>null</td><td>null</td><td>null</td><td>null</td><td>null</td><td>null</td><td>null</td><td>null</td><td>null</td><td>null</td><td>null</td><td>null</td><td>null</td><td>13.991667</td><td>27.119136</td><td>732.3</td><td>0.35</td><td>92.781774</td><td>8.966667</td><td>17.666667</td><td>1m 15s 879112586ns</td><td>1m 16s 896906686ns</td><td>2m 49s 78558007ns</td><td>30s 66413336ns</td><td>32s 577356979ns</td><td>49s 404035869ns</td><td>1m 30s 59465242ns</td><td>14m 33s 552938492ns</td><td>15m 18s 966608716ns</td><td>30m 58s 1936125ns</td><td>8m 46s 610753578ns</td><td>3m 54s 103324403ns</td><td>12m 16s 504013349ns</td><td>17m 842014675ns</td><td>54.0</td><td>54.0</td><td>60</td><td>48</td><td>8.485281</td><td>48.0</td><td>60.0</td><td>null</td></tr><tr><td>&quot;172&quot;</td><td>&quot;14103.0&quot;</td><td>13</td><td>&quot;1647&quot;</td><td>274</td><td>null</td><td>null</td><td>null</td><td>null</td><td>null</td><td>null</td><td>null</td><td>&quot;dayofyear&quot;</td><td>null</td><td>null</td><td>null</td><td>null</td><td>null</td><td>null</td><td>null</td><td>null</td><td>null</td><td>null</td><td>null</td><td>null</td><td>null</td><td>null</td><td>null</td><td>null</td><td>null</td><td>null</td><td>null</td><td>null</td><td>null</td><td>30.266667</td><td>66.916667</td><td>843.0</td><td>22.95</td><td>167.735499</td><td>27.633333</td><td>33.0</td><td>43s 849325076ns</td><td>56s 18663260ns</td><td>3m 34s 829276022ns</td><td>29s 886061654ns</td><td>38s 171524208ns</td><td>36s 140373783ns</td><td>55s 49629593ns</td><td>14m 52s 541452158ns</td><td>15m 662053568ns</td><td>18m 45s 345700103ns</td><td>9m 40s 787533306ns</td><td>2m 35s 181148857ns</td><td>12m 47s 783357828ns</td><td>17m 36s 102862051ns</td><td>21.0</td><td>21.0</td><td>21</td><td>21</td><td>0.0</td><td>21.0</td><td>21.0</td><td>null</td></tr><tr><td>&quot;172&quot;</td><td>&quot;14110.0&quot;</td><td>15</td><td>&quot;14020&quot;</td><td>343</td><td>null</td><td>null</td><td>null</td><td>null</td><td>null</td><td>null</td><td>null</td><td>&quot;dayofyear&quot;</td><td>null</td><td>null</td><td>null</td><td>null</td><td>null</td><td>null</td><td>null</td><td>null</td><td>null</td><td>null</td><td>null</td><td>null</td><td>null</td><td>null</td><td>null</td><td>null</td><td>null</td><td>null</td><td>null</td><td>null</td><td>null</td><td>7.125</td><td>20.914167</td><td>760.633333</td><td>0.016667</td><td>84.685592</td><td>1.816667</td><td>14.816667</td><td>32s 787519352ns</td><td>49s 351458015ns</td><td>7m 21s 44215476ns</td><td>19s 841110556ns</td><td>53s 613247554ns</td><td>27s 878652857ns</td><td>42s 292370213ns</td><td>17m 17s 503479090ns</td><td>17m 55s 673945406ns</td><td>27m 49s 25942979ns</td><td>11m 44s 467558907ns</td><td>3m 38s 127614040ns</td><td>15m 11s 67821336ns</td><td>20m 25s 656712610ns</td><td>40.0</td><td>40.0</td><td>61</td><td>19</td><td>29.698485</td><td>19.0</td><td>61.0</td><td>null</td></tr></tbody></table></div>"
      ],
      "text/plain": [
       "shape: (248_812, 63)\n",
       "┌─────┬─────────┬─────────────┬─────────┬───┬─────────────┬─────────────┬─────────────┬────────────┐\n",
       "│ rt  ┆ pid     ┆ stop_sequen ┆ stop_id ┆ … ┆ std_actual_ ┆ q25_actual_ ┆ q75_actual_ ┆ time_till_ │\n",
       "│ --- ┆ ---     ┆ ce          ┆ ---     ┆   ┆ num_buses   ┆ num_buses   ┆ num_buses   ┆ next_bus_d │\n",
       "│ str ┆ str     ┆ ---         ┆ str     ┆   ┆ ---         ┆ ---         ┆ ---         ┆ elay       │\n",
       "│     ┆         ┆ i64         ┆         ┆   ┆ f64         ┆ f64         ┆ f64         ┆ ---        │\n",
       "│     ┆         ┆             ┆         ┆   ┆             ┆             ┆             ┆ f64        │\n",
       "╞═════╪═════════╪═════════════╪═════════╪═══╪═════════════╪═════════════╪═════════════╪════════════╡\n",
       "│ 1   ┆ 06351   ┆ 26          ┆ 1605    ┆ … ┆ null        ┆ null        ┆ null        ┆ null       │\n",
       "│ 7   ┆ 04361   ┆ 7           ┆ 159     ┆ … ┆ null        ┆ null        ┆ null        ┆ null       │\n",
       "│ 7   ┆ 05912   ┆ 35          ┆ 227     ┆ … ┆ null        ┆ null        ┆ null        ┆ null       │\n",
       "│ 1   ┆ 08085   ┆ 17          ┆ 14760   ┆ … ┆ null        ┆ null        ┆ null        ┆ null       │\n",
       "│ 7   ┆ 05912   ┆ 13          ┆ 206     ┆ … ┆ null        ┆ null        ┆ null        ┆ null       │\n",
       "│ …   ┆ …       ┆ …           ┆ …       ┆ … ┆ …           ┆ …           ┆ …           ┆ …          │\n",
       "│ 172 ┆ 14110.0 ┆ 4           ┆ 15671   ┆ … ┆ null        ┆ 15.0        ┆ 15.0        ┆ null       │\n",
       "│ 172 ┆ 14103.0 ┆ 2           ┆ 15433   ┆ … ┆ 0.707107    ┆ 54.0        ┆ 55.0        ┆ null       │\n",
       "│ 172 ┆ 14110.0 ┆ 12          ┆ 17846   ┆ … ┆ 8.485281    ┆ 48.0        ┆ 60.0        ┆ null       │\n",
       "│ 172 ┆ 14103.0 ┆ 13          ┆ 1647    ┆ … ┆ 0.0         ┆ 21.0        ┆ 21.0        ┆ null       │\n",
       "│ 172 ┆ 14110.0 ┆ 15          ┆ 14020   ┆ … ┆ 29.698485   ┆ 19.0        ┆ 61.0        ┆ null       │\n",
       "└─────┴─────────┴─────────────┴─────────┴───┴─────────────┴─────────────┴─────────────┴────────────┘"
      ]
     },
     "execution_count": 3,
     "metadata": {},
     "output_type": "execute_result"
    }
   ],
   "source": [
    "test_df"
   ]
  },
  {
   "cell_type": "code",
   "execution_count": 16,
   "metadata": {},
   "outputs": [],
   "source": [
    "def calculate_wait_times(rts: list, group_type:str, only_daytime:bool = True):\n",
    "\n",
    "    rt_to_pid = pd.read_parquet(\"rt_to_pid.parquet\")\n",
    "    pids = rt_to_pid[rt_to_pid['rt'].isin(rts)]['pid'].unique()\n",
    "    \n",
    "    trips = []\n",
    "    for pid in pids:\n",
    "        try:\n",
    "            df_trips = pl.read_parquet(f'../cta-stop-etl/out/trips/trips_{pid}_full.parquet')\n",
    "            df_trips = df_trips.to_pandas()\n",
    "        except:\n",
    "            print(f\"Do not have pattern {pid} for route. Skipping\")\n",
    "            continue\n",
    "\n",
    "        df_trips = df_trips[(df_trips['typ'] == 'S') & (df_trips['bus_stop_time'].dt.hour.between(6, 20) if only_daytime else True)]\n",
    "        df_trips['pid'] = int(pid)\n",
    "    \n",
    "        dict = df_trips.to_dict(orient=\"records\")\n",
    "        trips += dict\n",
    "\n",
    "    df_trips_all = pd.DataFrame(trips)\n",
    "\n",
    "    rt_to_pid = pd.read_parquet('rt_to_pid.parquet') \n",
    "    full_df = df_trips_all.merge(rt_to_pid, how=\"left\", on=\"pid\")\n",
    "\n",
    "    full_df = full_df.sort_values(['p_stp_id','bus_stop_time'])\n",
    "    full_df['wait_time_minutes'] = full_df.groupby('p_stp_id')['bus_stop_time'].diff().dt.total_seconds()/60\n",
    "\n",
    "\n",
    "    full_df['month'] = full_df['bus_stop_time'].dt.month\n",
    "    full_df['hour'] = full_df['bus_stop_time'].dt.hour\n",
    "    full_df['dayofweek'] = full_df['bus_stop_time'].dt.dayofweek\n",
    "    full_df['dayofyear'] = full_df['bus_stop_time'].dt.dayofyear\n",
    "\n",
    "\n",
    "    #grouped_df = full_df.groupby(['rt', group_type])['wait_time_minutes'].agg(['mean','median', 'std', 'count']).reset_index()\n",
    "    grouped_df = full_df.groupby(['rt', group_type])['wait_time_minutes'].agg(['mean','median', 'std', 'count']).reset_index()\n",
    "\n",
    "    grouped_df['ci95_hi'] = grouped_df['mean'] + 1.96*grouped_df['std']/np.sqrt(grouped_df['count'])\n",
    "    grouped_df['ci95_low'] = grouped_df['mean'] - 1.96*grouped_df['std']/np.sqrt(grouped_df['count'])\n",
    "        \n",
    "        \n",
    "    #     df_trips = df_trips.filter(pl.col('typ') == 'S')\n",
    "    #     df_trips = df_trips.with_columns(pl.lit(pid).cast(pl.Int64).alias('pid'))\n",
    "        \n",
    "    #     dicts = df_trips.to_dicts()\n",
    "    #     trips.extend(dicts)\n",
    "\n",
    "    # df_trips_all = pl.DataFrame(trips)\n",
    "    # rt_to_pid = pl.read_parquet('rt_to_pid.parquet') \n",
    "\n",
    "    # full_df = df_trips_all.join(rt_to_pid, on='pid', how='left')\n",
    "\n",
    "    # full_df = full_df.sort(by=['p_stp_id', 'bus_stop_time'])\n",
    "    # full_df = full_df.groupby(['p_stp_id']).with_columns(\n",
    "    #     (pl.col('bus_stop_time').diff().dt.total_seconds() / 60).alias('wait_time_minutes')\n",
    "    # )\n",
    "\n",
    "    # full_df = full_df.with_columns((pl.col('bus_stop_time').dt.hour()).alias('hour'), \n",
    "    #                   (pl.col('bus_stop_time').dt.month()).alias('month'),\n",
    "    #                   (pl.col('bus_stop_time').dt.year()).alias('year'),\n",
    "    #                     (pl.col('bus_stop_time').dt.day()).alias('day'))\n",
    "\n",
    "    # # Group by 'rt' and 'grouping', and compute aggregations\n",
    "    # grouped_df = (\n",
    "    #     full_df\n",
    "    #     .groupby(['rt', grouping])\n",
    "    #     .agg([pl.mean('wait_time_minutes').alias('mean'),\n",
    "    #           pl.median('wait_time_minutes').alias('median'),\n",
    "    #           pl.std('wait_time_minutes').alias('std'),\n",
    "    #           pl.count('wait_time_minutes').alias('count')\n",
    "    #           ])\n",
    "    # )\n",
    "\n",
    "    # # Compute the confidence intervals\n",
    "    # grouped_df = grouped_df.with_columns([\n",
    "    #     (pl.col('mean') + 1.96 * pl.col('std') / np.sqrt(pl.col('count'))).alias('ci95_hi'),\n",
    "    #     (pl.col('mean') - 1.96 * pl.col('std') / np.sqrt(pl.col('count'))).alias('ci95_low')\n",
    "    # ])\n",
    "\n",
    "\n",
    "    return grouped_df"
   ]
  },
  {
   "cell_type": "code",
   "execution_count": 7,
   "metadata": {},
   "outputs": [],
   "source": [
    "def chart_wait_times(grouped_df: pd.DataFrame,type:str):\n",
    "    rts = grouped_df['rt'].unique()\n",
    "    grouping = grouped_df.columns[1]\n",
    "\n",
    "    plt.figure(figsize=(10, 6))\n",
    "\n",
    "    # Plot a line for each month\n",
    "    for rt in rts:\n",
    "        subset = grouped_df[grouped_df['rt'] == rt]\n",
    "        plt.plot(subset[grouping], subset[type], marker='o', label=rt)\n",
    "        if type == 'mean':\n",
    "            plt.fill_between(subset[grouping], subset['ci95_hi'], subset['ci95_low'], alpha=0.2)\n",
    "\n",
    "    plt.xlabel(f\"{grouping}\")\n",
    "    plt.ylabel(f'{type} Wait Time (Minutes)')\n",
    "    plt.title(f'{type} Wait Time by {grouping}')\n",
    "    # plt.ylim(0, 60)\n",
    "    plt.legend(title='Route')\n",
    "    plt.grid(True)\n",
    "    plt.show()"
   ]
  },
  {
   "cell_type": "code",
   "execution_count": 19,
   "metadata": {},
   "outputs": [
    {
     "name": "stdout",
     "output_type": "stream",
     "text": [
      "Do not have pattern 19385 for route. Skipping\n"
     ]
    }
   ],
   "source": [
    "test_df = calculate_wait_times(['4'], 'month')"
   ]
  },
  {
   "cell_type": "code",
   "execution_count": null,
   "metadata": {},
   "outputs": [],
   "source": [
    "chart_wait_times(test_df,'median')"
   ]
  }
 ],
 "metadata": {
  "kernelspec": {
   "display_name": ".venv",
   "language": "python",
   "name": "python3"
  },
  "language_info": {
   "codemirror_mode": {
    "name": "ipython",
    "version": 3
   },
   "file_extension": ".py",
   "mimetype": "text/x-python",
   "name": "python",
   "nbconvert_exporter": "python",
   "pygments_lexer": "ipython3",
   "version": "3.12.1"
  }
 },
 "nbformat": 4,
 "nbformat_minor": 2
}
