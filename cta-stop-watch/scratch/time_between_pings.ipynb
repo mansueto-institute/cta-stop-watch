{
 "cells": [
  {
   "cell_type": "code",
   "execution_count": 2,
   "metadata": {},
   "outputs": [],
   "source": [
    "import pandas as pd"
   ]
  },
  {
   "cell_type": "markdown",
   "metadata": {},
   "source": [
    "## Exploring the time between bus pings for each route"
   ]
  },
  {
   "cell_type": "code",
   "execution_count": 16,
   "metadata": {},
   "outputs": [],
   "source": [
    "def avg_time_between_pings_one_pattern(pid:int):\n",
    "\n",
    "    one_pattern = pd.read_parquet(f\"../cta-stop-etl/out/pids/{pid}.parquet\")\n",
    "    one_pattern['data_time'] = pd.to_datetime(one_pattern['data_time'])\n",
    "    \n",
    "    #remove trips that only have 1 ping\n",
    "    one_pattern_edit = one_pattern.groupby('unique_trip_vehicle_day').filter(lambda x: len(x) != 1)\n",
    "\n",
    "    #one_pattern_edit.groupby('unique_trip_vehicle_day').apply(lambda x: x['data_time'].diff().dt.total_seconds().mean())\n",
    "    trip_avg_list = []\n",
    "    for row, (trip_id, trip_df) in enumerate(one_pattern_edit.groupby('unique_trip_vehicle_day')):\n",
    "        # average time between pings\n",
    "        avg_gap = trip_df['data_time'].diff().dt.total_seconds().mean()\n",
    "        trip_avg_list.append({'pid': pid, 'trip_id': trip_id, 'avg_time': avg_gap})\n",
    "\n",
    "    return pd.DataFrame(trip_avg_list)"
   ]
  },
  {
   "cell_type": "code",
   "execution_count": 17,
   "metadata": {},
   "outputs": [
    {
     "data": {
      "text/html": [
       "<div>\n",
       "<style scoped>\n",
       "    .dataframe tbody tr th:only-of-type {\n",
       "        vertical-align: middle;\n",
       "    }\n",
       "\n",
       "    .dataframe tbody tr th {\n",
       "        vertical-align: top;\n",
       "    }\n",
       "\n",
       "    .dataframe thead th {\n",
       "        text-align: right;\n",
       "    }\n",
       "</style>\n",
       "<table border=\"1\" class=\"dataframe\">\n",
       "  <thead>\n",
       "    <tr style=\"text-align: right;\">\n",
       "      <th></th>\n",
       "      <th>pid</th>\n",
       "      <th>trip_id</th>\n",
       "      <th>avg_time</th>\n",
       "    </tr>\n",
       "  </thead>\n",
       "  <tbody>\n",
       "    <tr>\n",
       "      <th>0</th>\n",
       "      <td>95</td>\n",
       "      <td>7295.0235314066107561419402023-01-04</td>\n",
       "      <td>300.000000</td>\n",
       "    </tr>\n",
       "    <tr>\n",
       "      <th>1</th>\n",
       "      <td>95</td>\n",
       "      <td>7295.0235314066107561419402023-01-05</td>\n",
       "      <td>300.000000</td>\n",
       "    </tr>\n",
       "    <tr>\n",
       "      <th>2</th>\n",
       "      <td>95</td>\n",
       "      <td>7295.0235314066107561481552023-01-03</td>\n",
       "      <td>300.000000</td>\n",
       "    </tr>\n",
       "    <tr>\n",
       "      <th>3</th>\n",
       "      <td>95</td>\n",
       "      <td>7295.0235314066107561481552023-01-04</td>\n",
       "      <td>300.000000</td>\n",
       "    </tr>\n",
       "    <tr>\n",
       "      <th>4</th>\n",
       "      <td>95</td>\n",
       "      <td>7295.0235314066107561481632023-01-06</td>\n",
       "      <td>300.000000</td>\n",
       "    </tr>\n",
       "    <tr>\n",
       "      <th>...</th>\n",
       "      <td>...</td>\n",
       "      <td>...</td>\n",
       "      <td>...</td>\n",
       "    </tr>\n",
       "    <tr>\n",
       "      <th>24511</th>\n",
       "      <td>95</td>\n",
       "      <td>7295.0252003915101011119292023-12-25</td>\n",
       "      <td>300.000000</td>\n",
       "    </tr>\n",
       "    <tr>\n",
       "      <th>24512</th>\n",
       "      <td>95</td>\n",
       "      <td>7295.0252003915101011119292023-12-26</td>\n",
       "      <td>300.000000</td>\n",
       "    </tr>\n",
       "    <tr>\n",
       "      <th>24513</th>\n",
       "      <td>95</td>\n",
       "      <td>7295.0252003915101011119492023-12-24</td>\n",
       "      <td>266.666667</td>\n",
       "    </tr>\n",
       "    <tr>\n",
       "      <th>24514</th>\n",
       "      <td>95</td>\n",
       "      <td>7295.0252003915101011119492023-12-25</td>\n",
       "      <td>300.000000</td>\n",
       "    </tr>\n",
       "    <tr>\n",
       "      <th>24515</th>\n",
       "      <td>95</td>\n",
       "      <td>7295.0252003915101011181602023-12-31</td>\n",
       "      <td>300.000000</td>\n",
       "    </tr>\n",
       "  </tbody>\n",
       "</table>\n",
       "<p>24516 rows × 3 columns</p>\n",
       "</div>"
      ],
      "text/plain": [
       "       pid                               trip_id    avg_time\n",
       "0       95  7295.0235314066107561419402023-01-04  300.000000\n",
       "1       95  7295.0235314066107561419402023-01-05  300.000000\n",
       "2       95  7295.0235314066107561481552023-01-03  300.000000\n",
       "3       95  7295.0235314066107561481552023-01-04  300.000000\n",
       "4       95  7295.0235314066107561481632023-01-06  300.000000\n",
       "...    ...                                   ...         ...\n",
       "24511   95  7295.0252003915101011119292023-12-25  300.000000\n",
       "24512   95  7295.0252003915101011119292023-12-26  300.000000\n",
       "24513   95  7295.0252003915101011119492023-12-24  266.666667\n",
       "24514   95  7295.0252003915101011119492023-12-25  300.000000\n",
       "24515   95  7295.0252003915101011181602023-12-31  300.000000\n",
       "\n",
       "[24516 rows x 3 columns]"
      ]
     },
     "execution_count": 17,
     "metadata": {},
     "output_type": "execute_result"
    }
   ],
   "source": [
    "pattern_95 = avg_time_between_pings_one_pattern(95)\n",
    "pattern_95"
   ]
  },
  {
   "cell_type": "code",
   "execution_count": 18,
   "metadata": {},
   "outputs": [
    {
     "data": {
      "text/plain": [
       "<Axes: >"
      ]
     },
     "execution_count": 18,
     "metadata": {},
     "output_type": "execute_result"
    },
    {
     "data": {
      "image/png": "[encoded data removed]",
      "text/plain": [
       "<Figure size 640x480 with 1 Axes>"
      ]
     },
     "metadata": {},
     "output_type": "display_data"
    }
   ],
   "source": [
    "pattern_95[(pattern_95[\"avg_time\"] != 300) & (pattern_95[\"avg_time\"] < 1000)][\"avg_time\"].hist(bins=100)  "
   ]
  }
 ],
 "metadata": {
  "kernelspec": {
   "display_name": ".venv",
   "language": "python",
   "name": "python3"
  },
  "language_info": {
   "codemirror_mode": {
    "name": "ipython",
    "version": 3
   },
   "file_extension": ".py",
   "mimetype": "text/x-python",
   "name": "python",
   "nbconvert_exporter": "python",
   "pygments_lexer": "ipython3",
   "version": "3.12.1"
  }
 },
 "nbformat": 4,
 "nbformat_minor": 2
}
