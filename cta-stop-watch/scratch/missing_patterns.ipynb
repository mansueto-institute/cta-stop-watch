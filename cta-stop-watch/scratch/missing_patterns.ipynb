{
 "cells": [
  {
   "cell_type": "code",
   "execution_count": 2,
   "metadata": {},
   "outputs": [],
   "source": [
    "import pandas as pd\n",
    "import duckdb\n",
    "import os\n",
    "import re"
   ]
  },
  {
   "cell_type": "code",
   "execution_count": 6,
   "metadata": {},
   "outputs": [],
   "source": [
    "def all_pids():\n",
    "    \"\"\"\n",
    "    Find list of all pids currently available.\n",
    "    \"\"\"\n",
    "    pattern_current_DIR = \"../cta-stop-etl/out/patterns_current\"\n",
    "    pattern_historic_DIR = \"../cta-stop-etl/out/patterns_historic\"\n",
    "\n",
    "    pids_c = []\n",
    "    for pid_file in os.listdir(pattern_current_DIR):\n",
    "\n",
    "        if not pid_file.endswith(\".parquet\"):\n",
    "            continue\n",
    "\n",
    "        numbers = re.findall(r\"\\d+\", pid_file)\n",
    "        pid = numbers[0]\n",
    "        pids_c.append(pid)\n",
    "\n",
    "    pids_h = []\n",
    "    for pid_file in os.listdir(pattern_historic_DIR):\n",
    "        if not pid_file.endswith(\".parquet\"):\n",
    "            continue\n",
    "\n",
    "        numbers = re.findall(r\"\\d+\", pid_file)\n",
    "        pid = numbers[0]\n",
    "        pids_h.append(pid)\n",
    "\n",
    "    pids = set(pids_c + pids_h)\n",
    "\n",
    "    return pids"
   ]
  },
  {
   "cell_type": "code",
   "execution_count": 16,
   "metadata": {},
   "outputs": [
    {
     "name": "stdout",
     "output_type": "stream",
     "text": [
      "859\n"
     ]
    }
   ],
   "source": [
    "\n",
    "\n",
    "pattern_pids = all_pids(\"../cta-stop-etl/out\") \n",
    "pattern_pids_df  = pd.DataFrame(list(pattern_pids), columns=[\"pid\"])\n",
    "print(len(pattern_pids_df.index))"
   ]
  },
  {
   "cell_type": "code",
   "execution_count": 15,
   "metadata": {},
   "outputs": [
    {
     "name": "stdout",
     "output_type": "stream",
     "text": [
      "948\n"
     ]
    }
   ],
   "source": [
    "\n",
    "trips_DIR = \"../cta-stop-etl/out/cta_bus_full_day_data_v2.parquet\"\n",
    "# combine with duckdb\n",
    "cmd_number = f\"\"\"\n",
    "SELECT cast(pid as int) as pid\n",
    "FROM read_parquet('{trips_DIR}')\n",
    "group by pid\n",
    "\"\"\"\n",
    "\n",
    "trip_pids = duckdb.execute(cmd_number).df()\n",
    "print(len(trip_pids.index))"
   ]
  },
  {
   "cell_type": "code",
   "execution_count": 11,
   "metadata": {},
   "outputs": [],
   "source": [
    "pattern_pids_df['pid_pattern'] = pattern_pids_df['pid'].astype(str)\n",
    "trip_pids['pid'] = trip_pids['pid'].astype(str)\n",
    "\n",
    "join_df = trip_pids.merge(pattern_pids_df, on='pid', how='left')"
   ]
  },
  {
   "cell_type": "code",
   "execution_count": 13,
   "metadata": {},
   "outputs": [
    {
     "name": "stdout",
     "output_type": "stream",
     "text": [
      "     pid pid_pattern\n",
      "0   1682        1682\n",
      "1   7570        7570\n",
      "2  10905       10905\n",
      "3   8147        8147\n",
      "4  10956       10956\n"
     ]
    },
    {
     "data": {
      "text/plain": [
       "59      5568\n",
       "64      5431\n",
       "65      8133\n",
       "67     10908\n",
       "68      6672\n",
       "       ...  \n",
       "892    10942\n",
       "934     7386\n",
       "937     2271\n",
       "939     1043\n",
       "943    19399\n",
       "Name: pid, Length: 103, dtype: object"
      ]
     },
     "execution_count": 13,
     "metadata": {},
     "output_type": "execute_result"
    }
   ],
   "source": [
    "print(join_df.head())\n",
    "\n",
    "join_df[join_df['pid_pattern'].isnull()]['pid']"
   ]
  }
 ],
 "metadata": {
  "kernelspec": {
   "display_name": ".venv",
   "language": "python",
   "name": "python3"
  },
  "language_info": {
   "codemirror_mode": {
    "name": "ipython",
    "version": 3
   },
   "file_extension": ".py",
   "mimetype": "text/x-python",
   "name": "python",
   "nbconvert_exporter": "python",
   "pygments_lexer": "ipython3",
   "version": "3.12.1"
  }
 },
 "nbformat": 4,
 "nbformat_minor": 2
}
