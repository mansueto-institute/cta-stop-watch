{
 "cells": [
  {
   "cell_type": "code",
   "execution_count": 2,
   "metadata": {},
   "outputs": [],
   "source": [
    "import pandas as pd\n",
    "import duckdb\n",
    "import os\n",
    "import re"
   ]
  },
  {
   "cell_type": "code",
   "execution_count": 6,
   "metadata": {},
   "outputs": [],
   "source": [
    "def all_pids(DIR):\n",
    "    \"\"\"\n",
    "    Find list of all pids currently available.\n",
    "    \"\"\"\n",
    "    pattern_current_DIR = \"../cta-stop-etl/out/patterns_current\"\n",
    "    pattern_historic_DIR = \"../cta-stop-etl/out/patterns_historic\"\n",
    "\n",
    "    pids_c = []\n",
    "    for pid_file in os.listdir(pattern_current_DIR):\n",
    "\n",
    "        if not pid_file.endswith(\".parquet\"):\n",
    "            continue\n",
    "\n",
    "        numbers = re.findall(r\"\\d+\", pid_file)\n",
    "        pid = numbers[0]\n",
    "        pids_c.append(pid)\n",
    "\n",
    "    pids_h = []\n",
    "    for pid_file in os.listdir(pattern_historic_DIR):\n",
    "        if not pid_file.endswith(\".parquet\"):\n",
    "            continue\n",
    "\n",
    "        numbers = re.findall(r\"\\d+\", pid_file)\n",
    "        pid = numbers[0]\n",
    "        pids_h.append(pid)\n",
    "\n",
    "    pids = set(pids_c + pids_h)\n",
    "\n",
    "    return pids"
   ]
  },
  {
   "cell_type": "code",
   "execution_count": 7,
   "metadata": {},
   "outputs": [],
   "source": [
    "pattern_pids = all_pids(\"../cta-stop-etl/out\") "
   ]
  },
  {
   "cell_type": "code",
   "execution_count": 4,
   "metadata": {},
   "outputs": [],
   "source": [
    "\n",
    "trips_DIR = \"../cta-stop-etl/out/cta_bus_full_day_data_v2.parquet\"\n",
    "# combine with duckdb\n",
    "cmd_number = f\"\"\"\n",
    "SELECT cast(pid as int) as pid\n",
    "FROM read_parquet('{trips_DIR}')\n",
    "group by pid\n",
    "\"\"\"\n",
    "\n",
    "trip_pids = duckdb.execute(cmd_number).df()"
   ]
  },
  {
   "cell_type": "code",
   "execution_count": null,
   "metadata": {},
   "outputs": [],
   "source": [
    "pattern_pids_df  = pd.DataFrame(list(pattern_pids), columns=[\"pid\"])"
   ]
  }
 ],
 "metadata": {
  "kernelspec": {
   "display_name": ".venv",
   "language": "python",
   "name": "python3"
  },
  "language_info": {
   "codemirror_mode": {
    "name": "ipython",
    "version": 3
   },
   "file_extension": ".py",
   "mimetype": "text/x-python",
   "name": "python",
   "nbconvert_exporter": "python",
   "pygments_lexer": "ipython3",
   "version": "3.12.4"
  }
 },
 "nbformat": 4,
 "nbformat_minor": 2
}
