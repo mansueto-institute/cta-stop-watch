{
 "cells": [
  {
   "cell_type": "code",
   "execution_count": null,
   "metadata": {},
   "outputs": [],
   "source": [
    "# https://www.transit.land/documentation/rest-api/feed_versions#downloading-source-gtfs\n",
    "# https://www.transit.land/feeds/f-dp3-cta#versions"
   ]
  },
  {
   "cell_type": "code",
   "execution_count": 40,
   "metadata": {},
   "outputs": [],
   "source": [
    "import requests\n",
    "from env import TRANSIT_LAND_API_KEY\n",
    "import pandas as pd\n",
    "\n",
    "URL = 'https://transit.land/api/v2/rest/'\n",
    "\n",
    "def get_feeds(): \n",
    "    response = requests.get(URL + 'feeds?api_key=' + TRANSIT_LAND_API_KEY + \"&onestop_id=f-dp3-cta\")\n",
    "    r = response.json()\n",
    "    df = pd.DataFrame(r['feeds'][0]['feed_versions'])\n",
    "    return df"
   ]
  },
  {
   "cell_type": "code",
   "execution_count": 41,
   "metadata": {},
   "outputs": [],
   "source": [
    "df = get_feeds()"
   ]
  },
  {
   "cell_type": "code",
   "execution_count": 46,
   "metadata": {},
   "outputs": [],
   "source": [
    "historic_feeds = df[df['earliest_calendar_date'] >= '2022-03-01']['sha1'].tolist()"
   ]
  },
  {
   "cell_type": "code",
   "execution_count": null,
   "metadata": {},
   "outputs": [],
   "source": [
    "URL = 'https://transit.land/api/v2/rest/feeds_versions/'\n",
    "\n",
    "\n",
    "def download_historic_feeds(): \n",
    "    for feed in historic_feeds: \n",
    "        response = requests.get(URL + feed + \"/download' \" + '?api_key=' + TRANSIT_LAND_API_KEY)\n",
    "        # do something"
   ]
  }
 ],
 "metadata": {
  "kernelspec": {
   "display_name": ".venv",
   "language": "python",
   "name": "python3"
  },
  "language_info": {
   "codemirror_mode": {
    "name": "ipython",
    "version": 3
   },
   "file_extension": ".py",
   "mimetype": "text/x-python",
   "name": "python",
   "nbconvert_exporter": "python",
   "pygments_lexer": "ipython3",
   "version": "3.12.1"
  }
 },
 "nbformat": 4,
 "nbformat_minor": 2
}
